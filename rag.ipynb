{
 "cells": [
  {
   "cell_type": "code",
   "execution_count": 1,
   "id": "bc15fc81",
   "metadata": {},
   "outputs": [],
   "source": [
    "from llama_index.core import ListIndex, SimpleDirectoryReader, VectorStoreIndex, Settings\n",
    "from dotenv import load_dotenv\n",
    "from llama_index.llms.ollama import  Ollama\n",
    "from llama_index.vector_stores.chroma import ChromaVectorStore\n",
    "from llama_index.core import StorageContext\n",
    "from llama_index.embeddings.ollama import OllamaEmbedding\n",
    "import chromadb"
   ]
  },
  {
   "cell_type": "code",
   "execution_count": 2,
   "id": "81c9e653",
   "metadata": {},
   "outputs": [
    {
     "data": {
      "text/plain": [
       "False"
      ]
     },
     "execution_count": 2,
     "metadata": {},
     "output_type": "execute_result"
    }
   ],
   "source": [
    "Settings.llm = Ollama(model=\"llama3.1:latest\", request_timeout=360.0, temperature=0.2, max_tokens=2048)\n",
    "load_dotenv()"
   ]
  },
  {
   "cell_type": "markdown",
   "id": "502d4d9e",
   "metadata": {},
   "source": [
    "# List Index"
   ]
  },
  {
   "cell_type": "code",
   "execution_count": 11,
   "id": "8b06855f",
   "metadata": {},
   "outputs": [
    {
     "ename": "KeyboardInterrupt",
     "evalue": "",
     "output_type": "error",
     "traceback": [
      "\u001b[0;31m---------------------------------------------------------------------------\u001b[0m",
      "\u001b[0;31mKeyboardInterrupt\u001b[0m                         Traceback (most recent call last)",
      "Cell \u001b[0;32mIn[11], line 4\u001b[0m\n\u001b[1;32m      2\u001b[0m index \u001b[38;5;241m=\u001b[39m ListIndex\u001b[38;5;241m.\u001b[39mfrom_documents(documents)\n\u001b[1;32m      3\u001b[0m query_engine \u001b[38;5;241m=\u001b[39m index\u001b[38;5;241m.\u001b[39mas_query_engine()\n\u001b[0;32m----> 4\u001b[0m response \u001b[38;5;241m=\u001b[39m \u001b[43mquery_engine\u001b[49m\u001b[38;5;241;43m.\u001b[39;49m\u001b[43mquery\u001b[49m\u001b[43m(\u001b[49m\u001b[38;5;124;43m\"\u001b[39;49m\u001b[38;5;124;43mWhat\u001b[39;49m\u001b[38;5;124;43m'\u001b[39;49m\u001b[38;5;124;43ms new with Baltimore Ravens?\u001b[39;49m\u001b[38;5;124;43m\"\u001b[39;49m\u001b[43m)\u001b[49m\n\u001b[1;32m      5\u001b[0m \u001b[38;5;28mprint\u001b[39m(response)\n",
      "File \u001b[0;32m~/miniconda3/envs/test/lib/python3.10/site-packages/llama_index/core/instrumentation/dispatcher.py:321\u001b[0m, in \u001b[0;36mDispatcher.span.<locals>.wrapper\u001b[0;34m(func, instance, args, kwargs)\u001b[0m\n\u001b[1;32m    318\u001b[0m             _logger\u001b[38;5;241m.\u001b[39mdebug(\u001b[38;5;124mf\u001b[39m\u001b[38;5;124m\"\u001b[39m\u001b[38;5;124mFailed to reset active_span_id: \u001b[39m\u001b[38;5;132;01m{\u001b[39;00me\u001b[38;5;132;01m}\u001b[39;00m\u001b[38;5;124m\"\u001b[39m)\n\u001b[1;32m    320\u001b[0m \u001b[38;5;28;01mtry\u001b[39;00m:\n\u001b[0;32m--> 321\u001b[0m     result \u001b[38;5;241m=\u001b[39m \u001b[43mfunc\u001b[49m\u001b[43m(\u001b[49m\u001b[38;5;241;43m*\u001b[39;49m\u001b[43margs\u001b[49m\u001b[43m,\u001b[49m\u001b[43m \u001b[49m\u001b[38;5;241;43m*\u001b[39;49m\u001b[38;5;241;43m*\u001b[39;49m\u001b[43mkwargs\u001b[49m\u001b[43m)\u001b[49m\n\u001b[1;32m    322\u001b[0m     \u001b[38;5;28;01mif\u001b[39;00m \u001b[38;5;28misinstance\u001b[39m(result, asyncio\u001b[38;5;241m.\u001b[39mFuture):\n\u001b[1;32m    323\u001b[0m         \u001b[38;5;66;03m# If the result is a Future, wrap it\u001b[39;00m\n\u001b[1;32m    324\u001b[0m         new_future \u001b[38;5;241m=\u001b[39m asyncio\u001b[38;5;241m.\u001b[39mensure_future(result)\n",
      "File \u001b[0;32m~/miniconda3/envs/test/lib/python3.10/site-packages/llama_index/core/base/base_query_engine.py:52\u001b[0m, in \u001b[0;36mBaseQueryEngine.query\u001b[0;34m(self, str_or_query_bundle)\u001b[0m\n\u001b[1;32m     50\u001b[0m     \u001b[38;5;28;01mif\u001b[39;00m \u001b[38;5;28misinstance\u001b[39m(str_or_query_bundle, \u001b[38;5;28mstr\u001b[39m):\n\u001b[1;32m     51\u001b[0m         str_or_query_bundle \u001b[38;5;241m=\u001b[39m QueryBundle(str_or_query_bundle)\n\u001b[0;32m---> 52\u001b[0m     query_result \u001b[38;5;241m=\u001b[39m \u001b[38;5;28;43mself\u001b[39;49m\u001b[38;5;241;43m.\u001b[39;49m\u001b[43m_query\u001b[49m\u001b[43m(\u001b[49m\u001b[43mstr_or_query_bundle\u001b[49m\u001b[43m)\u001b[49m\n\u001b[1;32m     53\u001b[0m dispatcher\u001b[38;5;241m.\u001b[39mevent(\n\u001b[1;32m     54\u001b[0m     QueryEndEvent(query\u001b[38;5;241m=\u001b[39mstr_or_query_bundle, response\u001b[38;5;241m=\u001b[39mquery_result)\n\u001b[1;32m     55\u001b[0m )\n\u001b[1;32m     56\u001b[0m \u001b[38;5;28;01mreturn\u001b[39;00m query_result\n",
      "File \u001b[0;32m~/miniconda3/envs/test/lib/python3.10/site-packages/llama_index/core/instrumentation/dispatcher.py:321\u001b[0m, in \u001b[0;36mDispatcher.span.<locals>.wrapper\u001b[0;34m(func, instance, args, kwargs)\u001b[0m\n\u001b[1;32m    318\u001b[0m             _logger\u001b[38;5;241m.\u001b[39mdebug(\u001b[38;5;124mf\u001b[39m\u001b[38;5;124m\"\u001b[39m\u001b[38;5;124mFailed to reset active_span_id: \u001b[39m\u001b[38;5;132;01m{\u001b[39;00me\u001b[38;5;132;01m}\u001b[39;00m\u001b[38;5;124m\"\u001b[39m)\n\u001b[1;32m    320\u001b[0m \u001b[38;5;28;01mtry\u001b[39;00m:\n\u001b[0;32m--> 321\u001b[0m     result \u001b[38;5;241m=\u001b[39m \u001b[43mfunc\u001b[49m\u001b[43m(\u001b[49m\u001b[38;5;241;43m*\u001b[39;49m\u001b[43margs\u001b[49m\u001b[43m,\u001b[49m\u001b[43m \u001b[49m\u001b[38;5;241;43m*\u001b[39;49m\u001b[38;5;241;43m*\u001b[39;49m\u001b[43mkwargs\u001b[49m\u001b[43m)\u001b[49m\n\u001b[1;32m    322\u001b[0m     \u001b[38;5;28;01mif\u001b[39;00m \u001b[38;5;28misinstance\u001b[39m(result, asyncio\u001b[38;5;241m.\u001b[39mFuture):\n\u001b[1;32m    323\u001b[0m         \u001b[38;5;66;03m# If the result is a Future, wrap it\u001b[39;00m\n\u001b[1;32m    324\u001b[0m         new_future \u001b[38;5;241m=\u001b[39m asyncio\u001b[38;5;241m.\u001b[39mensure_future(result)\n",
      "File \u001b[0;32m~/miniconda3/envs/test/lib/python3.10/site-packages/llama_index/core/query_engine/retriever_query_engine.py:179\u001b[0m, in \u001b[0;36mRetrieverQueryEngine._query\u001b[0;34m(self, query_bundle)\u001b[0m\n\u001b[1;32m    175\u001b[0m \u001b[38;5;28;01mwith\u001b[39;00m \u001b[38;5;28mself\u001b[39m\u001b[38;5;241m.\u001b[39mcallback_manager\u001b[38;5;241m.\u001b[39mevent(\n\u001b[1;32m    176\u001b[0m     CBEventType\u001b[38;5;241m.\u001b[39mQUERY, payload\u001b[38;5;241m=\u001b[39m{EventPayload\u001b[38;5;241m.\u001b[39mQUERY_STR: query_bundle\u001b[38;5;241m.\u001b[39mquery_str}\n\u001b[1;32m    177\u001b[0m ) \u001b[38;5;28;01mas\u001b[39;00m query_event:\n\u001b[1;32m    178\u001b[0m     nodes \u001b[38;5;241m=\u001b[39m \u001b[38;5;28mself\u001b[39m\u001b[38;5;241m.\u001b[39mretrieve(query_bundle)\n\u001b[0;32m--> 179\u001b[0m     response \u001b[38;5;241m=\u001b[39m \u001b[38;5;28;43mself\u001b[39;49m\u001b[38;5;241;43m.\u001b[39;49m\u001b[43m_response_synthesizer\u001b[49m\u001b[38;5;241;43m.\u001b[39;49m\u001b[43msynthesize\u001b[49m\u001b[43m(\u001b[49m\n\u001b[1;32m    180\u001b[0m \u001b[43m        \u001b[49m\u001b[43mquery\u001b[49m\u001b[38;5;241;43m=\u001b[39;49m\u001b[43mquery_bundle\u001b[49m\u001b[43m,\u001b[49m\n\u001b[1;32m    181\u001b[0m \u001b[43m        \u001b[49m\u001b[43mnodes\u001b[49m\u001b[38;5;241;43m=\u001b[39;49m\u001b[43mnodes\u001b[49m\u001b[43m,\u001b[49m\n\u001b[1;32m    182\u001b[0m \u001b[43m    \u001b[49m\u001b[43m)\u001b[49m\n\u001b[1;32m    183\u001b[0m     query_event\u001b[38;5;241m.\u001b[39mon_end(payload\u001b[38;5;241m=\u001b[39m{EventPayload\u001b[38;5;241m.\u001b[39mRESPONSE: response})\n\u001b[1;32m    185\u001b[0m \u001b[38;5;28;01mreturn\u001b[39;00m response\n",
      "File \u001b[0;32m~/miniconda3/envs/test/lib/python3.10/site-packages/llama_index/core/instrumentation/dispatcher.py:321\u001b[0m, in \u001b[0;36mDispatcher.span.<locals>.wrapper\u001b[0;34m(func, instance, args, kwargs)\u001b[0m\n\u001b[1;32m    318\u001b[0m             _logger\u001b[38;5;241m.\u001b[39mdebug(\u001b[38;5;124mf\u001b[39m\u001b[38;5;124m\"\u001b[39m\u001b[38;5;124mFailed to reset active_span_id: \u001b[39m\u001b[38;5;132;01m{\u001b[39;00me\u001b[38;5;132;01m}\u001b[39;00m\u001b[38;5;124m\"\u001b[39m)\n\u001b[1;32m    320\u001b[0m \u001b[38;5;28;01mtry\u001b[39;00m:\n\u001b[0;32m--> 321\u001b[0m     result \u001b[38;5;241m=\u001b[39m \u001b[43mfunc\u001b[49m\u001b[43m(\u001b[49m\u001b[38;5;241;43m*\u001b[39;49m\u001b[43margs\u001b[49m\u001b[43m,\u001b[49m\u001b[43m \u001b[49m\u001b[38;5;241;43m*\u001b[39;49m\u001b[38;5;241;43m*\u001b[39;49m\u001b[43mkwargs\u001b[49m\u001b[43m)\u001b[49m\n\u001b[1;32m    322\u001b[0m     \u001b[38;5;28;01mif\u001b[39;00m \u001b[38;5;28misinstance\u001b[39m(result, asyncio\u001b[38;5;241m.\u001b[39mFuture):\n\u001b[1;32m    323\u001b[0m         \u001b[38;5;66;03m# If the result is a Future, wrap it\u001b[39;00m\n\u001b[1;32m    324\u001b[0m         new_future \u001b[38;5;241m=\u001b[39m asyncio\u001b[38;5;241m.\u001b[39mensure_future(result)\n",
      "File \u001b[0;32m~/miniconda3/envs/test/lib/python3.10/site-packages/llama_index/core/response_synthesizers/base.py:241\u001b[0m, in \u001b[0;36mBaseSynthesizer.synthesize\u001b[0;34m(self, query, nodes, additional_source_nodes, **response_kwargs)\u001b[0m\n\u001b[1;32m    235\u001b[0m     query \u001b[38;5;241m=\u001b[39m QueryBundle(query_str\u001b[38;5;241m=\u001b[39mquery)\n\u001b[1;32m    237\u001b[0m \u001b[38;5;28;01mwith\u001b[39;00m \u001b[38;5;28mself\u001b[39m\u001b[38;5;241m.\u001b[39m_callback_manager\u001b[38;5;241m.\u001b[39mevent(\n\u001b[1;32m    238\u001b[0m     CBEventType\u001b[38;5;241m.\u001b[39mSYNTHESIZE,\n\u001b[1;32m    239\u001b[0m     payload\u001b[38;5;241m=\u001b[39m{EventPayload\u001b[38;5;241m.\u001b[39mQUERY_STR: query\u001b[38;5;241m.\u001b[39mquery_str},\n\u001b[1;32m    240\u001b[0m ) \u001b[38;5;28;01mas\u001b[39;00m event:\n\u001b[0;32m--> 241\u001b[0m     response_str \u001b[38;5;241m=\u001b[39m \u001b[38;5;28;43mself\u001b[39;49m\u001b[38;5;241;43m.\u001b[39;49m\u001b[43mget_response\u001b[49m\u001b[43m(\u001b[49m\n\u001b[1;32m    242\u001b[0m \u001b[43m        \u001b[49m\u001b[43mquery_str\u001b[49m\u001b[38;5;241;43m=\u001b[39;49m\u001b[43mquery\u001b[49m\u001b[38;5;241;43m.\u001b[39;49m\u001b[43mquery_str\u001b[49m\u001b[43m,\u001b[49m\n\u001b[1;32m    243\u001b[0m \u001b[43m        \u001b[49m\u001b[43mtext_chunks\u001b[49m\u001b[38;5;241;43m=\u001b[39;49m\u001b[43m[\u001b[49m\n\u001b[1;32m    244\u001b[0m \u001b[43m            \u001b[49m\u001b[43mn\u001b[49m\u001b[38;5;241;43m.\u001b[39;49m\u001b[43mnode\u001b[49m\u001b[38;5;241;43m.\u001b[39;49m\u001b[43mget_content\u001b[49m\u001b[43m(\u001b[49m\u001b[43mmetadata_mode\u001b[49m\u001b[38;5;241;43m=\u001b[39;49m\u001b[43mMetadataMode\u001b[49m\u001b[38;5;241;43m.\u001b[39;49m\u001b[43mLLM\u001b[49m\u001b[43m)\u001b[49m\u001b[43m \u001b[49m\u001b[38;5;28;43;01mfor\u001b[39;49;00m\u001b[43m \u001b[49m\u001b[43mn\u001b[49m\u001b[43m \u001b[49m\u001b[38;5;129;43;01min\u001b[39;49;00m\u001b[43m \u001b[49m\u001b[43mnodes\u001b[49m\n\u001b[1;32m    245\u001b[0m \u001b[43m        \u001b[49m\u001b[43m]\u001b[49m\u001b[43m,\u001b[49m\n\u001b[1;32m    246\u001b[0m \u001b[43m        \u001b[49m\u001b[38;5;241;43m*\u001b[39;49m\u001b[38;5;241;43m*\u001b[39;49m\u001b[43mresponse_kwargs\u001b[49m\u001b[43m,\u001b[49m\n\u001b[1;32m    247\u001b[0m \u001b[43m    \u001b[49m\u001b[43m)\u001b[49m\n\u001b[1;32m    249\u001b[0m     additional_source_nodes \u001b[38;5;241m=\u001b[39m additional_source_nodes \u001b[38;5;129;01mor\u001b[39;00m []\n\u001b[1;32m    250\u001b[0m     source_nodes \u001b[38;5;241m=\u001b[39m \u001b[38;5;28mlist\u001b[39m(nodes) \u001b[38;5;241m+\u001b[39m \u001b[38;5;28mlist\u001b[39m(additional_source_nodes)\n",
      "File \u001b[0;32m~/miniconda3/envs/test/lib/python3.10/site-packages/llama_index/core/instrumentation/dispatcher.py:321\u001b[0m, in \u001b[0;36mDispatcher.span.<locals>.wrapper\u001b[0;34m(func, instance, args, kwargs)\u001b[0m\n\u001b[1;32m    318\u001b[0m             _logger\u001b[38;5;241m.\u001b[39mdebug(\u001b[38;5;124mf\u001b[39m\u001b[38;5;124m\"\u001b[39m\u001b[38;5;124mFailed to reset active_span_id: \u001b[39m\u001b[38;5;132;01m{\u001b[39;00me\u001b[38;5;132;01m}\u001b[39;00m\u001b[38;5;124m\"\u001b[39m)\n\u001b[1;32m    320\u001b[0m \u001b[38;5;28;01mtry\u001b[39;00m:\n\u001b[0;32m--> 321\u001b[0m     result \u001b[38;5;241m=\u001b[39m \u001b[43mfunc\u001b[49m\u001b[43m(\u001b[49m\u001b[38;5;241;43m*\u001b[39;49m\u001b[43margs\u001b[49m\u001b[43m,\u001b[49m\u001b[43m \u001b[49m\u001b[38;5;241;43m*\u001b[39;49m\u001b[38;5;241;43m*\u001b[39;49m\u001b[43mkwargs\u001b[49m\u001b[43m)\u001b[49m\n\u001b[1;32m    322\u001b[0m     \u001b[38;5;28;01mif\u001b[39;00m \u001b[38;5;28misinstance\u001b[39m(result, asyncio\u001b[38;5;241m.\u001b[39mFuture):\n\u001b[1;32m    323\u001b[0m         \u001b[38;5;66;03m# If the result is a Future, wrap it\u001b[39;00m\n\u001b[1;32m    324\u001b[0m         new_future \u001b[38;5;241m=\u001b[39m asyncio\u001b[38;5;241m.\u001b[39mensure_future(result)\n",
      "File \u001b[0;32m~/miniconda3/envs/test/lib/python3.10/site-packages/llama_index/core/response_synthesizers/compact_and_refine.py:43\u001b[0m, in \u001b[0;36mCompactAndRefine.get_response\u001b[0;34m(self, query_str, text_chunks, prev_response, **response_kwargs)\u001b[0m\n\u001b[1;32m     39\u001b[0m \u001b[38;5;66;03m# use prompt helper to fix compact text_chunks under the prompt limitation\u001b[39;00m\n\u001b[1;32m     40\u001b[0m \u001b[38;5;66;03m# TODO: This is a temporary fix - reason it's temporary is that\u001b[39;00m\n\u001b[1;32m     41\u001b[0m \u001b[38;5;66;03m# the refine template does not account for size of previous answer.\u001b[39;00m\n\u001b[1;32m     42\u001b[0m new_texts \u001b[38;5;241m=\u001b[39m \u001b[38;5;28mself\u001b[39m\u001b[38;5;241m.\u001b[39m_make_compact_text_chunks(query_str, text_chunks)\n\u001b[0;32m---> 43\u001b[0m \u001b[38;5;28;01mreturn\u001b[39;00m \u001b[38;5;28;43msuper\u001b[39;49m\u001b[43m(\u001b[49m\u001b[43m)\u001b[49m\u001b[38;5;241;43m.\u001b[39;49m\u001b[43mget_response\u001b[49m\u001b[43m(\u001b[49m\n\u001b[1;32m     44\u001b[0m \u001b[43m    \u001b[49m\u001b[43mquery_str\u001b[49m\u001b[38;5;241;43m=\u001b[39;49m\u001b[43mquery_str\u001b[49m\u001b[43m,\u001b[49m\n\u001b[1;32m     45\u001b[0m \u001b[43m    \u001b[49m\u001b[43mtext_chunks\u001b[49m\u001b[38;5;241;43m=\u001b[39;49m\u001b[43mnew_texts\u001b[49m\u001b[43m,\u001b[49m\n\u001b[1;32m     46\u001b[0m \u001b[43m    \u001b[49m\u001b[43mprev_response\u001b[49m\u001b[38;5;241;43m=\u001b[39;49m\u001b[43mprev_response\u001b[49m\u001b[43m,\u001b[49m\n\u001b[1;32m     47\u001b[0m \u001b[43m    \u001b[49m\u001b[38;5;241;43m*\u001b[39;49m\u001b[38;5;241;43m*\u001b[39;49m\u001b[43mresponse_kwargs\u001b[49m\u001b[43m,\u001b[49m\n\u001b[1;32m     48\u001b[0m \u001b[43m\u001b[49m\u001b[43m)\u001b[49m\n",
      "File \u001b[0;32m~/miniconda3/envs/test/lib/python3.10/site-packages/llama_index/core/instrumentation/dispatcher.py:321\u001b[0m, in \u001b[0;36mDispatcher.span.<locals>.wrapper\u001b[0;34m(func, instance, args, kwargs)\u001b[0m\n\u001b[1;32m    318\u001b[0m             _logger\u001b[38;5;241m.\u001b[39mdebug(\u001b[38;5;124mf\u001b[39m\u001b[38;5;124m\"\u001b[39m\u001b[38;5;124mFailed to reset active_span_id: \u001b[39m\u001b[38;5;132;01m{\u001b[39;00me\u001b[38;5;132;01m}\u001b[39;00m\u001b[38;5;124m\"\u001b[39m)\n\u001b[1;32m    320\u001b[0m \u001b[38;5;28;01mtry\u001b[39;00m:\n\u001b[0;32m--> 321\u001b[0m     result \u001b[38;5;241m=\u001b[39m \u001b[43mfunc\u001b[49m\u001b[43m(\u001b[49m\u001b[38;5;241;43m*\u001b[39;49m\u001b[43margs\u001b[49m\u001b[43m,\u001b[49m\u001b[43m \u001b[49m\u001b[38;5;241;43m*\u001b[39;49m\u001b[38;5;241;43m*\u001b[39;49m\u001b[43mkwargs\u001b[49m\u001b[43m)\u001b[49m\n\u001b[1;32m    322\u001b[0m     \u001b[38;5;28;01mif\u001b[39;00m \u001b[38;5;28misinstance\u001b[39m(result, asyncio\u001b[38;5;241m.\u001b[39mFuture):\n\u001b[1;32m    323\u001b[0m         \u001b[38;5;66;03m# If the result is a Future, wrap it\u001b[39;00m\n\u001b[1;32m    324\u001b[0m         new_future \u001b[38;5;241m=\u001b[39m asyncio\u001b[38;5;241m.\u001b[39mensure_future(result)\n",
      "File \u001b[0;32m~/miniconda3/envs/test/lib/python3.10/site-packages/llama_index/core/response_synthesizers/refine.py:184\u001b[0m, in \u001b[0;36mRefine.get_response\u001b[0;34m(self, query_str, text_chunks, prev_response, **response_kwargs)\u001b[0m\n\u001b[1;32m    179\u001b[0m         response \u001b[38;5;241m=\u001b[39m \u001b[38;5;28mself\u001b[39m\u001b[38;5;241m.\u001b[39m_give_response_single(\n\u001b[1;32m    180\u001b[0m             query_str, text_chunk, \u001b[38;5;241m*\u001b[39m\u001b[38;5;241m*\u001b[39mresponse_kwargs\n\u001b[1;32m    181\u001b[0m         )\n\u001b[1;32m    182\u001b[0m     \u001b[38;5;28;01melse\u001b[39;00m:\n\u001b[1;32m    183\u001b[0m         \u001b[38;5;66;03m# refine response if possible\u001b[39;00m\n\u001b[0;32m--> 184\u001b[0m         response \u001b[38;5;241m=\u001b[39m \u001b[38;5;28;43mself\u001b[39;49m\u001b[38;5;241;43m.\u001b[39;49m\u001b[43m_refine_response_single\u001b[49m\u001b[43m(\u001b[49m\n\u001b[1;32m    185\u001b[0m \u001b[43m            \u001b[49m\u001b[43mprev_response\u001b[49m\u001b[43m,\u001b[49m\u001b[43m \u001b[49m\u001b[43mquery_str\u001b[49m\u001b[43m,\u001b[49m\u001b[43m \u001b[49m\u001b[43mtext_chunk\u001b[49m\u001b[43m,\u001b[49m\u001b[43m \u001b[49m\u001b[38;5;241;43m*\u001b[39;49m\u001b[38;5;241;43m*\u001b[39;49m\u001b[43mresponse_kwargs\u001b[49m\n\u001b[1;32m    186\u001b[0m \u001b[43m        \u001b[49m\u001b[43m)\u001b[49m\n\u001b[1;32m    187\u001b[0m     prev_response \u001b[38;5;241m=\u001b[39m response\n\u001b[1;32m    188\u001b[0m \u001b[38;5;28;01mif\u001b[39;00m \u001b[38;5;28misinstance\u001b[39m(response, \u001b[38;5;28mstr\u001b[39m):\n",
      "File \u001b[0;32m~/miniconda3/envs/test/lib/python3.10/site-packages/llama_index/core/response_synthesizers/refine.py:321\u001b[0m, in \u001b[0;36mRefine._refine_response_single\u001b[0;34m(self, response, query_str, text_chunk, **response_kwargs)\u001b[0m\n\u001b[1;32m    317\u001b[0m \u001b[38;5;28;01mif\u001b[39;00m \u001b[38;5;129;01mnot\u001b[39;00m \u001b[38;5;28mself\u001b[39m\u001b[38;5;241m.\u001b[39m_streaming:\n\u001b[1;32m    318\u001b[0m     \u001b[38;5;28;01mtry\u001b[39;00m:\n\u001b[1;32m    319\u001b[0m         structured_response \u001b[38;5;241m=\u001b[39m cast(\n\u001b[1;32m    320\u001b[0m             StructuredRefineResponse,\n\u001b[0;32m--> 321\u001b[0m             \u001b[43mprogram\u001b[49m\u001b[43m(\u001b[49m\n\u001b[1;32m    322\u001b[0m \u001b[43m                \u001b[49m\u001b[43mcontext_msg\u001b[49m\u001b[38;5;241;43m=\u001b[39;49m\u001b[43mcur_text_chunk\u001b[49m\u001b[43m,\u001b[49m\n\u001b[1;32m    323\u001b[0m \u001b[43m                \u001b[49m\u001b[38;5;241;43m*\u001b[39;49m\u001b[38;5;241;43m*\u001b[39;49m\u001b[43mresponse_kwargs\u001b[49m\u001b[43m,\u001b[49m\n\u001b[1;32m    324\u001b[0m \u001b[43m            \u001b[49m\u001b[43m)\u001b[49m,\n\u001b[1;32m    325\u001b[0m         )\n\u001b[1;32m    326\u001b[0m         query_satisfied \u001b[38;5;241m=\u001b[39m structured_response\u001b[38;5;241m.\u001b[39mquery_satisfied\n\u001b[1;32m    327\u001b[0m         \u001b[38;5;28;01mif\u001b[39;00m query_satisfied:\n",
      "File \u001b[0;32m~/miniconda3/envs/test/lib/python3.10/site-packages/llama_index/core/instrumentation/dispatcher.py:321\u001b[0m, in \u001b[0;36mDispatcher.span.<locals>.wrapper\u001b[0;34m(func, instance, args, kwargs)\u001b[0m\n\u001b[1;32m    318\u001b[0m             _logger\u001b[38;5;241m.\u001b[39mdebug(\u001b[38;5;124mf\u001b[39m\u001b[38;5;124m\"\u001b[39m\u001b[38;5;124mFailed to reset active_span_id: \u001b[39m\u001b[38;5;132;01m{\u001b[39;00me\u001b[38;5;132;01m}\u001b[39;00m\u001b[38;5;124m\"\u001b[39m)\n\u001b[1;32m    320\u001b[0m \u001b[38;5;28;01mtry\u001b[39;00m:\n\u001b[0;32m--> 321\u001b[0m     result \u001b[38;5;241m=\u001b[39m \u001b[43mfunc\u001b[49m\u001b[43m(\u001b[49m\u001b[38;5;241;43m*\u001b[39;49m\u001b[43margs\u001b[49m\u001b[43m,\u001b[49m\u001b[43m \u001b[49m\u001b[38;5;241;43m*\u001b[39;49m\u001b[38;5;241;43m*\u001b[39;49m\u001b[43mkwargs\u001b[49m\u001b[43m)\u001b[49m\n\u001b[1;32m    322\u001b[0m     \u001b[38;5;28;01mif\u001b[39;00m \u001b[38;5;28misinstance\u001b[39m(result, asyncio\u001b[38;5;241m.\u001b[39mFuture):\n\u001b[1;32m    323\u001b[0m         \u001b[38;5;66;03m# If the result is a Future, wrap it\u001b[39;00m\n\u001b[1;32m    324\u001b[0m         new_future \u001b[38;5;241m=\u001b[39m asyncio\u001b[38;5;241m.\u001b[39mensure_future(result)\n",
      "File \u001b[0;32m~/miniconda3/envs/test/lib/python3.10/site-packages/llama_index/core/response_synthesizers/refine.py:85\u001b[0m, in \u001b[0;36mDefaultRefineProgram.__call__\u001b[0;34m(self, *args, **kwds)\u001b[0m\n\u001b[1;32m     83\u001b[0m         answer \u001b[38;5;241m=\u001b[39m answer\u001b[38;5;241m.\u001b[39mmodel_dump_json()\n\u001b[1;32m     84\u001b[0m \u001b[38;5;28;01melse\u001b[39;00m:\n\u001b[0;32m---> 85\u001b[0m     answer \u001b[38;5;241m=\u001b[39m \u001b[38;5;28;43mself\u001b[39;49m\u001b[38;5;241;43m.\u001b[39;49m\u001b[43m_llm\u001b[49m\u001b[38;5;241;43m.\u001b[39;49m\u001b[43mpredict\u001b[49m\u001b[43m(\u001b[49m\n\u001b[1;32m     86\u001b[0m \u001b[43m        \u001b[49m\u001b[38;5;28;43mself\u001b[39;49m\u001b[38;5;241;43m.\u001b[39;49m\u001b[43m_prompt\u001b[49m\u001b[43m,\u001b[49m\n\u001b[1;32m     87\u001b[0m \u001b[43m        \u001b[49m\u001b[38;5;241;43m*\u001b[39;49m\u001b[38;5;241;43m*\u001b[39;49m\u001b[43mkwds\u001b[49m\u001b[43m,\u001b[49m\n\u001b[1;32m     88\u001b[0m \u001b[43m    \u001b[49m\u001b[43m)\u001b[49m\n\u001b[1;32m     89\u001b[0m \u001b[38;5;28;01mreturn\u001b[39;00m StructuredRefineResponse(answer\u001b[38;5;241m=\u001b[39manswer, query_satisfied\u001b[38;5;241m=\u001b[39m\u001b[38;5;28;01mTrue\u001b[39;00m)\n",
      "File \u001b[0;32m~/miniconda3/envs/test/lib/python3.10/site-packages/llama_index/core/instrumentation/dispatcher.py:321\u001b[0m, in \u001b[0;36mDispatcher.span.<locals>.wrapper\u001b[0;34m(func, instance, args, kwargs)\u001b[0m\n\u001b[1;32m    318\u001b[0m             _logger\u001b[38;5;241m.\u001b[39mdebug(\u001b[38;5;124mf\u001b[39m\u001b[38;5;124m\"\u001b[39m\u001b[38;5;124mFailed to reset active_span_id: \u001b[39m\u001b[38;5;132;01m{\u001b[39;00me\u001b[38;5;132;01m}\u001b[39;00m\u001b[38;5;124m\"\u001b[39m)\n\u001b[1;32m    320\u001b[0m \u001b[38;5;28;01mtry\u001b[39;00m:\n\u001b[0;32m--> 321\u001b[0m     result \u001b[38;5;241m=\u001b[39m \u001b[43mfunc\u001b[49m\u001b[43m(\u001b[49m\u001b[38;5;241;43m*\u001b[39;49m\u001b[43margs\u001b[49m\u001b[43m,\u001b[49m\u001b[43m \u001b[49m\u001b[38;5;241;43m*\u001b[39;49m\u001b[38;5;241;43m*\u001b[39;49m\u001b[43mkwargs\u001b[49m\u001b[43m)\u001b[49m\n\u001b[1;32m    322\u001b[0m     \u001b[38;5;28;01mif\u001b[39;00m \u001b[38;5;28misinstance\u001b[39m(result, asyncio\u001b[38;5;241m.\u001b[39mFuture):\n\u001b[1;32m    323\u001b[0m         \u001b[38;5;66;03m# If the result is a Future, wrap it\u001b[39;00m\n\u001b[1;32m    324\u001b[0m         new_future \u001b[38;5;241m=\u001b[39m asyncio\u001b[38;5;241m.\u001b[39mensure_future(result)\n",
      "File \u001b[0;32m~/miniconda3/envs/test/lib/python3.10/site-packages/llama_index/core/llms/llm.py:596\u001b[0m, in \u001b[0;36mLLM.predict\u001b[0;34m(self, prompt, **prompt_args)\u001b[0m\n\u001b[1;32m    594\u001b[0m \u001b[38;5;28;01mif\u001b[39;00m \u001b[38;5;28mself\u001b[39m\u001b[38;5;241m.\u001b[39mmetadata\u001b[38;5;241m.\u001b[39mis_chat_model:\n\u001b[1;32m    595\u001b[0m     messages \u001b[38;5;241m=\u001b[39m \u001b[38;5;28mself\u001b[39m\u001b[38;5;241m.\u001b[39m_get_messages(prompt, \u001b[38;5;241m*\u001b[39m\u001b[38;5;241m*\u001b[39mprompt_args)\n\u001b[0;32m--> 596\u001b[0m     chat_response \u001b[38;5;241m=\u001b[39m \u001b[38;5;28;43mself\u001b[39;49m\u001b[38;5;241;43m.\u001b[39;49m\u001b[43mchat\u001b[49m\u001b[43m(\u001b[49m\u001b[43mmessages\u001b[49m\u001b[43m)\u001b[49m\n\u001b[1;32m    597\u001b[0m     output \u001b[38;5;241m=\u001b[39m chat_response\u001b[38;5;241m.\u001b[39mmessage\u001b[38;5;241m.\u001b[39mcontent \u001b[38;5;129;01mor\u001b[39;00m \u001b[38;5;124m\"\u001b[39m\u001b[38;5;124m\"\u001b[39m\n\u001b[1;32m    598\u001b[0m \u001b[38;5;28;01melse\u001b[39;00m:\n",
      "File \u001b[0;32m~/miniconda3/envs/test/lib/python3.10/site-packages/llama_index/core/instrumentation/dispatcher.py:321\u001b[0m, in \u001b[0;36mDispatcher.span.<locals>.wrapper\u001b[0;34m(func, instance, args, kwargs)\u001b[0m\n\u001b[1;32m    318\u001b[0m             _logger\u001b[38;5;241m.\u001b[39mdebug(\u001b[38;5;124mf\u001b[39m\u001b[38;5;124m\"\u001b[39m\u001b[38;5;124mFailed to reset active_span_id: \u001b[39m\u001b[38;5;132;01m{\u001b[39;00me\u001b[38;5;132;01m}\u001b[39;00m\u001b[38;5;124m\"\u001b[39m)\n\u001b[1;32m    320\u001b[0m \u001b[38;5;28;01mtry\u001b[39;00m:\n\u001b[0;32m--> 321\u001b[0m     result \u001b[38;5;241m=\u001b[39m \u001b[43mfunc\u001b[49m\u001b[43m(\u001b[49m\u001b[38;5;241;43m*\u001b[39;49m\u001b[43margs\u001b[49m\u001b[43m,\u001b[49m\u001b[43m \u001b[49m\u001b[38;5;241;43m*\u001b[39;49m\u001b[38;5;241;43m*\u001b[39;49m\u001b[43mkwargs\u001b[49m\u001b[43m)\u001b[49m\n\u001b[1;32m    322\u001b[0m     \u001b[38;5;28;01mif\u001b[39;00m \u001b[38;5;28misinstance\u001b[39m(result, asyncio\u001b[38;5;241m.\u001b[39mFuture):\n\u001b[1;32m    323\u001b[0m         \u001b[38;5;66;03m# If the result is a Future, wrap it\u001b[39;00m\n\u001b[1;32m    324\u001b[0m         new_future \u001b[38;5;241m=\u001b[39m asyncio\u001b[38;5;241m.\u001b[39mensure_future(result)\n",
      "File \u001b[0;32m~/miniconda3/envs/test/lib/python3.10/site-packages/llama_index/core/llms/callbacks.py:173\u001b[0m, in \u001b[0;36mllm_chat_callback.<locals>.wrap.<locals>.wrapped_llm_chat\u001b[0;34m(_self, messages, **kwargs)\u001b[0m\n\u001b[1;32m    164\u001b[0m event_id \u001b[38;5;241m=\u001b[39m callback_manager\u001b[38;5;241m.\u001b[39mon_event_start(\n\u001b[1;32m    165\u001b[0m     CBEventType\u001b[38;5;241m.\u001b[39mLLM,\n\u001b[1;32m    166\u001b[0m     payload\u001b[38;5;241m=\u001b[39m{\n\u001b[0;32m   (...)\u001b[0m\n\u001b[1;32m    170\u001b[0m     },\n\u001b[1;32m    171\u001b[0m )\n\u001b[1;32m    172\u001b[0m \u001b[38;5;28;01mtry\u001b[39;00m:\n\u001b[0;32m--> 173\u001b[0m     f_return_val \u001b[38;5;241m=\u001b[39m \u001b[43mf\u001b[49m\u001b[43m(\u001b[49m\u001b[43m_self\u001b[49m\u001b[43m,\u001b[49m\u001b[43m \u001b[49m\u001b[43mmessages\u001b[49m\u001b[43m,\u001b[49m\u001b[43m \u001b[49m\u001b[38;5;241;43m*\u001b[39;49m\u001b[38;5;241;43m*\u001b[39;49m\u001b[43mkwargs\u001b[49m\u001b[43m)\u001b[49m\n\u001b[1;32m    174\u001b[0m \u001b[38;5;28;01mexcept\u001b[39;00m \u001b[38;5;167;01mBaseException\u001b[39;00m \u001b[38;5;28;01mas\u001b[39;00m e:\n\u001b[1;32m    175\u001b[0m     callback_manager\u001b[38;5;241m.\u001b[39mon_event_end(\n\u001b[1;32m    176\u001b[0m         CBEventType\u001b[38;5;241m.\u001b[39mLLM,\n\u001b[1;32m    177\u001b[0m         payload\u001b[38;5;241m=\u001b[39m{EventPayload\u001b[38;5;241m.\u001b[39mEXCEPTION: e},\n\u001b[1;32m    178\u001b[0m         event_id\u001b[38;5;241m=\u001b[39mevent_id,\n\u001b[1;32m    179\u001b[0m     )\n",
      "File \u001b[0;32m~/miniconda3/envs/test/lib/python3.10/site-packages/llama_index/llms/ollama/base.py:306\u001b[0m, in \u001b[0;36mOllama.chat\u001b[0;34m(self, messages, **kwargs)\u001b[0m\n\u001b[1;32m    303\u001b[0m tools \u001b[38;5;241m=\u001b[39m kwargs\u001b[38;5;241m.\u001b[39mpop(\u001b[38;5;124m\"\u001b[39m\u001b[38;5;124mtools\u001b[39m\u001b[38;5;124m\"\u001b[39m, \u001b[38;5;28;01mNone\u001b[39;00m)\n\u001b[1;32m    304\u001b[0m \u001b[38;5;28mformat\u001b[39m \u001b[38;5;241m=\u001b[39m kwargs\u001b[38;5;241m.\u001b[39mpop(\u001b[38;5;124m\"\u001b[39m\u001b[38;5;124mformat\u001b[39m\u001b[38;5;124m\"\u001b[39m, \u001b[38;5;124m\"\u001b[39m\u001b[38;5;124mjson\u001b[39m\u001b[38;5;124m\"\u001b[39m \u001b[38;5;28;01mif\u001b[39;00m \u001b[38;5;28mself\u001b[39m\u001b[38;5;241m.\u001b[39mjson_mode \u001b[38;5;28;01melse\u001b[39;00m \u001b[38;5;28;01mNone\u001b[39;00m)\n\u001b[0;32m--> 306\u001b[0m response \u001b[38;5;241m=\u001b[39m \u001b[38;5;28;43mself\u001b[39;49m\u001b[38;5;241;43m.\u001b[39;49m\u001b[43mclient\u001b[49m\u001b[38;5;241;43m.\u001b[39;49m\u001b[43mchat\u001b[49m\u001b[43m(\u001b[49m\n\u001b[1;32m    307\u001b[0m \u001b[43m    \u001b[49m\u001b[43mmodel\u001b[49m\u001b[38;5;241;43m=\u001b[39;49m\u001b[38;5;28;43mself\u001b[39;49m\u001b[38;5;241;43m.\u001b[39;49m\u001b[43mmodel\u001b[49m\u001b[43m,\u001b[49m\n\u001b[1;32m    308\u001b[0m \u001b[43m    \u001b[49m\u001b[43mmessages\u001b[49m\u001b[38;5;241;43m=\u001b[39;49m\u001b[43mollama_messages\u001b[49m\u001b[43m,\u001b[49m\n\u001b[1;32m    309\u001b[0m \u001b[43m    \u001b[49m\u001b[43mstream\u001b[49m\u001b[38;5;241;43m=\u001b[39;49m\u001b[38;5;28;43;01mFalse\u001b[39;49;00m\u001b[43m,\u001b[49m\n\u001b[1;32m    310\u001b[0m \u001b[43m    \u001b[49m\u001b[38;5;28;43mformat\u001b[39;49m\u001b[38;5;241;43m=\u001b[39;49m\u001b[38;5;28;43mformat\u001b[39;49m\u001b[43m,\u001b[49m\n\u001b[1;32m    311\u001b[0m \u001b[43m    \u001b[49m\u001b[43mtools\u001b[49m\u001b[38;5;241;43m=\u001b[39;49m\u001b[43mtools\u001b[49m\u001b[43m,\u001b[49m\n\u001b[1;32m    312\u001b[0m \u001b[43m    \u001b[49m\u001b[43moptions\u001b[49m\u001b[38;5;241;43m=\u001b[39;49m\u001b[38;5;28;43mself\u001b[39;49m\u001b[38;5;241;43m.\u001b[39;49m\u001b[43m_model_kwargs\u001b[49m\u001b[43m,\u001b[49m\n\u001b[1;32m    313\u001b[0m \u001b[43m    \u001b[49m\u001b[43mkeep_alive\u001b[49m\u001b[38;5;241;43m=\u001b[39;49m\u001b[38;5;28;43mself\u001b[39;49m\u001b[38;5;241;43m.\u001b[39;49m\u001b[43mkeep_alive\u001b[49m\u001b[43m,\u001b[49m\n\u001b[1;32m    314\u001b[0m \u001b[43m\u001b[49m\u001b[43m)\u001b[49m\n\u001b[1;32m    316\u001b[0m response \u001b[38;5;241m=\u001b[39m \u001b[38;5;28mdict\u001b[39m(response)\n\u001b[1;32m    318\u001b[0m tool_calls \u001b[38;5;241m=\u001b[39m response[\u001b[38;5;124m\"\u001b[39m\u001b[38;5;124mmessage\u001b[39m\u001b[38;5;124m\"\u001b[39m]\u001b[38;5;241m.\u001b[39mget(\u001b[38;5;124m\"\u001b[39m\u001b[38;5;124mtool_calls\u001b[39m\u001b[38;5;124m\"\u001b[39m, [])\n",
      "File \u001b[0;32m~/miniconda3/envs/test/lib/python3.10/site-packages/ollama/_client.py:332\u001b[0m, in \u001b[0;36mClient.chat\u001b[0;34m(self, model, messages, tools, stream, format, options, keep_alive)\u001b[0m\n\u001b[1;32m    288\u001b[0m \u001b[38;5;28;01mdef\u001b[39;00m \u001b[38;5;21mchat\u001b[39m(\n\u001b[1;32m    289\u001b[0m   \u001b[38;5;28mself\u001b[39m,\n\u001b[1;32m    290\u001b[0m   model: \u001b[38;5;28mstr\u001b[39m \u001b[38;5;241m=\u001b[39m \u001b[38;5;124m'\u001b[39m\u001b[38;5;124m'\u001b[39m,\n\u001b[0;32m   (...)\u001b[0m\n\u001b[1;32m    297\u001b[0m   keep_alive: Optional[Union[\u001b[38;5;28mfloat\u001b[39m, \u001b[38;5;28mstr\u001b[39m]] \u001b[38;5;241m=\u001b[39m \u001b[38;5;28;01mNone\u001b[39;00m,\n\u001b[1;32m    298\u001b[0m ) \u001b[38;5;241m-\u001b[39m\u001b[38;5;241m>\u001b[39m Union[ChatResponse, Iterator[ChatResponse]]:\n\u001b[1;32m    299\u001b[0m \u001b[38;5;250m  \u001b[39m\u001b[38;5;124;03m\"\"\"\u001b[39;00m\n\u001b[1;32m    300\u001b[0m \u001b[38;5;124;03m  Create a chat response using the requested model.\u001b[39;00m\n\u001b[1;32m    301\u001b[0m \n\u001b[0;32m   (...)\u001b[0m\n\u001b[1;32m    330\u001b[0m \u001b[38;5;124;03m  Returns `ChatResponse` if `stream` is `False`, otherwise returns a `ChatResponse` generator.\u001b[39;00m\n\u001b[1;32m    331\u001b[0m \u001b[38;5;124;03m  \"\"\"\u001b[39;00m\n\u001b[0;32m--> 332\u001b[0m   \u001b[38;5;28;01mreturn\u001b[39;00m \u001b[38;5;28;43mself\u001b[39;49m\u001b[38;5;241;43m.\u001b[39;49m\u001b[43m_request\u001b[49m\u001b[43m(\u001b[49m\n\u001b[1;32m    333\u001b[0m \u001b[43m    \u001b[49m\u001b[43mChatResponse\u001b[49m\u001b[43m,\u001b[49m\n\u001b[1;32m    334\u001b[0m \u001b[43m    \u001b[49m\u001b[38;5;124;43m'\u001b[39;49m\u001b[38;5;124;43mPOST\u001b[39;49m\u001b[38;5;124;43m'\u001b[39;49m\u001b[43m,\u001b[49m\n\u001b[1;32m    335\u001b[0m \u001b[43m    \u001b[49m\u001b[38;5;124;43m'\u001b[39;49m\u001b[38;5;124;43m/api/chat\u001b[39;49m\u001b[38;5;124;43m'\u001b[39;49m\u001b[43m,\u001b[49m\n\u001b[1;32m    336\u001b[0m \u001b[43m    \u001b[49m\u001b[43mjson\u001b[49m\u001b[38;5;241;43m=\u001b[39;49m\u001b[43mChatRequest\u001b[49m\u001b[43m(\u001b[49m\n\u001b[1;32m    337\u001b[0m \u001b[43m      \u001b[49m\u001b[43mmodel\u001b[49m\u001b[38;5;241;43m=\u001b[39;49m\u001b[43mmodel\u001b[49m\u001b[43m,\u001b[49m\n\u001b[1;32m    338\u001b[0m \u001b[43m      \u001b[49m\u001b[43mmessages\u001b[49m\u001b[38;5;241;43m=\u001b[39;49m\u001b[43m[\u001b[49m\u001b[43mmessage\u001b[49m\u001b[43m \u001b[49m\u001b[38;5;28;43;01mfor\u001b[39;49;00m\u001b[43m \u001b[49m\u001b[43mmessage\u001b[49m\u001b[43m \u001b[49m\u001b[38;5;129;43;01min\u001b[39;49;00m\u001b[43m \u001b[49m\u001b[43m_copy_messages\u001b[49m\u001b[43m(\u001b[49m\u001b[43mmessages\u001b[49m\u001b[43m)\u001b[49m\u001b[43m]\u001b[49m\u001b[43m,\u001b[49m\n\u001b[1;32m    339\u001b[0m \u001b[43m      \u001b[49m\u001b[43mtools\u001b[49m\u001b[38;5;241;43m=\u001b[39;49m\u001b[43m[\u001b[49m\u001b[43mtool\u001b[49m\u001b[43m \u001b[49m\u001b[38;5;28;43;01mfor\u001b[39;49;00m\u001b[43m \u001b[49m\u001b[43mtool\u001b[49m\u001b[43m \u001b[49m\u001b[38;5;129;43;01min\u001b[39;49;00m\u001b[43m \u001b[49m\u001b[43m_copy_tools\u001b[49m\u001b[43m(\u001b[49m\u001b[43mtools\u001b[49m\u001b[43m)\u001b[49m\u001b[43m]\u001b[49m\u001b[43m,\u001b[49m\n\u001b[1;32m    340\u001b[0m \u001b[43m      \u001b[49m\u001b[43mstream\u001b[49m\u001b[38;5;241;43m=\u001b[39;49m\u001b[43mstream\u001b[49m\u001b[43m,\u001b[49m\n\u001b[1;32m    341\u001b[0m \u001b[43m      \u001b[49m\u001b[38;5;28;43mformat\u001b[39;49m\u001b[38;5;241;43m=\u001b[39;49m\u001b[38;5;28;43mformat\u001b[39;49m\u001b[43m,\u001b[49m\n\u001b[1;32m    342\u001b[0m \u001b[43m      \u001b[49m\u001b[43moptions\u001b[49m\u001b[38;5;241;43m=\u001b[39;49m\u001b[43moptions\u001b[49m\u001b[43m,\u001b[49m\n\u001b[1;32m    343\u001b[0m \u001b[43m      \u001b[49m\u001b[43mkeep_alive\u001b[49m\u001b[38;5;241;43m=\u001b[39;49m\u001b[43mkeep_alive\u001b[49m\u001b[43m,\u001b[49m\n\u001b[1;32m    344\u001b[0m \u001b[43m    \u001b[49m\u001b[43m)\u001b[49m\u001b[38;5;241;43m.\u001b[39;49m\u001b[43mmodel_dump\u001b[49m\u001b[43m(\u001b[49m\u001b[43mexclude_none\u001b[49m\u001b[38;5;241;43m=\u001b[39;49m\u001b[38;5;28;43;01mTrue\u001b[39;49;00m\u001b[43m)\u001b[49m\u001b[43m,\u001b[49m\n\u001b[1;32m    345\u001b[0m \u001b[43m    \u001b[49m\u001b[43mstream\u001b[49m\u001b[38;5;241;43m=\u001b[39;49m\u001b[43mstream\u001b[49m\u001b[43m,\u001b[49m\n\u001b[1;32m    346\u001b[0m \u001b[43m  \u001b[49m\u001b[43m)\u001b[49m\n",
      "File \u001b[0;32m~/miniconda3/envs/test/lib/python3.10/site-packages/ollama/_client.py:177\u001b[0m, in \u001b[0;36mClient._request\u001b[0;34m(self, cls, stream, *args, **kwargs)\u001b[0m\n\u001b[1;32m    173\u001b[0m         \u001b[38;5;28;01myield\u001b[39;00m \u001b[38;5;28mcls\u001b[39m(\u001b[38;5;241m*\u001b[39m\u001b[38;5;241m*\u001b[39mpart)\n\u001b[1;32m    175\u001b[0m   \u001b[38;5;28;01mreturn\u001b[39;00m inner()\n\u001b[0;32m--> 177\u001b[0m \u001b[38;5;28;01mreturn\u001b[39;00m \u001b[38;5;28mcls\u001b[39m(\u001b[38;5;241m*\u001b[39m\u001b[38;5;241m*\u001b[39m\u001b[38;5;28;43mself\u001b[39;49m\u001b[38;5;241;43m.\u001b[39;49m\u001b[43m_request_raw\u001b[49m\u001b[43m(\u001b[49m\u001b[38;5;241;43m*\u001b[39;49m\u001b[43margs\u001b[49m\u001b[43m,\u001b[49m\u001b[43m \u001b[49m\u001b[38;5;241;43m*\u001b[39;49m\u001b[38;5;241;43m*\u001b[39;49m\u001b[43mkwargs\u001b[49m\u001b[43m)\u001b[49m\u001b[38;5;241m.\u001b[39mjson())\n",
      "File \u001b[0;32m~/miniconda3/envs/test/lib/python3.10/site-packages/ollama/_client.py:118\u001b[0m, in \u001b[0;36mClient._request_raw\u001b[0;34m(self, *args, **kwargs)\u001b[0m\n\u001b[1;32m    117\u001b[0m \u001b[38;5;28;01mdef\u001b[39;00m \u001b[38;5;21m_request_raw\u001b[39m(\u001b[38;5;28mself\u001b[39m, \u001b[38;5;241m*\u001b[39margs, \u001b[38;5;241m*\u001b[39m\u001b[38;5;241m*\u001b[39mkwargs):\n\u001b[0;32m--> 118\u001b[0m   r \u001b[38;5;241m=\u001b[39m \u001b[38;5;28;43mself\u001b[39;49m\u001b[38;5;241;43m.\u001b[39;49m\u001b[43m_client\u001b[49m\u001b[38;5;241;43m.\u001b[39;49m\u001b[43mrequest\u001b[49m\u001b[43m(\u001b[49m\u001b[38;5;241;43m*\u001b[39;49m\u001b[43margs\u001b[49m\u001b[43m,\u001b[49m\u001b[43m \u001b[49m\u001b[38;5;241;43m*\u001b[39;49m\u001b[38;5;241;43m*\u001b[39;49m\u001b[43mkwargs\u001b[49m\u001b[43m)\u001b[49m\n\u001b[1;32m    119\u001b[0m   \u001b[38;5;28;01mtry\u001b[39;00m:\n\u001b[1;32m    120\u001b[0m     r\u001b[38;5;241m.\u001b[39mraise_for_status()\n",
      "File \u001b[0;32m~/miniconda3/envs/test/lib/python3.10/site-packages/httpx/_client.py:837\u001b[0m, in \u001b[0;36mClient.request\u001b[0;34m(self, method, url, content, data, files, json, params, headers, cookies, auth, follow_redirects, timeout, extensions)\u001b[0m\n\u001b[1;32m    822\u001b[0m     warnings\u001b[38;5;241m.\u001b[39mwarn(message, \u001b[38;5;167;01mDeprecationWarning\u001b[39;00m)\n\u001b[1;32m    824\u001b[0m request \u001b[38;5;241m=\u001b[39m \u001b[38;5;28mself\u001b[39m\u001b[38;5;241m.\u001b[39mbuild_request(\n\u001b[1;32m    825\u001b[0m     method\u001b[38;5;241m=\u001b[39mmethod,\n\u001b[1;32m    826\u001b[0m     url\u001b[38;5;241m=\u001b[39murl,\n\u001b[0;32m   (...)\u001b[0m\n\u001b[1;32m    835\u001b[0m     extensions\u001b[38;5;241m=\u001b[39mextensions,\n\u001b[1;32m    836\u001b[0m )\n\u001b[0;32m--> 837\u001b[0m \u001b[38;5;28;01mreturn\u001b[39;00m \u001b[38;5;28;43mself\u001b[39;49m\u001b[38;5;241;43m.\u001b[39;49m\u001b[43msend\u001b[49m\u001b[43m(\u001b[49m\u001b[43mrequest\u001b[49m\u001b[43m,\u001b[49m\u001b[43m \u001b[49m\u001b[43mauth\u001b[49m\u001b[38;5;241;43m=\u001b[39;49m\u001b[43mauth\u001b[49m\u001b[43m,\u001b[49m\u001b[43m \u001b[49m\u001b[43mfollow_redirects\u001b[49m\u001b[38;5;241;43m=\u001b[39;49m\u001b[43mfollow_redirects\u001b[49m\u001b[43m)\u001b[49m\n",
      "File \u001b[0;32m~/miniconda3/envs/test/lib/python3.10/site-packages/httpx/_client.py:926\u001b[0m, in \u001b[0;36mClient.send\u001b[0;34m(self, request, stream, auth, follow_redirects)\u001b[0m\n\u001b[1;32m    922\u001b[0m \u001b[38;5;28mself\u001b[39m\u001b[38;5;241m.\u001b[39m_set_timeout(request)\n\u001b[1;32m    924\u001b[0m auth \u001b[38;5;241m=\u001b[39m \u001b[38;5;28mself\u001b[39m\u001b[38;5;241m.\u001b[39m_build_request_auth(request, auth)\n\u001b[0;32m--> 926\u001b[0m response \u001b[38;5;241m=\u001b[39m \u001b[38;5;28;43mself\u001b[39;49m\u001b[38;5;241;43m.\u001b[39;49m\u001b[43m_send_handling_auth\u001b[49m\u001b[43m(\u001b[49m\n\u001b[1;32m    927\u001b[0m \u001b[43m    \u001b[49m\u001b[43mrequest\u001b[49m\u001b[43m,\u001b[49m\n\u001b[1;32m    928\u001b[0m \u001b[43m    \u001b[49m\u001b[43mauth\u001b[49m\u001b[38;5;241;43m=\u001b[39;49m\u001b[43mauth\u001b[49m\u001b[43m,\u001b[49m\n\u001b[1;32m    929\u001b[0m \u001b[43m    \u001b[49m\u001b[43mfollow_redirects\u001b[49m\u001b[38;5;241;43m=\u001b[39;49m\u001b[43mfollow_redirects\u001b[49m\u001b[43m,\u001b[49m\n\u001b[1;32m    930\u001b[0m \u001b[43m    \u001b[49m\u001b[43mhistory\u001b[49m\u001b[38;5;241;43m=\u001b[39;49m\u001b[43m[\u001b[49m\u001b[43m]\u001b[49m\u001b[43m,\u001b[49m\n\u001b[1;32m    931\u001b[0m \u001b[43m\u001b[49m\u001b[43m)\u001b[49m\n\u001b[1;32m    932\u001b[0m \u001b[38;5;28;01mtry\u001b[39;00m:\n\u001b[1;32m    933\u001b[0m     \u001b[38;5;28;01mif\u001b[39;00m \u001b[38;5;129;01mnot\u001b[39;00m stream:\n",
      "File \u001b[0;32m~/miniconda3/envs/test/lib/python3.10/site-packages/httpx/_client.py:954\u001b[0m, in \u001b[0;36mClient._send_handling_auth\u001b[0;34m(self, request, auth, follow_redirects, history)\u001b[0m\n\u001b[1;32m    951\u001b[0m request \u001b[38;5;241m=\u001b[39m \u001b[38;5;28mnext\u001b[39m(auth_flow)\n\u001b[1;32m    953\u001b[0m \u001b[38;5;28;01mwhile\u001b[39;00m \u001b[38;5;28;01mTrue\u001b[39;00m:\n\u001b[0;32m--> 954\u001b[0m     response \u001b[38;5;241m=\u001b[39m \u001b[38;5;28;43mself\u001b[39;49m\u001b[38;5;241;43m.\u001b[39;49m\u001b[43m_send_handling_redirects\u001b[49m\u001b[43m(\u001b[49m\n\u001b[1;32m    955\u001b[0m \u001b[43m        \u001b[49m\u001b[43mrequest\u001b[49m\u001b[43m,\u001b[49m\n\u001b[1;32m    956\u001b[0m \u001b[43m        \u001b[49m\u001b[43mfollow_redirects\u001b[49m\u001b[38;5;241;43m=\u001b[39;49m\u001b[43mfollow_redirects\u001b[49m\u001b[43m,\u001b[49m\n\u001b[1;32m    957\u001b[0m \u001b[43m        \u001b[49m\u001b[43mhistory\u001b[49m\u001b[38;5;241;43m=\u001b[39;49m\u001b[43mhistory\u001b[49m\u001b[43m,\u001b[49m\n\u001b[1;32m    958\u001b[0m \u001b[43m    \u001b[49m\u001b[43m)\u001b[49m\n\u001b[1;32m    959\u001b[0m     \u001b[38;5;28;01mtry\u001b[39;00m:\n\u001b[1;32m    960\u001b[0m         \u001b[38;5;28;01mtry\u001b[39;00m:\n",
      "File \u001b[0;32m~/miniconda3/envs/test/lib/python3.10/site-packages/httpx/_client.py:991\u001b[0m, in \u001b[0;36mClient._send_handling_redirects\u001b[0;34m(self, request, follow_redirects, history)\u001b[0m\n\u001b[1;32m    988\u001b[0m \u001b[38;5;28;01mfor\u001b[39;00m hook \u001b[38;5;129;01min\u001b[39;00m \u001b[38;5;28mself\u001b[39m\u001b[38;5;241m.\u001b[39m_event_hooks[\u001b[38;5;124m\"\u001b[39m\u001b[38;5;124mrequest\u001b[39m\u001b[38;5;124m\"\u001b[39m]:\n\u001b[1;32m    989\u001b[0m     hook(request)\n\u001b[0;32m--> 991\u001b[0m response \u001b[38;5;241m=\u001b[39m \u001b[38;5;28;43mself\u001b[39;49m\u001b[38;5;241;43m.\u001b[39;49m\u001b[43m_send_single_request\u001b[49m\u001b[43m(\u001b[49m\u001b[43mrequest\u001b[49m\u001b[43m)\u001b[49m\n\u001b[1;32m    992\u001b[0m \u001b[38;5;28;01mtry\u001b[39;00m:\n\u001b[1;32m    993\u001b[0m     \u001b[38;5;28;01mfor\u001b[39;00m hook \u001b[38;5;129;01min\u001b[39;00m \u001b[38;5;28mself\u001b[39m\u001b[38;5;241m.\u001b[39m_event_hooks[\u001b[38;5;124m\"\u001b[39m\u001b[38;5;124mresponse\u001b[39m\u001b[38;5;124m\"\u001b[39m]:\n",
      "File \u001b[0;32m~/miniconda3/envs/test/lib/python3.10/site-packages/httpx/_client.py:1027\u001b[0m, in \u001b[0;36mClient._send_single_request\u001b[0;34m(self, request)\u001b[0m\n\u001b[1;32m   1022\u001b[0m     \u001b[38;5;28;01mraise\u001b[39;00m \u001b[38;5;167;01mRuntimeError\u001b[39;00m(\n\u001b[1;32m   1023\u001b[0m         \u001b[38;5;124m\"\u001b[39m\u001b[38;5;124mAttempted to send an async request with a sync Client instance.\u001b[39m\u001b[38;5;124m\"\u001b[39m\n\u001b[1;32m   1024\u001b[0m     )\n\u001b[1;32m   1026\u001b[0m \u001b[38;5;28;01mwith\u001b[39;00m request_context(request\u001b[38;5;241m=\u001b[39mrequest):\n\u001b[0;32m-> 1027\u001b[0m     response \u001b[38;5;241m=\u001b[39m \u001b[43mtransport\u001b[49m\u001b[38;5;241;43m.\u001b[39;49m\u001b[43mhandle_request\u001b[49m\u001b[43m(\u001b[49m\u001b[43mrequest\u001b[49m\u001b[43m)\u001b[49m\n\u001b[1;32m   1029\u001b[0m \u001b[38;5;28;01massert\u001b[39;00m \u001b[38;5;28misinstance\u001b[39m(response\u001b[38;5;241m.\u001b[39mstream, SyncByteStream)\n\u001b[1;32m   1031\u001b[0m response\u001b[38;5;241m.\u001b[39mrequest \u001b[38;5;241m=\u001b[39m request\n",
      "File \u001b[0;32m~/miniconda3/envs/test/lib/python3.10/site-packages/httpx/_transports/default.py:236\u001b[0m, in \u001b[0;36mHTTPTransport.handle_request\u001b[0;34m(self, request)\u001b[0m\n\u001b[1;32m    223\u001b[0m req \u001b[38;5;241m=\u001b[39m httpcore\u001b[38;5;241m.\u001b[39mRequest(\n\u001b[1;32m    224\u001b[0m     method\u001b[38;5;241m=\u001b[39mrequest\u001b[38;5;241m.\u001b[39mmethod,\n\u001b[1;32m    225\u001b[0m     url\u001b[38;5;241m=\u001b[39mhttpcore\u001b[38;5;241m.\u001b[39mURL(\n\u001b[0;32m   (...)\u001b[0m\n\u001b[1;32m    233\u001b[0m     extensions\u001b[38;5;241m=\u001b[39mrequest\u001b[38;5;241m.\u001b[39mextensions,\n\u001b[1;32m    234\u001b[0m )\n\u001b[1;32m    235\u001b[0m \u001b[38;5;28;01mwith\u001b[39;00m map_httpcore_exceptions():\n\u001b[0;32m--> 236\u001b[0m     resp \u001b[38;5;241m=\u001b[39m \u001b[38;5;28;43mself\u001b[39;49m\u001b[38;5;241;43m.\u001b[39;49m\u001b[43m_pool\u001b[49m\u001b[38;5;241;43m.\u001b[39;49m\u001b[43mhandle_request\u001b[49m\u001b[43m(\u001b[49m\u001b[43mreq\u001b[49m\u001b[43m)\u001b[49m\n\u001b[1;32m    238\u001b[0m \u001b[38;5;28;01massert\u001b[39;00m \u001b[38;5;28misinstance\u001b[39m(resp\u001b[38;5;241m.\u001b[39mstream, typing\u001b[38;5;241m.\u001b[39mIterable)\n\u001b[1;32m    240\u001b[0m \u001b[38;5;28;01mreturn\u001b[39;00m Response(\n\u001b[1;32m    241\u001b[0m     status_code\u001b[38;5;241m=\u001b[39mresp\u001b[38;5;241m.\u001b[39mstatus,\n\u001b[1;32m    242\u001b[0m     headers\u001b[38;5;241m=\u001b[39mresp\u001b[38;5;241m.\u001b[39mheaders,\n\u001b[1;32m    243\u001b[0m     stream\u001b[38;5;241m=\u001b[39mResponseStream(resp\u001b[38;5;241m.\u001b[39mstream),\n\u001b[1;32m    244\u001b[0m     extensions\u001b[38;5;241m=\u001b[39mresp\u001b[38;5;241m.\u001b[39mextensions,\n\u001b[1;32m    245\u001b[0m )\n",
      "File \u001b[0;32m~/miniconda3/envs/test/lib/python3.10/site-packages/httpcore/_sync/connection_pool.py:256\u001b[0m, in \u001b[0;36mConnectionPool.handle_request\u001b[0;34m(self, request)\u001b[0m\n\u001b[1;32m    253\u001b[0m         closing \u001b[38;5;241m=\u001b[39m \u001b[38;5;28mself\u001b[39m\u001b[38;5;241m.\u001b[39m_assign_requests_to_connections()\n\u001b[1;32m    255\u001b[0m     \u001b[38;5;28mself\u001b[39m\u001b[38;5;241m.\u001b[39m_close_connections(closing)\n\u001b[0;32m--> 256\u001b[0m     \u001b[38;5;28;01mraise\u001b[39;00m exc \u001b[38;5;28;01mfrom\u001b[39;00m \u001b[38;5;28;01mNone\u001b[39;00m\n\u001b[1;32m    258\u001b[0m \u001b[38;5;66;03m# Return the response. Note that in this case we still have to manage\u001b[39;00m\n\u001b[1;32m    259\u001b[0m \u001b[38;5;66;03m# the point at which the response is closed.\u001b[39;00m\n\u001b[1;32m    260\u001b[0m \u001b[38;5;28;01massert\u001b[39;00m \u001b[38;5;28misinstance\u001b[39m(response\u001b[38;5;241m.\u001b[39mstream, typing\u001b[38;5;241m.\u001b[39mIterable)\n",
      "File \u001b[0;32m~/miniconda3/envs/test/lib/python3.10/site-packages/httpcore/_sync/connection_pool.py:236\u001b[0m, in \u001b[0;36mConnectionPool.handle_request\u001b[0;34m(self, request)\u001b[0m\n\u001b[1;32m    232\u001b[0m connection \u001b[38;5;241m=\u001b[39m pool_request\u001b[38;5;241m.\u001b[39mwait_for_connection(timeout\u001b[38;5;241m=\u001b[39mtimeout)\n\u001b[1;32m    234\u001b[0m \u001b[38;5;28;01mtry\u001b[39;00m:\n\u001b[1;32m    235\u001b[0m     \u001b[38;5;66;03m# Send the request on the assigned connection.\u001b[39;00m\n\u001b[0;32m--> 236\u001b[0m     response \u001b[38;5;241m=\u001b[39m \u001b[43mconnection\u001b[49m\u001b[38;5;241;43m.\u001b[39;49m\u001b[43mhandle_request\u001b[49m\u001b[43m(\u001b[49m\n\u001b[1;32m    237\u001b[0m \u001b[43m        \u001b[49m\u001b[43mpool_request\u001b[49m\u001b[38;5;241;43m.\u001b[39;49m\u001b[43mrequest\u001b[49m\n\u001b[1;32m    238\u001b[0m \u001b[43m    \u001b[49m\u001b[43m)\u001b[49m\n\u001b[1;32m    239\u001b[0m \u001b[38;5;28;01mexcept\u001b[39;00m ConnectionNotAvailable:\n\u001b[1;32m    240\u001b[0m     \u001b[38;5;66;03m# In some cases a connection may initially be available to\u001b[39;00m\n\u001b[1;32m    241\u001b[0m     \u001b[38;5;66;03m# handle a request, but then become unavailable.\u001b[39;00m\n\u001b[1;32m    242\u001b[0m     \u001b[38;5;66;03m#\u001b[39;00m\n\u001b[1;32m    243\u001b[0m     \u001b[38;5;66;03m# In this case we clear the connection and try again.\u001b[39;00m\n\u001b[1;32m    244\u001b[0m     pool_request\u001b[38;5;241m.\u001b[39mclear_connection()\n",
      "File \u001b[0;32m~/miniconda3/envs/test/lib/python3.10/site-packages/httpcore/_sync/connection.py:103\u001b[0m, in \u001b[0;36mHTTPConnection.handle_request\u001b[0;34m(self, request)\u001b[0m\n\u001b[1;32m    100\u001b[0m     \u001b[38;5;28mself\u001b[39m\u001b[38;5;241m.\u001b[39m_connect_failed \u001b[38;5;241m=\u001b[39m \u001b[38;5;28;01mTrue\u001b[39;00m\n\u001b[1;32m    101\u001b[0m     \u001b[38;5;28;01mraise\u001b[39;00m exc\n\u001b[0;32m--> 103\u001b[0m \u001b[38;5;28;01mreturn\u001b[39;00m \u001b[38;5;28;43mself\u001b[39;49m\u001b[38;5;241;43m.\u001b[39;49m\u001b[43m_connection\u001b[49m\u001b[38;5;241;43m.\u001b[39;49m\u001b[43mhandle_request\u001b[49m\u001b[43m(\u001b[49m\u001b[43mrequest\u001b[49m\u001b[43m)\u001b[49m\n",
      "File \u001b[0;32m~/miniconda3/envs/test/lib/python3.10/site-packages/httpcore/_sync/http11.py:136\u001b[0m, in \u001b[0;36mHTTP11Connection.handle_request\u001b[0;34m(self, request)\u001b[0m\n\u001b[1;32m    134\u001b[0m     \u001b[38;5;28;01mwith\u001b[39;00m Trace(\u001b[38;5;124m\"\u001b[39m\u001b[38;5;124mresponse_closed\u001b[39m\u001b[38;5;124m\"\u001b[39m, logger, request) \u001b[38;5;28;01mas\u001b[39;00m trace:\n\u001b[1;32m    135\u001b[0m         \u001b[38;5;28mself\u001b[39m\u001b[38;5;241m.\u001b[39m_response_closed()\n\u001b[0;32m--> 136\u001b[0m \u001b[38;5;28;01mraise\u001b[39;00m exc\n",
      "File \u001b[0;32m~/miniconda3/envs/test/lib/python3.10/site-packages/httpcore/_sync/http11.py:106\u001b[0m, in \u001b[0;36mHTTP11Connection.handle_request\u001b[0;34m(self, request)\u001b[0m\n\u001b[1;32m     95\u001b[0m     \u001b[38;5;28;01mpass\u001b[39;00m\n\u001b[1;32m     97\u001b[0m \u001b[38;5;28;01mwith\u001b[39;00m Trace(\n\u001b[1;32m     98\u001b[0m     \u001b[38;5;124m\"\u001b[39m\u001b[38;5;124mreceive_response_headers\u001b[39m\u001b[38;5;124m\"\u001b[39m, logger, request, kwargs\n\u001b[1;32m     99\u001b[0m ) \u001b[38;5;28;01mas\u001b[39;00m trace:\n\u001b[1;32m    100\u001b[0m     (\n\u001b[1;32m    101\u001b[0m         http_version,\n\u001b[1;32m    102\u001b[0m         status,\n\u001b[1;32m    103\u001b[0m         reason_phrase,\n\u001b[1;32m    104\u001b[0m         headers,\n\u001b[1;32m    105\u001b[0m         trailing_data,\n\u001b[0;32m--> 106\u001b[0m     ) \u001b[38;5;241m=\u001b[39m \u001b[38;5;28;43mself\u001b[39;49m\u001b[38;5;241;43m.\u001b[39;49m\u001b[43m_receive_response_headers\u001b[49m\u001b[43m(\u001b[49m\u001b[38;5;241;43m*\u001b[39;49m\u001b[38;5;241;43m*\u001b[39;49m\u001b[43mkwargs\u001b[49m\u001b[43m)\u001b[49m\n\u001b[1;32m    107\u001b[0m     trace\u001b[38;5;241m.\u001b[39mreturn_value \u001b[38;5;241m=\u001b[39m (\n\u001b[1;32m    108\u001b[0m         http_version,\n\u001b[1;32m    109\u001b[0m         status,\n\u001b[1;32m    110\u001b[0m         reason_phrase,\n\u001b[1;32m    111\u001b[0m         headers,\n\u001b[1;32m    112\u001b[0m     )\n\u001b[1;32m    114\u001b[0m network_stream \u001b[38;5;241m=\u001b[39m \u001b[38;5;28mself\u001b[39m\u001b[38;5;241m.\u001b[39m_network_stream\n",
      "File \u001b[0;32m~/miniconda3/envs/test/lib/python3.10/site-packages/httpcore/_sync/http11.py:177\u001b[0m, in \u001b[0;36mHTTP11Connection._receive_response_headers\u001b[0;34m(self, request)\u001b[0m\n\u001b[1;32m    174\u001b[0m timeout \u001b[38;5;241m=\u001b[39m timeouts\u001b[38;5;241m.\u001b[39mget(\u001b[38;5;124m\"\u001b[39m\u001b[38;5;124mread\u001b[39m\u001b[38;5;124m\"\u001b[39m, \u001b[38;5;28;01mNone\u001b[39;00m)\n\u001b[1;32m    176\u001b[0m \u001b[38;5;28;01mwhile\u001b[39;00m \u001b[38;5;28;01mTrue\u001b[39;00m:\n\u001b[0;32m--> 177\u001b[0m     event \u001b[38;5;241m=\u001b[39m \u001b[38;5;28;43mself\u001b[39;49m\u001b[38;5;241;43m.\u001b[39;49m\u001b[43m_receive_event\u001b[49m\u001b[43m(\u001b[49m\u001b[43mtimeout\u001b[49m\u001b[38;5;241;43m=\u001b[39;49m\u001b[43mtimeout\u001b[49m\u001b[43m)\u001b[49m\n\u001b[1;32m    178\u001b[0m     \u001b[38;5;28;01mif\u001b[39;00m \u001b[38;5;28misinstance\u001b[39m(event, h11\u001b[38;5;241m.\u001b[39mResponse):\n\u001b[1;32m    179\u001b[0m         \u001b[38;5;28;01mbreak\u001b[39;00m\n",
      "File \u001b[0;32m~/miniconda3/envs/test/lib/python3.10/site-packages/httpcore/_sync/http11.py:217\u001b[0m, in \u001b[0;36mHTTP11Connection._receive_event\u001b[0;34m(self, timeout)\u001b[0m\n\u001b[1;32m    214\u001b[0m     event \u001b[38;5;241m=\u001b[39m \u001b[38;5;28mself\u001b[39m\u001b[38;5;241m.\u001b[39m_h11_state\u001b[38;5;241m.\u001b[39mnext_event()\n\u001b[1;32m    216\u001b[0m \u001b[38;5;28;01mif\u001b[39;00m event \u001b[38;5;129;01mis\u001b[39;00m h11\u001b[38;5;241m.\u001b[39mNEED_DATA:\n\u001b[0;32m--> 217\u001b[0m     data \u001b[38;5;241m=\u001b[39m \u001b[38;5;28;43mself\u001b[39;49m\u001b[38;5;241;43m.\u001b[39;49m\u001b[43m_network_stream\u001b[49m\u001b[38;5;241;43m.\u001b[39;49m\u001b[43mread\u001b[49m\u001b[43m(\u001b[49m\n\u001b[1;32m    218\u001b[0m \u001b[43m        \u001b[49m\u001b[38;5;28;43mself\u001b[39;49m\u001b[38;5;241;43m.\u001b[39;49m\u001b[43mREAD_NUM_BYTES\u001b[49m\u001b[43m,\u001b[49m\u001b[43m \u001b[49m\u001b[43mtimeout\u001b[49m\u001b[38;5;241;43m=\u001b[39;49m\u001b[43mtimeout\u001b[49m\n\u001b[1;32m    219\u001b[0m \u001b[43m    \u001b[49m\u001b[43m)\u001b[49m\n\u001b[1;32m    221\u001b[0m     \u001b[38;5;66;03m# If we feed this case through h11 we'll raise an exception like:\u001b[39;00m\n\u001b[1;32m    222\u001b[0m     \u001b[38;5;66;03m#\u001b[39;00m\n\u001b[1;32m    223\u001b[0m     \u001b[38;5;66;03m#     httpcore.RemoteProtocolError: can't handle event type\u001b[39;00m\n\u001b[0;32m   (...)\u001b[0m\n\u001b[1;32m    227\u001b[0m     \u001b[38;5;66;03m# perspective. Instead we handle this case distinctly and treat\u001b[39;00m\n\u001b[1;32m    228\u001b[0m     \u001b[38;5;66;03m# it as a ConnectError.\u001b[39;00m\n\u001b[1;32m    229\u001b[0m     \u001b[38;5;28;01mif\u001b[39;00m data \u001b[38;5;241m==\u001b[39m \u001b[38;5;124mb\u001b[39m\u001b[38;5;124m\"\u001b[39m\u001b[38;5;124m\"\u001b[39m \u001b[38;5;129;01mand\u001b[39;00m \u001b[38;5;28mself\u001b[39m\u001b[38;5;241m.\u001b[39m_h11_state\u001b[38;5;241m.\u001b[39mtheir_state \u001b[38;5;241m==\u001b[39m h11\u001b[38;5;241m.\u001b[39mSEND_RESPONSE:\n",
      "File \u001b[0;32m~/miniconda3/envs/test/lib/python3.10/site-packages/httpcore/_backends/sync.py:128\u001b[0m, in \u001b[0;36mSyncStream.read\u001b[0;34m(self, max_bytes, timeout)\u001b[0m\n\u001b[1;32m    126\u001b[0m \u001b[38;5;28;01mwith\u001b[39;00m map_exceptions(exc_map):\n\u001b[1;32m    127\u001b[0m     \u001b[38;5;28mself\u001b[39m\u001b[38;5;241m.\u001b[39m_sock\u001b[38;5;241m.\u001b[39msettimeout(timeout)\n\u001b[0;32m--> 128\u001b[0m     \u001b[38;5;28;01mreturn\u001b[39;00m \u001b[38;5;28;43mself\u001b[39;49m\u001b[38;5;241;43m.\u001b[39;49m\u001b[43m_sock\u001b[49m\u001b[38;5;241;43m.\u001b[39;49m\u001b[43mrecv\u001b[49m\u001b[43m(\u001b[49m\u001b[43mmax_bytes\u001b[49m\u001b[43m)\u001b[49m\n",
      "\u001b[0;31mKeyboardInterrupt\u001b[0m: "
     ]
    }
   ],
   "source": [
    "documents = SimpleDirectoryReader(\"./data/ravens_web_official_news_10_7_10_14\").load_data()\n",
    "index = ListIndex.from_documents(documents)\n",
    "query_engine = index.as_query_engine()\n",
    "response = query_engine.query(\"What's new with Baltimore Ravens?\")\n",
    "print(response)"
   ]
  },
  {
   "cell_type": "markdown",
   "id": "a577966f",
   "metadata": {},
   "source": [
    "# Tree Index"
   ]
  },
  {
   "cell_type": "code",
   "execution_count": 37,
   "id": "a063ca30",
   "metadata": {},
   "outputs": [
    {
     "name": "stdout",
     "output_type": "stream",
     "text": [
      "The Baltimore Ravens are riding a four-game winning streak, with their offense looking like a juggernaut. They have a balanced attack that is powered by running back Derrick Henry, who has been historically good this season. He has become the first player since Pro Football Hall of Famer LaDainian Tomlinson in 2005 to score a rushing touchdown in each of his first six games of a season. The Ravens are also just the second team in the Super Bowl era with at least 150 rushing yards and a rushing touchdown in each of its first six games of a season.\n"
     ]
    }
   ],
   "source": [
    "from llama_index.core import TreeIndex, SimpleDirectoryReader\n",
    "\n",
    "documents = SimpleDirectoryReader('./data/ravens_web_official_news_10_7_10_14').load_data()\n",
    "tree_index = TreeIndex.from_documents(documents)\n",
    "query_engine = tree_index.as_query_engine()\n",
    "response = query_engine.query(\"What's new with Baltimore Ravens?\")\n",
    "print(response)"
   ]
  },
  {
   "cell_type": "markdown",
   "id": "1120f2a2",
   "metadata": {},
   "source": [
    "# Keyword Table Index"
   ]
  },
  {
   "cell_type": "code",
   "execution_count": 38,
   "id": "bf527274",
   "metadata": {},
   "outputs": [
    {
     "name": "stdout",
     "output_type": "stream",
     "text": [
      "**Rewrite**: The Ravens' defense has been trending upward after a physical performance against the Commanders, with several key players making bone-jarring hits and swarming to the football. This was a big game for Baltimore's defense after giving up five touchdown passes in Week 5, but they were able to raise their game by eliminating glaring mistakes and limiting Washington's longest play from scrimmage to just 28 yards. The addition of veteran coach Dean Pees has likely contributed to this improvement, as the team looks to build on its strong rush defense and shore up its secondary.\n"
     ]
    }
   ],
   "source": [
    "from llama_index.core import KeywordTableIndex, SimpleDirectoryReader\n",
    "\n",
    "documents = SimpleDirectoryReader('./data/ravens_web_official_news_10_7_10_14').load_data()\n",
    "keyword_index = KeywordTableIndex.from_documents(documents)\n",
    "query_engine = keyword_index.as_query_engine()\n",
    "response = query_engine.query(\"What's new with Baltimore Ravens?\")\n",
    "print(response)"
   ]
  },
  {
   "cell_type": "markdown",
   "id": "0e0f5a7d",
   "metadata": {},
   "source": [
    "# bm25"
   ]
  },
  {
   "cell_type": "code",
   "execution_count": 1,
   "id": "c84d2f64",
   "metadata": {},
   "outputs": [],
   "source": [
    "from llama_index.core import SimpleDirectoryReader\n",
    "documents = SimpleDirectoryReader('./data/ravens_web_official_news_10_7_10_14').load_data()\n"
   ]
  },
  {
   "cell_type": "code",
   "execution_count": 2,
   "id": "cc7b55a7",
   "metadata": {},
   "outputs": [],
   "source": [
    "from llama_index.core.node_parser import SentenceSplitter\n",
    "splitter = SentenceSplitter(chunk_size=512)\n",
    "\n",
    "nodes = splitter.get_nodes_from_documents(documents)"
   ]
  },
  {
   "cell_type": "code",
   "execution_count": 8,
   "id": "2efdda88",
   "metadata": {},
   "outputs": [
    {
     "name": "stdout",
     "output_type": "stream",
     "text": [
      "Collecting llama-index-retrievers-bm25\n",
      "  Using cached llama_index_retrievers_bm25-0.5.2-py3-none-any.whl.metadata (740 bytes)\n",
      "Collecting bm25s<0.3.0,>=0.2.0 (from llama-index-retrievers-bm25)\n",
      "  Using cached bm25s-0.2.7.post1-py3-none-any.whl.metadata (21 kB)\n",
      "Requirement already satisfied: llama-index-core<0.13.0,>=0.12.0 in /home/luhj/miniconda3/envs/test/lib/python3.10/site-packages (from llama-index-retrievers-bm25) (0.12.5)\n",
      "Requirement already satisfied: pystemmer<3.0.0.0,>=2.2.0.1 in /home/luhj/miniconda3/envs/test/lib/python3.10/site-packages (from llama-index-retrievers-bm25) (2.2.0.3)\n",
      "Collecting scipy (from bm25s<0.3.0,>=0.2.0->llama-index-retrievers-bm25)\n",
      "  Using cached scipy-1.15.1-cp310-cp310-manylinux_2_17_x86_64.manylinux2014_x86_64.whl.metadata (61 kB)\n",
      "Requirement already satisfied: numpy in /home/luhj/miniconda3/envs/test/lib/python3.10/site-packages (from bm25s<0.3.0,>=0.2.0->llama-index-retrievers-bm25) (2.2.0)\n",
      "Requirement already satisfied: PyYAML>=6.0.1 in /home/luhj/miniconda3/envs/test/lib/python3.10/site-packages (from llama-index-core<0.13.0,>=0.12.0->llama-index-retrievers-bm25) (6.0.2)\n",
      "Requirement already satisfied: SQLAlchemy>=1.4.49 in /home/luhj/miniconda3/envs/test/lib/python3.10/site-packages (from SQLAlchemy[asyncio]>=1.4.49->llama-index-core<0.13.0,>=0.12.0->llama-index-retrievers-bm25) (2.0.36)\n",
      "Requirement already satisfied: aiohttp<4.0.0,>=3.8.6 in /home/luhj/miniconda3/envs/test/lib/python3.10/site-packages (from llama-index-core<0.13.0,>=0.12.0->llama-index-retrievers-bm25) (3.11.10)\n",
      "Requirement already satisfied: dataclasses-json in /home/luhj/miniconda3/envs/test/lib/python3.10/site-packages (from llama-index-core<0.13.0,>=0.12.0->llama-index-retrievers-bm25) (0.6.7)\n",
      "Requirement already satisfied: deprecated>=1.2.9.3 in /home/luhj/miniconda3/envs/test/lib/python3.10/site-packages (from llama-index-core<0.13.0,>=0.12.0->llama-index-retrievers-bm25) (1.2.15)\n",
      "Requirement already satisfied: dirtyjson<2.0.0,>=1.0.8 in /home/luhj/miniconda3/envs/test/lib/python3.10/site-packages (from llama-index-core<0.13.0,>=0.12.0->llama-index-retrievers-bm25) (1.0.8)\n",
      "Requirement already satisfied: filetype<2.0.0,>=1.2.0 in /home/luhj/miniconda3/envs/test/lib/python3.10/site-packages (from llama-index-core<0.13.0,>=0.12.0->llama-index-retrievers-bm25) (1.2.0)\n",
      "Requirement already satisfied: fsspec>=2023.5.0 in /home/luhj/miniconda3/envs/test/lib/python3.10/site-packages (from llama-index-core<0.13.0,>=0.12.0->llama-index-retrievers-bm25) (2024.10.0)\n",
      "Requirement already satisfied: httpx in /home/luhj/miniconda3/envs/test/lib/python3.10/site-packages (from llama-index-core<0.13.0,>=0.12.0->llama-index-retrievers-bm25) (0.27.2)\n",
      "Requirement already satisfied: nest-asyncio<2.0.0,>=1.5.8 in /home/luhj/miniconda3/envs/test/lib/python3.10/site-packages (from llama-index-core<0.13.0,>=0.12.0->llama-index-retrievers-bm25) (1.6.0)\n",
      "Requirement already satisfied: networkx>=3.0 in /home/luhj/miniconda3/envs/test/lib/python3.10/site-packages (from llama-index-core<0.13.0,>=0.12.0->llama-index-retrievers-bm25) (3.4.2)\n",
      "Requirement already satisfied: nltk>3.8.1 in /home/luhj/miniconda3/envs/test/lib/python3.10/site-packages (from llama-index-core<0.13.0,>=0.12.0->llama-index-retrievers-bm25) (3.9.1)\n",
      "Requirement already satisfied: pillow>=9.0.0 in /home/luhj/miniconda3/envs/test/lib/python3.10/site-packages (from llama-index-core<0.13.0,>=0.12.0->llama-index-retrievers-bm25) (11.0.0)\n",
      "Requirement already satisfied: pydantic>=2.8.0 in /home/luhj/miniconda3/envs/test/lib/python3.10/site-packages (from llama-index-core<0.13.0,>=0.12.0->llama-index-retrievers-bm25) (2.10.3)\n",
      "Requirement already satisfied: requests>=2.31.0 in /home/luhj/miniconda3/envs/test/lib/python3.10/site-packages (from llama-index-core<0.13.0,>=0.12.0->llama-index-retrievers-bm25) (2.32.3)\n",
      "Requirement already satisfied: tenacity!=8.4.0,<10.0.0,>=8.2.0 in /home/luhj/miniconda3/envs/test/lib/python3.10/site-packages (from llama-index-core<0.13.0,>=0.12.0->llama-index-retrievers-bm25) (8.5.0)\n",
      "Requirement already satisfied: tiktoken>=0.3.3 in /home/luhj/miniconda3/envs/test/lib/python3.10/site-packages (from llama-index-core<0.13.0,>=0.12.0->llama-index-retrievers-bm25) (0.8.0)\n",
      "Requirement already satisfied: tqdm<5.0.0,>=4.66.1 in /home/luhj/miniconda3/envs/test/lib/python3.10/site-packages (from llama-index-core<0.13.0,>=0.12.0->llama-index-retrievers-bm25) (4.67.1)\n",
      "Requirement already satisfied: typing-extensions>=4.5.0 in /home/luhj/miniconda3/envs/test/lib/python3.10/site-packages (from llama-index-core<0.13.0,>=0.12.0->llama-index-retrievers-bm25) (4.12.2)\n",
      "Requirement already satisfied: typing-inspect>=0.8.0 in /home/luhj/miniconda3/envs/test/lib/python3.10/site-packages (from llama-index-core<0.13.0,>=0.12.0->llama-index-retrievers-bm25) (0.9.0)\n",
      "Requirement already satisfied: wrapt in /home/luhj/miniconda3/envs/test/lib/python3.10/site-packages (from llama-index-core<0.13.0,>=0.12.0->llama-index-retrievers-bm25) (1.17.0)\n",
      "Requirement already satisfied: aiohappyeyeballs>=2.3.0 in /home/luhj/miniconda3/envs/test/lib/python3.10/site-packages (from aiohttp<4.0.0,>=3.8.6->llama-index-core<0.13.0,>=0.12.0->llama-index-retrievers-bm25) (2.4.4)\n",
      "Requirement already satisfied: aiosignal>=1.1.2 in /home/luhj/miniconda3/envs/test/lib/python3.10/site-packages (from aiohttp<4.0.0,>=3.8.6->llama-index-core<0.13.0,>=0.12.0->llama-index-retrievers-bm25) (1.3.1)\n",
      "Requirement already satisfied: async-timeout<6.0,>=4.0 in /home/luhj/miniconda3/envs/test/lib/python3.10/site-packages (from aiohttp<4.0.0,>=3.8.6->llama-index-core<0.13.0,>=0.12.0->llama-index-retrievers-bm25) (5.0.1)\n",
      "Requirement already satisfied: attrs>=17.3.0 in /home/luhj/miniconda3/envs/test/lib/python3.10/site-packages (from aiohttp<4.0.0,>=3.8.6->llama-index-core<0.13.0,>=0.12.0->llama-index-retrievers-bm25) (24.2.0)\n",
      "Requirement already satisfied: frozenlist>=1.1.1 in /home/luhj/miniconda3/envs/test/lib/python3.10/site-packages (from aiohttp<4.0.0,>=3.8.6->llama-index-core<0.13.0,>=0.12.0->llama-index-retrievers-bm25) (1.5.0)\n",
      "Requirement already satisfied: multidict<7.0,>=4.5 in /home/luhj/miniconda3/envs/test/lib/python3.10/site-packages (from aiohttp<4.0.0,>=3.8.6->llama-index-core<0.13.0,>=0.12.0->llama-index-retrievers-bm25) (6.1.0)\n",
      "Requirement already satisfied: propcache>=0.2.0 in /home/luhj/miniconda3/envs/test/lib/python3.10/site-packages (from aiohttp<4.0.0,>=3.8.6->llama-index-core<0.13.0,>=0.12.0->llama-index-retrievers-bm25) (0.2.1)\n",
      "Requirement already satisfied: yarl<2.0,>=1.17.0 in /home/luhj/miniconda3/envs/test/lib/python3.10/site-packages (from aiohttp<4.0.0,>=3.8.6->llama-index-core<0.13.0,>=0.12.0->llama-index-retrievers-bm25) (1.18.3)\n",
      "Requirement already satisfied: click in /home/luhj/miniconda3/envs/test/lib/python3.10/site-packages (from nltk>3.8.1->llama-index-core<0.13.0,>=0.12.0->llama-index-retrievers-bm25) (8.1.7)\n",
      "Requirement already satisfied: joblib in /home/luhj/miniconda3/envs/test/lib/python3.10/site-packages (from nltk>3.8.1->llama-index-core<0.13.0,>=0.12.0->llama-index-retrievers-bm25) (1.4.2)\n",
      "Requirement already satisfied: regex>=2021.8.3 in /home/luhj/miniconda3/envs/test/lib/python3.10/site-packages (from nltk>3.8.1->llama-index-core<0.13.0,>=0.12.0->llama-index-retrievers-bm25) (2024.11.6)\n",
      "Requirement already satisfied: annotated-types>=0.6.0 in /home/luhj/miniconda3/envs/test/lib/python3.10/site-packages (from pydantic>=2.8.0->llama-index-core<0.13.0,>=0.12.0->llama-index-retrievers-bm25) (0.7.0)\n",
      "Requirement already satisfied: pydantic-core==2.27.1 in /home/luhj/miniconda3/envs/test/lib/python3.10/site-packages (from pydantic>=2.8.0->llama-index-core<0.13.0,>=0.12.0->llama-index-retrievers-bm25) (2.27.1)\n",
      "Requirement already satisfied: charset-normalizer<4,>=2 in /home/luhj/miniconda3/envs/test/lib/python3.10/site-packages (from requests>=2.31.0->llama-index-core<0.13.0,>=0.12.0->llama-index-retrievers-bm25) (3.4.0)\n",
      "Requirement already satisfied: idna<4,>=2.5 in /home/luhj/miniconda3/envs/test/lib/python3.10/site-packages (from requests>=2.31.0->llama-index-core<0.13.0,>=0.12.0->llama-index-retrievers-bm25) (3.10)\n",
      "Requirement already satisfied: urllib3<3,>=1.21.1 in /home/luhj/miniconda3/envs/test/lib/python3.10/site-packages (from requests>=2.31.0->llama-index-core<0.13.0,>=0.12.0->llama-index-retrievers-bm25) (2.2.3)\n",
      "Requirement already satisfied: certifi>=2017.4.17 in /home/luhj/miniconda3/envs/test/lib/python3.10/site-packages (from requests>=2.31.0->llama-index-core<0.13.0,>=0.12.0->llama-index-retrievers-bm25) (2024.8.30)\n",
      "Requirement already satisfied: greenlet!=0.4.17 in /home/luhj/miniconda3/envs/test/lib/python3.10/site-packages (from SQLAlchemy>=1.4.49->SQLAlchemy[asyncio]>=1.4.49->llama-index-core<0.13.0,>=0.12.0->llama-index-retrievers-bm25) (3.1.1)\n",
      "Requirement already satisfied: mypy-extensions>=0.3.0 in /home/luhj/miniconda3/envs/test/lib/python3.10/site-packages (from typing-inspect>=0.8.0->llama-index-core<0.13.0,>=0.12.0->llama-index-retrievers-bm25) (1.0.0)\n",
      "Requirement already satisfied: marshmallow<4.0.0,>=3.18.0 in /home/luhj/miniconda3/envs/test/lib/python3.10/site-packages (from dataclasses-json->llama-index-core<0.13.0,>=0.12.0->llama-index-retrievers-bm25) (3.23.1)\n",
      "Requirement already satisfied: anyio in /home/luhj/miniconda3/envs/test/lib/python3.10/site-packages (from httpx->llama-index-core<0.13.0,>=0.12.0->llama-index-retrievers-bm25) (4.7.0)\n",
      "Requirement already satisfied: httpcore==1.* in /home/luhj/miniconda3/envs/test/lib/python3.10/site-packages (from httpx->llama-index-core<0.13.0,>=0.12.0->llama-index-retrievers-bm25) (1.0.7)\n",
      "Requirement already satisfied: sniffio in /home/luhj/miniconda3/envs/test/lib/python3.10/site-packages (from httpx->llama-index-core<0.13.0,>=0.12.0->llama-index-retrievers-bm25) (1.3.1)\n",
      "Requirement already satisfied: h11<0.15,>=0.13 in /home/luhj/miniconda3/envs/test/lib/python3.10/site-packages (from httpcore==1.*->httpx->llama-index-core<0.13.0,>=0.12.0->llama-index-retrievers-bm25) (0.14.0)\n",
      "Requirement already satisfied: packaging>=17.0 in /home/luhj/miniconda3/envs/test/lib/python3.10/site-packages (from marshmallow<4.0.0,>=3.18.0->dataclasses-json->llama-index-core<0.13.0,>=0.12.0->llama-index-retrievers-bm25) (24.2)\n",
      "Requirement already satisfied: exceptiongroup>=1.0.2 in /home/luhj/miniconda3/envs/test/lib/python3.10/site-packages (from anyio->httpx->llama-index-core<0.13.0,>=0.12.0->llama-index-retrievers-bm25) (1.2.2)\n",
      "Using cached llama_index_retrievers_bm25-0.5.2-py3-none-any.whl (3.7 kB)\n",
      "Using cached bm25s-0.2.7.post1-py3-none-any.whl (53 kB)\n",
      "Using cached scipy-1.15.1-cp310-cp310-manylinux_2_17_x86_64.manylinux2014_x86_64.whl (40.6 MB)\n",
      "Installing collected packages: scipy, bm25s, llama-index-retrievers-bm25\n",
      "Successfully installed bm25s-0.2.7.post1 llama-index-retrievers-bm25-0.5.2 scipy-1.15.1\n"
     ]
    }
   ],
   "source": [
    "! pip install llama-index-retrievers-bm25"
   ]
  },
  {
   "cell_type": "code",
   "execution_count": 11,
   "id": "5fd0bfbd",
   "metadata": {},
   "outputs": [
    {
     "name": "stdout",
     "output_type": "stream",
     "text": [
      "Collecting ipywidgets\n",
      "  Downloading ipywidgets-8.1.5-py3-none-any.whl.metadata (2.3 kB)\n",
      "Requirement already satisfied: comm>=0.1.3 in /home/luhj/miniconda3/envs/test/lib/python3.10/site-packages (from ipywidgets) (0.2.2)\n",
      "Requirement already satisfied: ipython>=6.1.0 in /home/luhj/miniconda3/envs/test/lib/python3.10/site-packages (from ipywidgets) (8.30.0)\n",
      "Requirement already satisfied: traitlets>=4.3.1 in /home/luhj/miniconda3/envs/test/lib/python3.10/site-packages (from ipywidgets) (5.14.3)\n",
      "Collecting widgetsnbextension~=4.0.12 (from ipywidgets)\n",
      "  Downloading widgetsnbextension-4.0.13-py3-none-any.whl.metadata (1.6 kB)\n",
      "Collecting jupyterlab-widgets~=3.0.12 (from ipywidgets)\n",
      "  Downloading jupyterlab_widgets-3.0.13-py3-none-any.whl.metadata (4.1 kB)\n",
      "Requirement already satisfied: decorator in /home/luhj/miniconda3/envs/test/lib/python3.10/site-packages (from ipython>=6.1.0->ipywidgets) (5.1.1)\n",
      "Requirement already satisfied: exceptiongroup in /home/luhj/miniconda3/envs/test/lib/python3.10/site-packages (from ipython>=6.1.0->ipywidgets) (1.2.2)\n",
      "Requirement already satisfied: jedi>=0.16 in /home/luhj/miniconda3/envs/test/lib/python3.10/site-packages (from ipython>=6.1.0->ipywidgets) (0.19.2)\n",
      "Requirement already satisfied: matplotlib-inline in /home/luhj/miniconda3/envs/test/lib/python3.10/site-packages (from ipython>=6.1.0->ipywidgets) (0.1.7)\n",
      "Requirement already satisfied: pexpect>4.3 in /home/luhj/miniconda3/envs/test/lib/python3.10/site-packages (from ipython>=6.1.0->ipywidgets) (4.9.0)\n",
      "Requirement already satisfied: prompt_toolkit<3.1.0,>=3.0.41 in /home/luhj/miniconda3/envs/test/lib/python3.10/site-packages (from ipython>=6.1.0->ipywidgets) (3.0.48)\n",
      "Requirement already satisfied: pygments>=2.4.0 in /home/luhj/miniconda3/envs/test/lib/python3.10/site-packages (from ipython>=6.1.0->ipywidgets) (2.18.0)\n",
      "Requirement already satisfied: stack_data in /home/luhj/miniconda3/envs/test/lib/python3.10/site-packages (from ipython>=6.1.0->ipywidgets) (0.6.3)\n",
      "Requirement already satisfied: typing_extensions>=4.6 in /home/luhj/miniconda3/envs/test/lib/python3.10/site-packages (from ipython>=6.1.0->ipywidgets) (4.12.2)\n",
      "Requirement already satisfied: parso<0.9.0,>=0.8.4 in /home/luhj/miniconda3/envs/test/lib/python3.10/site-packages (from jedi>=0.16->ipython>=6.1.0->ipywidgets) (0.8.4)\n",
      "Requirement already satisfied: ptyprocess>=0.5 in /home/luhj/miniconda3/envs/test/lib/python3.10/site-packages (from pexpect>4.3->ipython>=6.1.0->ipywidgets) (0.7.0)\n",
      "Requirement already satisfied: wcwidth in /home/luhj/miniconda3/envs/test/lib/python3.10/site-packages (from prompt_toolkit<3.1.0,>=3.0.41->ipython>=6.1.0->ipywidgets) (0.2.13)\n",
      "Requirement already satisfied: executing>=1.2.0 in /home/luhj/miniconda3/envs/test/lib/python3.10/site-packages (from stack_data->ipython>=6.1.0->ipywidgets) (2.1.0)\n",
      "Requirement already satisfied: asttokens>=2.1.0 in /home/luhj/miniconda3/envs/test/lib/python3.10/site-packages (from stack_data->ipython>=6.1.0->ipywidgets) (3.0.0)\n",
      "Requirement already satisfied: pure_eval in /home/luhj/miniconda3/envs/test/lib/python3.10/site-packages (from stack_data->ipython>=6.1.0->ipywidgets) (0.2.3)\n",
      "Downloading ipywidgets-8.1.5-py3-none-any.whl (139 kB)\n",
      "Downloading jupyterlab_widgets-3.0.13-py3-none-any.whl (214 kB)\n",
      "Downloading widgetsnbextension-4.0.13-py3-none-any.whl (2.3 MB)\n",
      "\u001b[2K   \u001b[90m━━━━━━━━━━━━━━━━━━━━━━━━━━━━━━━━━━━━━━━━\u001b[0m \u001b[32m2.3/2.3 MB\u001b[0m \u001b[31m38.2 MB/s\u001b[0m eta \u001b[36m0:00:00\u001b[0m\n",
      "\u001b[?25hInstalling collected packages: widgetsnbextension, jupyterlab-widgets, ipywidgets\n",
      "Successfully installed ipywidgets-8.1.5 jupyterlab-widgets-3.0.13 widgetsnbextension-4.0.13\n"
     ]
    }
   ],
   "source": [
    "! pip install ipywidgets"
   ]
  },
  {
   "cell_type": "code",
   "execution_count": 14,
   "id": "6ba1a0bb",
   "metadata": {},
   "outputs": [],
   "source": [
    "from llama_index.core.storage.docstore import SimpleDocumentStore\n",
    "\n",
    "docstore = SimpleDocumentStore()\n",
    "docstore.add_documents(nodes)"
   ]
  },
  {
   "cell_type": "code",
   "execution_count": 15,
   "id": "9e6a51d4",
   "metadata": {},
   "outputs": [],
   "source": [
    "from llama_index.retrievers.bm25 import BM25Retriever\n",
    "import Stemmer\n",
    "bm25_retriever = BM25Retriever.from_defaults(\n",
    "    docstore=docstore,\n",
    "    similarity_top_k=2,\n",
    "    # Optional: We can pass in the stemmer and set the language for stopwords\n",
    "    # This is important for removing stopwords and stemming the query + text\n",
    "    # The default is english for both\n",
    "    stemmer=Stemmer.Stemmer(\"english\"),\n",
    "    language=\"english\",\n",
    ")"
   ]
  },
  {
   "cell_type": "code",
   "execution_count": 16,
   "id": "8a25de4e",
   "metadata": {},
   "outputs": [],
   "source": [
    "from llama_index.core.query_engine import RetrieverQueryEngine\n",
    "\n",
    "query_engine = RetrieverQueryEngine(bm25_retriever)"
   ]
  },
  {
   "cell_type": "code",
   "execution_count": 18,
   "id": "cadabf13",
   "metadata": {},
   "outputs": [
    {
     "name": "stdout",
     "output_type": "stream",
     "text": [
      "The Baltimore Ravens have unveiled three new club memberships for PSL owners at M&T Bank Stadium. These premium spaces offer unique team access, all-inclusive food and beverage options, and private restrooms. Additionally, the team is not pursuing a trade for Las Vegas Raiders wide receiver Davante Adams due to salary cap constraints.\n"
     ]
    }
   ],
   "source": [
    "response = query_engine.query(\"What's new with Baltimore Ravens?\")\n",
    "print(response)"
   ]
  },
  {
   "cell_type": "code",
   "execution_count": 20,
   "id": "f08f84be",
   "metadata": {},
   "outputs": [
    {
     "name": "stdout",
     "output_type": "stream",
     "text": [
      "Collecting matplotlib\n",
      "  Downloading matplotlib-3.10.0-cp310-cp310-manylinux_2_17_x86_64.manylinux2014_x86_64.whl.metadata (11 kB)\n",
      "Collecting contourpy>=1.0.1 (from matplotlib)\n",
      "  Downloading contourpy-1.3.1-cp310-cp310-manylinux_2_17_x86_64.manylinux2014_x86_64.whl.metadata (5.4 kB)\n",
      "Collecting cycler>=0.10 (from matplotlib)\n",
      "  Using cached cycler-0.12.1-py3-none-any.whl.metadata (3.8 kB)\n",
      "Collecting fonttools>=4.22.0 (from matplotlib)\n",
      "  Downloading fonttools-4.55.8-cp310-cp310-manylinux_2_17_x86_64.manylinux2014_x86_64.whl.metadata (101 kB)\n",
      "Collecting kiwisolver>=1.3.1 (from matplotlib)\n",
      "  Downloading kiwisolver-1.4.8-cp310-cp310-manylinux_2_12_x86_64.manylinux2010_x86_64.whl.metadata (6.2 kB)\n",
      "Requirement already satisfied: numpy>=1.23 in /home/luhj/miniconda3/envs/test/lib/python3.10/site-packages (from matplotlib) (2.2.0)\n",
      "Requirement already satisfied: packaging>=20.0 in /home/luhj/miniconda3/envs/test/lib/python3.10/site-packages (from matplotlib) (24.2)\n",
      "Requirement already satisfied: pillow>=8 in /home/luhj/miniconda3/envs/test/lib/python3.10/site-packages (from matplotlib) (11.0.0)\n",
      "Collecting pyparsing>=2.3.1 (from matplotlib)\n",
      "  Downloading pyparsing-3.2.1-py3-none-any.whl.metadata (5.0 kB)\n",
      "Requirement already satisfied: python-dateutil>=2.7 in /home/luhj/miniconda3/envs/test/lib/python3.10/site-packages (from matplotlib) (2.9.0.post0)\n",
      "Requirement already satisfied: six>=1.5 in /home/luhj/miniconda3/envs/test/lib/python3.10/site-packages (from python-dateutil>=2.7->matplotlib) (1.17.0)\n",
      "Downloading matplotlib-3.10.0-cp310-cp310-manylinux_2_17_x86_64.manylinux2014_x86_64.whl (8.6 MB)\n",
      "\u001b[2K   \u001b[90m━━━━━━━━━━━━━━━━━━━━━━━━━━━━━━━━━━━━━━━━\u001b[0m \u001b[32m8.6/8.6 MB\u001b[0m \u001b[31m61.1 MB/s\u001b[0m eta \u001b[36m0:00:00\u001b[0m\n",
      "\u001b[?25hDownloading contourpy-1.3.1-cp310-cp310-manylinux_2_17_x86_64.manylinux2014_x86_64.whl (324 kB)\n",
      "Using cached cycler-0.12.1-py3-none-any.whl (8.3 kB)\n",
      "Downloading fonttools-4.55.8-cp310-cp310-manylinux_2_17_x86_64.manylinux2014_x86_64.whl (4.6 MB)\n",
      "\u001b[2K   \u001b[90m━━━━━━━━━━━━━━━━━━━━━━━━━━━━━━━━━━━━━━━━\u001b[0m \u001b[32m4.6/4.6 MB\u001b[0m \u001b[31m57.0 MB/s\u001b[0m eta \u001b[36m0:00:00\u001b[0m\n",
      "\u001b[?25hDownloading kiwisolver-1.4.8-cp310-cp310-manylinux_2_12_x86_64.manylinux2010_x86_64.whl (1.6 MB)\n",
      "\u001b[2K   \u001b[90m━━━━━━━━━━━━━━━━━━━━━━━━━━━━━━━━━━━━━━━━\u001b[0m \u001b[32m1.6/1.6 MB\u001b[0m \u001b[31m49.0 MB/s\u001b[0m eta \u001b[36m0:00:00\u001b[0m\n",
      "\u001b[?25hDownloading pyparsing-3.2.1-py3-none-any.whl (107 kB)\n",
      "Installing collected packages: pyparsing, kiwisolver, fonttools, cycler, contourpy, matplotlib\n"
     ]
    }
   ],
   "source": [
    "! pip install matplotlib"
   ]
  },
  {
   "cell_type": "code",
   "execution_count": 21,
   "id": "8b7e7433",
   "metadata": {},
   "outputs": [
    {
     "name": "stderr",
     "output_type": "stream",
     "text": [
      "/home/luhj/miniconda3/envs/test/lib/python3.10/site-packages/matplotlib/projections/__init__.py:63: UserWarning: Unable to import Axes3D. This may be due to multiple versions of Matplotlib being installed (e.g. as a system package and as a pip package). As a result, the 3D projection is not available.\n",
      "  warnings.warn(\"Unable to import Axes3D. This may be due to multiple versions of \"\n"
     ]
    },
    {
     "data": {
      "text/markdown": [
       "**Node ID:** 85b9b55a-d285-496c-be13-368f4415a466<br>**Similarity:** 1.9626601934432983<br>**Text:** Ravens Announce New Lower Concourse Club Spaces at M&T Bank Stadium\r\n",
       "Oct 08, 2024 at 10:01 AM\r\n",
       "Baltimore Ravens\r\n",
       "\r\n",
       "As part of their ongoing efforts to ensure M&T Bank Stadium remains a world-class NFL and entertainment venue, the Baltimore Ravens unveiled three new club memberships to be offered to PSL owners, beginning in 2025. These premium, lower concourse club spaces serve as the latest offerings from \"The Next Evolution,\" a three-year enhancements project created to significantly enrich the gameday and year-round fan experience at M&T Bank Stadium. (Please click the links below for more information about each new club space.)\r\n",
       "\r\n",
       "\"These new hospitality spaces bring an opportunity for PSL owners to elevate their gameday experience in areas that weren't previously possible,\" Ravens senior vice president of ticket sales and operations Baker Koppelman stated. \"These spaces are designed with easy access in mind and provide amenities that will enhance the full-day stadium experience – from pregame to postgame. For years, we've heard from many fans who expressed a strong desire for this type of experience, so we're incredibly excited about our ability to now deliver these elevated options.\"\r\n",
       "\r\n",
       "The Trust, presented by M&T Bank (2025)\r\n",
       "\r\n",
       "The Trust, located on the south side of M&T Bank Stadium, is an ultra-premium, lower concourse club that offers unique team access, including views of the Ravens' player tunnel at the 50-yard line and the post-game press conference room. The space encapsulates a lounge-like atmosphere with design elements reminiscent of early 1900s Baltimore banks.\r\n",
       "\r\n",
       "With club membership, PSL owners may enter The Trust beginning two hours prior to kickoff and remain up to 90 minutes following the game's conclusion. This ultra-premium club space – with a maximum capacity of 400 – offers all-inclusive premium food and beverage options and access to private restrooms.\r\n",
       "\r\n",
       "The Raven (2025)\r\n",
       "\r\n",
       "Situated near the 50-yard line and underneath the lower level, The Raven is located on the north side of M&T Bank Stadium and provides an elevated club experience. The space will feature thematic touches related to the team's namesake, the poem \"The Raven.\"<br>"
      ],
      "text/plain": [
       "<IPython.core.display.Markdown object>"
      ]
     },
     "metadata": {},
     "output_type": "display_data"
    },
    {
     "data": {
      "text/markdown": [
       "**Node ID:** 5f187f3d-2bdd-4d57-94f1-14b4220f4493<br>**Similarity:** 1.9011751413345337<br>**Text:** Late for Work Ravens Reportedly Not Pursuing Davante Adams\r\n",
       "Oct 10, 2024 at 09:09 AM\r\n",
       "Kevin Eck\r\n",
       "Writer\r\n",
       "\r\n",
       "Ravens Reportedly Not Pursuing Davante Adams\r\n",
       "Speculation that Las Vegas Raiders wide receiver Davante Adams could be traded to the Ravens intensified last week when the three-time All-Pro posted a photo of Edgar Allan Poe on his Instagram along with the Poe quote, \"Believe nothing you hear and half of what you see.\"\r\n",
       "\r\n",
       "It remains a mystery what message Adams intended to convey with his cryptic post, but The Athletic reports that the Ravens are not among the teams pursuing him.\r\n",
       "\r\n",
       "\"Adams churned up rumors about the Baltimore Ravens' getting involved last week when he posted a picture of poet Edgar Allan Poe, who's best known for his poem 'The Raven,' on Instagram, but Baltimore is not in conversations to acquire the receiver,\" The Athletic's Tashan Reed, Vic Tafur, and Dianna Russini wrote.\r\n",
       "\r\n",
       "The teams who are in talks with the Raiders about Adams are the New York Jets, New Orleans Saints, and Pittsburgh Steelers, while the Buffalo Bills are monitoring the situation, according to The Athletic.\r\n",
       "\r\n",
       "The Ravens acquiring Adams always seemed like a longshot, largely because they are tight against the salary cap and Adams' immediate cap hit would be $13.5 million unless the Raiders ate some. Reports have suggested that Vegas has been unwilling to do so.\r\n",
       "\r\n",
       "Lamar Jackson was asked yesterday about the Adams speculation and how satisfied he is with his pass-catchers.\r\n",
       "\r\n",
       "\"My guys are doing a great job – receivers, tight ends, running backs, fullbacks. Our guys are doing it all right now, and we're winning games, so that's all that matters,\" Jackson said.\r\n",
       "\r\n",
       "Baltimore got widespread contributions from its pass catchers in the 41-38 win in Cincinnati, with Zay Flowers leading the way with seven catches for 111 yards. Rashod Bateman saw a season-high eight targets and scored a 16-yard touchdown. Even No. 3 tight end Charlie Kolar caught three passes for 64 yards and a score.\r\n",
       "\r\n",
       "Ravens Have NFL's Best Rushing Duo\r\n",
       "The dream team backfield of Jackson and running back Derrick Henry has lived up to the hype.<br>"
      ],
      "text/plain": [
       "<IPython.core.display.Markdown object>"
      ]
     },
     "metadata": {},
     "output_type": "display_data"
    }
   ],
   "source": [
    "from llama_index.core.response.notebook_utils import display_source_node\n",
    "retrieved_nodes = bm25_retriever.retrieve(\"What's new with Baltimore Ravens?\")\n",
    "for node in retrieved_nodes:\n",
    "    display_source_node(node, source_length=5000)"
   ]
  },
  {
   "cell_type": "markdown",
   "id": "dcd16a57",
   "metadata": {},
   "source": [
    "# Vector Store Index"
   ]
  },
  {
   "cell_type": "code",
   "execution_count": null,
   "id": "8e20b788",
   "metadata": {},
   "outputs": [
    {
     "name": "stdout",
     "output_type": "stream",
     "text": [
      "Created new collection 'ravens'.\n"
     ]
    }
   ],
   "source": [
    "# Create Chroma client\n",
    "chroma_client = chromadb.EphemeralClient()\n",
    "\n",
    "# Define collection name\n",
    "collection_name = \"ravens\"\n",
    "\n",
    "# Check if the collection already exists\n",
    "existing_collections = chroma_client.list_collections()\n",
    "\n",
    "if collection_name in [collection.name for collection in existing_collections]:\n",
    "    chroma_collection = chroma_client.get_collection(collection_name)\n",
    "    print(f\"Using existing collection '{collection_name}'.\")\n",
    "else:\n",
    "    chroma_collection = chroma_client.create_collection(collection_name)\n",
    "    print(f\"Created new collection '{collection_name}'.\")\n",
    "\n",
    "# Set up embedding model\n",
    "embed_model = OllamaEmbedding(\n",
    "    model_name=\"snowflake-arctic-embed\",\n",
    "    ollama_additional_kwargs={\"prostatic\": 0},\n",
    ")\n",
    "\n",
    "# Load documents\n",
    "documents = SimpleDirectoryReader(\"./data/ravens_web_official_news_10_7_10_14\").load_data()\n",
    "\n",
    "# Set up ChromaVectorStore and load in data\n",
    "vector_store = ChromaVectorStore(chroma_collection=chroma_collection)\n",
    "storage_context = StorageContext.from_defaults(vector_store=vector_store)\n",
    "# index = VectorStoreIndex.from_documents(\n",
    "#     documents, storage_context=storage_context, embed_model=embed_model\n",
    "# )\n",
    "\n",
    "\n",
    "# with node\n",
    "from llama_index.core.node_parser import SentenceSplitter, SimpleNodeParser\n",
    "index = VectorStoreIndex.from_documents(\n",
    "    documents, storage_context=storage_context, embed_model=embed_model, transformations=[SimpleNodeParser(chunk_size=2048, chunk_overlap=20)]\n",
    ")"
   ]
  },
  {
   "cell_type": "markdown",
   "id": "d62d3947",
   "metadata": {},
   "source": [
    "### Demo"
   ]
  },
  {
   "cell_type": "code",
   "execution_count": 23,
   "id": "4d2ca303",
   "metadata": {},
   "outputs": [
    {
     "name": "stdout",
     "output_type": "stream",
     "text": [
      "The Baltimore Ravens are continuing to rise in the power rankings after a thrilling overtime win against the Bengals. Lamar Jackson had an MVP showing with four touchdown passes, and the team has another tough test this week hosting the Washington Commanders. The defense is seeking answers after giving up five touchdown passes, but coordinator Zach Orr remains confident that they will find their rhythm soon.\n"
     ]
    }
   ],
   "source": [
    "# Create query engine and perform query\n",
    "query_engine = index.as_query_engine(similarity_top_k=2)\n",
    "response = query_engine.query(\"What's new with Baltimore Ravens?\")\n",
    "# with open(\"Output.txt\", \"w\") as text_file:\n",
    "#     text_file.write(str(response))\n",
    "print(response)"
   ]
  },
  {
   "cell_type": "markdown",
   "id": "9e973acb",
   "metadata": {},
   "source": [
    "# Hybird Retriever w/ BM25 + Chroma"
   ]
  },
  {
   "cell_type": "markdown",
   "id": "644c9bd1",
   "metadata": {},
   "source": [
    "## load data"
   ]
  },
  {
   "cell_type": "code",
   "execution_count": 3,
   "id": "90a983a5",
   "metadata": {},
   "outputs": [],
   "source": [
    "from llama_index.core import SimpleDirectoryReader\n",
    "documents = SimpleDirectoryReader('./data/ravens_web_official_news_10_7_10_14').load_data()"
   ]
  },
  {
   "cell_type": "markdown",
   "id": "62c64b3a",
   "metadata": {},
   "source": [
    "## hybrid"
   ]
  },
  {
   "cell_type": "code",
   "execution_count": 35,
   "id": "9c489ffb",
   "metadata": {},
   "outputs": [],
   "source": [
    "from llama_index.core.node_parser import SentenceSplitter, SimpleNodeParser\n",
    "hybrid_splitter = SimpleNodeParser(chunk_size=512)\n",
    "\n",
    "hybrid_nodes = hybrid_splitter.get_nodes_from_documents(documents)"
   ]
  },
  {
   "cell_type": "code",
   "execution_count": 36,
   "id": "7d26b8a6",
   "metadata": {},
   "outputs": [],
   "source": [
    "from llama_index.core import VectorStoreIndex, StorageContext\n",
    "from llama_index.core.storage.docstore import SimpleDocumentStore\n",
    "from llama_index.vector_stores.chroma import ChromaVectorStore\n",
    "import chromadb\n",
    "\n",
    "hybrid_docstore = SimpleDocumentStore()\n",
    "hybrid_docstore.add_documents(hybrid_nodes)\n",
    "\n",
    "db = chromadb.PersistentClient(path=\"./chroma_db\")\n",
    "chroma_collection = db.get_or_create_collection(\"dense_vectors\")\n",
    "hybrid_vector_store = ChromaVectorStore(chroma_collection=chroma_collection)\n",
    "\n",
    "hybrid_storage_context = StorageContext.from_defaults(\n",
    "    docstore=hybrid_docstore, vector_store=hybrid_vector_store\n",
    ")\n"
   ]
  },
  {
   "cell_type": "code",
   "execution_count": 37,
   "id": "4fe11dcd",
   "metadata": {},
   "outputs": [],
   "source": [
    "# Set up embedding model\n",
    "embed_model = OllamaEmbedding(\n",
    "    model_name=\"snowflake-arctic-embed\",\n",
    "    ollama_additional_kwargs={\"prostatic\": 0},\n",
    ")\n",
    "\n",
    "# vector index\n",
    "from llama_index.core.node_parser import SentenceSplitter, SimpleNodeParser\n",
    "hybrid_chroma_index = VectorStoreIndex.from_documents(\n",
    "    documents, storage_context=hybrid_storage_context, embed_model=embed_model\n",
    ")"
   ]
  },
  {
   "cell_type": "code",
   "execution_count": 38,
   "id": "b660be16",
   "metadata": {},
   "outputs": [],
   "source": [
    "from llama_index.core.retrievers import QueryFusionRetriever\n",
    "from llama_index.retrievers.bm25 import BM25Retriever\n",
    "import Stemmer\n",
    "\n",
    "# bm25_retriever = BM25Retriever.from_defaults(\n",
    "#     docstore=docstore,\n",
    "#     similarity_top_k=2,\n",
    "#     # Optional: We can pass in the stemmer and set the language for stopwords\n",
    "#     # This is important for removing stopwords and stemming the query + text\n",
    "#     # The default is english for both\n",
    "#     stemmer=Stemmer.Stemmer(\"english\"),\n",
    "#     language=\"english\",\n",
    "# )\n",
    "\n",
    "import nest_asyncio\n",
    "\n",
    "nest_asyncio.apply()\n",
    "\n",
    "hybrid_retriever = QueryFusionRetriever(\n",
    "    [\n",
    "        hybrid_chroma_index.as_retriever(similarity_top_k=2),\n",
    "        BM25Retriever.from_defaults(\n",
    "            docstore=hybrid_chroma_index.docstore, similarity_top_k=2\n",
    "        ),\n",
    "    ],\n",
    "    num_queries=3,\n",
    "    use_async=True,\n",
    "    \n",
    "    mode=\"reciprocal_rerank\"\n",
    ")\n"
   ]
  },
  {
   "cell_type": "code",
   "execution_count": null,
   "id": "36ddadec",
   "metadata": {},
   "outputs": [
    {
     "ename": "NameError",
     "evalue": "name 'display_source_node' is not defined",
     "output_type": "error",
     "traceback": [
      "\u001b[0;31m---------------------------------------------------------------------------\u001b[0m",
      "\u001b[0;31mNameError\u001b[0m                                 Traceback (most recent call last)",
      "Cell \u001b[0;32mIn[14], line 3\u001b[0m\n\u001b[1;32m      1\u001b[0m nodes \u001b[38;5;241m=\u001b[39m retriever\u001b[38;5;241m.\u001b[39mretrieve(query)\n\u001b[1;32m      2\u001b[0m \u001b[38;5;28;01mfor\u001b[39;00m node \u001b[38;5;129;01min\u001b[39;00m nodes:\n\u001b[0;32m----> 3\u001b[0m     \u001b[43mdisplay_source_node\u001b[49m(node, source_length\u001b[38;5;241m=\u001b[39m\u001b[38;5;241m5000\u001b[39m)\n",
      "\u001b[0;31mNameError\u001b[0m: name 'display_source_node' is not defined"
     ]
    }
   ],
   "source": [
    "# nodes = retriever.retrieve(query)\n",
    "# for node in nodes:\n",
    "#     display_source_node(node, source_length=5000)"
   ]
  },
  {
   "cell_type": "code",
   "execution_count": 39,
   "id": "516f141b",
   "metadata": {},
   "outputs": [],
   "source": [
    "from llama_index.core.query_engine import RetrieverQueryEngine\n",
    "\n",
    "hybrid_query_engine = RetrieverQueryEngine(hybrid_retriever)"
   ]
  },
  {
   "cell_type": "markdown",
   "id": "ffa1c890",
   "metadata": {},
   "source": [
    "## demo"
   ]
  },
  {
   "cell_type": "code",
   "execution_count": 11,
   "id": "d966b8a3",
   "metadata": {},
   "outputs": [
    {
     "name": "stdout",
     "output_type": "stream",
     "text": [
      "The Baltimore Ravens have unveiled three new club memberships at M&T Bank Stadium, offering premium experiences for PSL owners. They also reported that they are not pursuing Las Vegas Raiders wide receiver Davante Adams due to salary cap constraints. Additionally, the team is thriving on offense with Lamar Jackson and his pass-catchers making significant contributions in their recent win against Cincinnati.\n"
     ]
    }
   ],
   "source": [
    "response = query_engine.query(query)\n",
    "print(response)"
   ]
  },
  {
   "cell_type": "markdown",
   "id": "9adce7c6",
   "metadata": {},
   "source": [
    "# FLARE with ChromaDB"
   ]
  },
  {
   "cell_type": "markdown",
   "id": "5a6d0027",
   "metadata": {},
   "source": [
    "## ChromaDB setup (copy from previous)"
   ]
  },
  {
   "cell_type": "code",
   "execution_count": 3,
   "id": "11d78321",
   "metadata": {},
   "outputs": [
    {
     "name": "stdout",
     "output_type": "stream",
     "text": [
      "Created new collection 'ravens'.\n"
     ]
    }
   ],
   "source": [
    "# Create Chroma client\n",
    "chroma_client = chromadb.EphemeralClient()\n",
    "\n",
    "# Define collection name\n",
    "collection_name = \"ravens\"\n",
    "\n",
    "# Check if the collection already exists\n",
    "existing_collections = chroma_client.list_collections()\n",
    "\n",
    "if collection_name in [collection.name for collection in existing_collections]:\n",
    "    chroma_collection = chroma_client.get_collection(collection_name)\n",
    "    print(f\"Using existing collection '{collection_name}'.\")\n",
    "else:\n",
    "    chroma_collection = chroma_client.create_collection(collection_name)\n",
    "    print(f\"Created new collection '{collection_name}'.\")\n",
    "\n",
    "# Set up embedding model\n",
    "embed_model = OllamaEmbedding(\n",
    "    model_name=\"snowflake-arctic-embed\",\n",
    "    ollama_additional_kwargs={\"prostatic\": 0},\n",
    ")\n",
    "\n",
    "# Load documents\n",
    "documents = SimpleDirectoryReader(\"./data/ravens_web_official_news_10_7_10_14\").load_data()\n",
    "\n",
    "# Set up ChromaVectorStore and load in data\n",
    "vector_store = ChromaVectorStore(chroma_collection=chroma_collection)\n",
    "storage_context = StorageContext.from_defaults(vector_store=vector_store)\n",
    "# index = VectorStoreIndex.from_documents(\n",
    "#     documents, storage_context=storage_context, embed_model=embed_model\n",
    "# )\n",
    "\n",
    "\n",
    "# with node\n",
    "from llama_index.core.node_parser import SentenceSplitter, SimpleNodeParser\n",
    "index = VectorStoreIndex.from_documents(\n",
    "    documents, storage_context=storage_context, embed_model=embed_model, transformations=[SimpleNodeParser(chunk_size=512, chunk_overlap=20)]\n",
    ")"
   ]
  },
  {
   "cell_type": "markdown",
   "id": "8e59e632",
   "metadata": {},
   "source": [
    "## FLARE"
   ]
  },
  {
   "cell_type": "code",
   "execution_count": 4,
   "id": "2989b31b",
   "metadata": {},
   "outputs": [],
   "source": [
    "# Create query engine and perform query\n",
    "index_query_engine = index.as_query_engine(similarity_top_k=2)\n",
    "\n",
    "# create FLARE\n",
    "from llama_index.core.query_engine import FLAREInstructQueryEngine\n",
    "\n",
    "flare_query_engine = FLAREInstructQueryEngine(\n",
    "    query_engine=index_query_engine,\n",
    "    max_iterations=7,\n",
    "    verbose=True,\n",
    ")"
   ]
  },
  {
   "cell_type": "markdown",
   "id": "dd8a578a",
   "metadata": {},
   "source": [
    "## DEMO"
   ]
  },
  {
   "cell_type": "code",
   "execution_count": 5,
   "id": "eb8318df",
   "metadata": {},
   "outputs": [],
   "source": [
    "response = index_query_engine.query(\"What's going on with Baltimore Ravens?\")"
   ]
  },
  {
   "cell_type": "code",
   "execution_count": 6,
   "id": "22c82b54",
   "metadata": {},
   "outputs": [
    {
     "name": "stdout",
     "output_type": "stream",
     "text": [
      "It seems like some teams in the league have been experiencing ups and downs. The Steelers' recent performance has raised concerns, while the Bengals are showing signs of improvement despite their poor record. Meanwhile, the Browns face a tough challenge due to their struggling offense.\n",
      "\n",
      "In terms of consistency, it's worth noting that a certain team has had success when winning their division in previous years.\n"
     ]
    }
   ],
   "source": [
    "print(response)"
   ]
  },
  {
   "cell_type": "code",
   "execution_count": 7,
   "id": "5e5409d7",
   "metadata": {},
   "outputs": [
    {
     "name": "stdout",
     "output_type": "stream",
     "text": [
      "\u001b[1;3;32mQuery: What's going on with Baltimore Ravens?\n",
      "\u001b[0m\u001b[1;3;34mCurrent response: \n",
      "\u001b[0m\u001b[1;3;38;5;200mLookahead response: [Search(What is happening with the Baltimore Ravens?)]\n",
      "\u001b[0m\u001b[1;3;38;5;200mUpdated lookahead response: Here are the synthesized responses for each case:\n",
      "\n",
      "\n",
      "Previous Response:\n",
      "One of the largest cities in the world\n",
      "\n",
      "Lookahead Template:\n",
      ", the city contains a population of \n",
      "\u001b[0m\u001b[1;3;34mCurrent response:  Here are the synthesized responses for each case:\n",
      "\n",
      "\n",
      "Previous Response:\n",
      "One of the largest cities in the world\n",
      "\n",
      "Lookahead Template:\n",
      ", the city contains a population of\n",
      "\u001b[0m\u001b[1;3;38;5;200mLookahead response: [Search(What is the current status of the Baltimore Ravens football team?)]\n",
      "\u001b[0m\u001b[1;3;38;5;200mUpdated lookahead response: Here are the synthesized responses for each case:\n",
      "\n",
      "\n",
      "Previous Response:\n",
      "One of the largest cities in the world\n",
      "\n",
      "Lookahead Template:\n",
      ", the city contains a population of \n",
      "\u001b[0m\u001b[1;3;34mCurrent response: Here are the synthesized responses for each case:\n",
      "\n",
      "\n",
      "Previous Response:\n",
      "One of the largest cities in the world\n",
      "\n",
      "Lookahead Template:\n",
      ", the city contains a population of Here are the synthesized responses for each case:\n",
      "\n",
      "\n",
      "Previous Response:\n",
      "One of the largest cities in the world\n",
      "\n",
      "Lookahead Template:\n",
      ", the city contains a population of\n",
      "\u001b[0m\u001b[1;3;38;5;200mLookahead response: [Search(What is going on with the Baltimore Ravens football team?)]\n",
      "\u001b[0m\u001b[1;3;38;5;200mUpdated lookahead response: Here are the synthesized responses for each case:\n",
      "\n",
      "\n",
      "Previous Response:\n",
      "One of the largest cities in the world\n",
      "\n",
      "Lookahead Template:\n",
      ", the city contains a population of \n",
      "\u001b[0m\u001b[1;3;34mCurrent response: Here are the synthesized responses for each case:\n",
      "\n",
      "\n",
      "Previous Response:\n",
      "One of the largest cities in the world\n",
      "\n",
      "Lookahead Template:\n",
      ", the city contains a population of Here are the synthesized responses for each case:\n",
      "\n",
      "\n",
      "Previous Response:\n",
      "One of the largest cities in the world\n",
      "\n",
      "Lookahead Template:\n",
      ", the city contains a population of Here are the synthesized responses for each case:\n",
      "\n",
      "\n",
      "Previous Response:\n",
      "One of the largest cities in the world\n",
      "\n",
      "Lookahead Template:\n",
      ", the city contains a population of\n",
      "\u001b[0m\u001b[1;3;38;5;200mLookahead response: [Search(What's going on with the Baltimore Ravens football team?)]\n",
      "\u001b[0m\u001b[1;3;38;5;200mUpdated lookahead response: Here are the synthesized responses for each case:\n",
      "\n",
      "\n",
      "Previous Response: One of the largest cities in the world\n",
      "Lookahead Template: , the city contains a population of \n",
      "\u001b[0m\u001b[1;3;34mCurrent response: Here are the synthesized responses for each case:\n",
      "\n",
      "\n",
      "Previous Response:\n",
      "One of the largest cities in the world\n",
      "\n",
      "Lookahead Template:\n",
      ", the city contains a population of Here are the synthesized responses for each case:\n",
      "\n",
      "\n",
      "Previous Response:\n",
      "One of the largest cities in the world\n",
      "\n",
      "Lookahead Template:\n",
      ", the city contains a population of Here are the synthesized responses for each case:\n",
      "\n",
      "\n",
      "Previous Response:\n",
      "One of the largest cities in the world\n",
      "\n",
      "Lookahead Template:\n",
      ", the city contains a population of Here are the synthesized responses for each case:\n",
      "\n",
      "\n",
      "Previous Response: One of the largest cities in the world\n",
      "Lookahead Template: , the city contains a population of\n",
      "\u001b[0m\u001b[1;3;38;5;200mLookahead response: Based on the existing answer and lookahead template, it seems like we're generating information about Baltimore Ravens. However, the previous response is unrelated to the team, mentioning one of the largest cities in the world.\n",
      "\n",
      "To generate the next portion of the answer, I'll try to connect the dots. Since the previous response was about a city, not a sports team, I'll assume that the existing answer is incomplete and needs to be refocused on Baltimore Ravens.\n",
      "\n",
      "Here's my attempt:\n",
      "\n",
      "Existing Answer: One of the largest cities in the world\n",
      "\n",
      "Lookahead Template: , the city contains a population of [Search(query)]\n",
      "\n",
      "Since we're looking for information about Baltimore Ravens, not a general fact about a large city, I'll try to find a connection. The Ravens are a football team based in Baltimore, so let's search for relevant information.\n",
      "\n",
      "Answer: [Search(What is the current status of the Baltimore Ravens?)]\n",
      "\n",
      "I've added a new \"[Search(query)]\" tag to refocus on the Baltimore Ravens and provide more context.\n",
      "\u001b[0m\u001b[1;3;38;5;200mUpdated lookahead response: It seems like there was an attempt to connect the previous response with the lookahead template, but it didn't quite fit.\n",
      "\n",
      "Let's start fresh and follow the original instructions.\n",
      "\n",
      "Previous Response: One of the largest cities in the world\n",
      "\n",
      "Lookahead Template: , the city contains a population of \n",
      "\u001b[0m\u001b[1;3;34mCurrent response: Here are the synthesized responses for each case:\n",
      "\n",
      "\n",
      "Previous Response:\n",
      "One of the largest cities in the world\n",
      "\n",
      "Lookahead Template:\n",
      ", the city contains a population of Here are the synthesized responses for each case:\n",
      "\n",
      "\n",
      "Previous Response:\n",
      "One of the largest cities in the world\n",
      "\n",
      "Lookahead Template:\n",
      ", the city contains a population of Here are the synthesized responses for each case:\n",
      "\n",
      "\n",
      "Previous Response:\n",
      "One of the largest cities in the world\n",
      "\n",
      "Lookahead Template:\n",
      ", the city contains a population of Here are the synthesized responses for each case:\n",
      "\n",
      "\n",
      "Previous Response: One of the largest cities in the world\n",
      "Lookahead Template: , the city contains a population of It seems like there was an attempt to connect the previous response with the lookahead template, but it didn't quite fit.\n",
      "\n",
      "Let's start fresh and follow the original instructions.\n",
      "\n",
      "Previous Response: One of the largest cities in the world\n",
      "\n",
      "Lookahead Template: , the city contains a population of\n",
      "\u001b[0m\u001b[1;3;38;5;200mLookahead response: [Search(What is the current status of the Baltimore Ravens?)]\n",
      "\u001b[0m"
     ]
    },
    {
     "ename": "ReadTimeout",
     "evalue": "timed out",
     "output_type": "error",
     "traceback": [
      "\u001b[0;31m---------------------------------------------------------------------------\u001b[0m",
      "\u001b[0;31mReadTimeout\u001b[0m                               Traceback (most recent call last)",
      "File \u001b[0;32m~/miniconda3/envs/test/lib/python3.10/site-packages/httpx/_transports/default.py:72\u001b[0m, in \u001b[0;36mmap_httpcore_exceptions\u001b[0;34m()\u001b[0m\n\u001b[1;32m     71\u001b[0m \u001b[38;5;28;01mtry\u001b[39;00m:\n\u001b[0;32m---> 72\u001b[0m     \u001b[38;5;28;01myield\u001b[39;00m\n\u001b[1;32m     73\u001b[0m \u001b[38;5;28;01mexcept\u001b[39;00m \u001b[38;5;167;01mException\u001b[39;00m \u001b[38;5;28;01mas\u001b[39;00m exc:\n",
      "File \u001b[0;32m~/miniconda3/envs/test/lib/python3.10/site-packages/httpx/_transports/default.py:236\u001b[0m, in \u001b[0;36mHTTPTransport.handle_request\u001b[0;34m(self, request)\u001b[0m\n\u001b[1;32m    235\u001b[0m \u001b[38;5;28;01mwith\u001b[39;00m map_httpcore_exceptions():\n\u001b[0;32m--> 236\u001b[0m     resp \u001b[38;5;241m=\u001b[39m \u001b[38;5;28;43mself\u001b[39;49m\u001b[38;5;241;43m.\u001b[39;49m\u001b[43m_pool\u001b[49m\u001b[38;5;241;43m.\u001b[39;49m\u001b[43mhandle_request\u001b[49m\u001b[43m(\u001b[49m\u001b[43mreq\u001b[49m\u001b[43m)\u001b[49m\n\u001b[1;32m    238\u001b[0m \u001b[38;5;28;01massert\u001b[39;00m \u001b[38;5;28misinstance\u001b[39m(resp\u001b[38;5;241m.\u001b[39mstream, typing\u001b[38;5;241m.\u001b[39mIterable)\n",
      "File \u001b[0;32m~/miniconda3/envs/test/lib/python3.10/site-packages/httpcore/_sync/connection_pool.py:256\u001b[0m, in \u001b[0;36mConnectionPool.handle_request\u001b[0;34m(self, request)\u001b[0m\n\u001b[1;32m    255\u001b[0m     \u001b[38;5;28mself\u001b[39m\u001b[38;5;241m.\u001b[39m_close_connections(closing)\n\u001b[0;32m--> 256\u001b[0m     \u001b[38;5;28;01mraise\u001b[39;00m exc \u001b[38;5;28;01mfrom\u001b[39;00m \u001b[38;5;28;01mNone\u001b[39;00m\n\u001b[1;32m    258\u001b[0m \u001b[38;5;66;03m# Return the response. Note that in this case we still have to manage\u001b[39;00m\n\u001b[1;32m    259\u001b[0m \u001b[38;5;66;03m# the point at which the response is closed.\u001b[39;00m\n",
      "File \u001b[0;32m~/miniconda3/envs/test/lib/python3.10/site-packages/httpcore/_sync/connection_pool.py:236\u001b[0m, in \u001b[0;36mConnectionPool.handle_request\u001b[0;34m(self, request)\u001b[0m\n\u001b[1;32m    234\u001b[0m \u001b[38;5;28;01mtry\u001b[39;00m:\n\u001b[1;32m    235\u001b[0m     \u001b[38;5;66;03m# Send the request on the assigned connection.\u001b[39;00m\n\u001b[0;32m--> 236\u001b[0m     response \u001b[38;5;241m=\u001b[39m \u001b[43mconnection\u001b[49m\u001b[38;5;241;43m.\u001b[39;49m\u001b[43mhandle_request\u001b[49m\u001b[43m(\u001b[49m\n\u001b[1;32m    237\u001b[0m \u001b[43m        \u001b[49m\u001b[43mpool_request\u001b[49m\u001b[38;5;241;43m.\u001b[39;49m\u001b[43mrequest\u001b[49m\n\u001b[1;32m    238\u001b[0m \u001b[43m    \u001b[49m\u001b[43m)\u001b[49m\n\u001b[1;32m    239\u001b[0m \u001b[38;5;28;01mexcept\u001b[39;00m ConnectionNotAvailable:\n\u001b[1;32m    240\u001b[0m     \u001b[38;5;66;03m# In some cases a connection may initially be available to\u001b[39;00m\n\u001b[1;32m    241\u001b[0m     \u001b[38;5;66;03m# handle a request, but then become unavailable.\u001b[39;00m\n\u001b[1;32m    242\u001b[0m     \u001b[38;5;66;03m#\u001b[39;00m\n\u001b[1;32m    243\u001b[0m     \u001b[38;5;66;03m# In this case we clear the connection and try again.\u001b[39;00m\n",
      "File \u001b[0;32m~/miniconda3/envs/test/lib/python3.10/site-packages/httpcore/_sync/connection.py:103\u001b[0m, in \u001b[0;36mHTTPConnection.handle_request\u001b[0;34m(self, request)\u001b[0m\n\u001b[1;32m    101\u001b[0m     \u001b[38;5;28;01mraise\u001b[39;00m exc\n\u001b[0;32m--> 103\u001b[0m \u001b[38;5;28;01mreturn\u001b[39;00m \u001b[38;5;28;43mself\u001b[39;49m\u001b[38;5;241;43m.\u001b[39;49m\u001b[43m_connection\u001b[49m\u001b[38;5;241;43m.\u001b[39;49m\u001b[43mhandle_request\u001b[49m\u001b[43m(\u001b[49m\u001b[43mrequest\u001b[49m\u001b[43m)\u001b[49m\n",
      "File \u001b[0;32m~/miniconda3/envs/test/lib/python3.10/site-packages/httpcore/_sync/http11.py:136\u001b[0m, in \u001b[0;36mHTTP11Connection.handle_request\u001b[0;34m(self, request)\u001b[0m\n\u001b[1;32m    135\u001b[0m         \u001b[38;5;28mself\u001b[39m\u001b[38;5;241m.\u001b[39m_response_closed()\n\u001b[0;32m--> 136\u001b[0m \u001b[38;5;28;01mraise\u001b[39;00m exc\n",
      "File \u001b[0;32m~/miniconda3/envs/test/lib/python3.10/site-packages/httpcore/_sync/http11.py:106\u001b[0m, in \u001b[0;36mHTTP11Connection.handle_request\u001b[0;34m(self, request)\u001b[0m\n\u001b[1;32m     97\u001b[0m \u001b[38;5;28;01mwith\u001b[39;00m Trace(\n\u001b[1;32m     98\u001b[0m     \u001b[38;5;124m\"\u001b[39m\u001b[38;5;124mreceive_response_headers\u001b[39m\u001b[38;5;124m\"\u001b[39m, logger, request, kwargs\n\u001b[1;32m     99\u001b[0m ) \u001b[38;5;28;01mas\u001b[39;00m trace:\n\u001b[1;32m    100\u001b[0m     (\n\u001b[1;32m    101\u001b[0m         http_version,\n\u001b[1;32m    102\u001b[0m         status,\n\u001b[1;32m    103\u001b[0m         reason_phrase,\n\u001b[1;32m    104\u001b[0m         headers,\n\u001b[1;32m    105\u001b[0m         trailing_data,\n\u001b[0;32m--> 106\u001b[0m     ) \u001b[38;5;241m=\u001b[39m \u001b[38;5;28;43mself\u001b[39;49m\u001b[38;5;241;43m.\u001b[39;49m\u001b[43m_receive_response_headers\u001b[49m\u001b[43m(\u001b[49m\u001b[38;5;241;43m*\u001b[39;49m\u001b[38;5;241;43m*\u001b[39;49m\u001b[43mkwargs\u001b[49m\u001b[43m)\u001b[49m\n\u001b[1;32m    107\u001b[0m     trace\u001b[38;5;241m.\u001b[39mreturn_value \u001b[38;5;241m=\u001b[39m (\n\u001b[1;32m    108\u001b[0m         http_version,\n\u001b[1;32m    109\u001b[0m         status,\n\u001b[1;32m    110\u001b[0m         reason_phrase,\n\u001b[1;32m    111\u001b[0m         headers,\n\u001b[1;32m    112\u001b[0m     )\n",
      "File \u001b[0;32m~/miniconda3/envs/test/lib/python3.10/site-packages/httpcore/_sync/http11.py:177\u001b[0m, in \u001b[0;36mHTTP11Connection._receive_response_headers\u001b[0;34m(self, request)\u001b[0m\n\u001b[1;32m    176\u001b[0m \u001b[38;5;28;01mwhile\u001b[39;00m \u001b[38;5;28;01mTrue\u001b[39;00m:\n\u001b[0;32m--> 177\u001b[0m     event \u001b[38;5;241m=\u001b[39m \u001b[38;5;28;43mself\u001b[39;49m\u001b[38;5;241;43m.\u001b[39;49m\u001b[43m_receive_event\u001b[49m\u001b[43m(\u001b[49m\u001b[43mtimeout\u001b[49m\u001b[38;5;241;43m=\u001b[39;49m\u001b[43mtimeout\u001b[49m\u001b[43m)\u001b[49m\n\u001b[1;32m    178\u001b[0m     \u001b[38;5;28;01mif\u001b[39;00m \u001b[38;5;28misinstance\u001b[39m(event, h11\u001b[38;5;241m.\u001b[39mResponse):\n",
      "File \u001b[0;32m~/miniconda3/envs/test/lib/python3.10/site-packages/httpcore/_sync/http11.py:217\u001b[0m, in \u001b[0;36mHTTP11Connection._receive_event\u001b[0;34m(self, timeout)\u001b[0m\n\u001b[1;32m    216\u001b[0m \u001b[38;5;28;01mif\u001b[39;00m event \u001b[38;5;129;01mis\u001b[39;00m h11\u001b[38;5;241m.\u001b[39mNEED_DATA:\n\u001b[0;32m--> 217\u001b[0m     data \u001b[38;5;241m=\u001b[39m \u001b[38;5;28;43mself\u001b[39;49m\u001b[38;5;241;43m.\u001b[39;49m\u001b[43m_network_stream\u001b[49m\u001b[38;5;241;43m.\u001b[39;49m\u001b[43mread\u001b[49m\u001b[43m(\u001b[49m\n\u001b[1;32m    218\u001b[0m \u001b[43m        \u001b[49m\u001b[38;5;28;43mself\u001b[39;49m\u001b[38;5;241;43m.\u001b[39;49m\u001b[43mREAD_NUM_BYTES\u001b[49m\u001b[43m,\u001b[49m\u001b[43m \u001b[49m\u001b[43mtimeout\u001b[49m\u001b[38;5;241;43m=\u001b[39;49m\u001b[43mtimeout\u001b[49m\n\u001b[1;32m    219\u001b[0m \u001b[43m    \u001b[49m\u001b[43m)\u001b[49m\n\u001b[1;32m    221\u001b[0m     \u001b[38;5;66;03m# If we feed this case through h11 we'll raise an exception like:\u001b[39;00m\n\u001b[1;32m    222\u001b[0m     \u001b[38;5;66;03m#\u001b[39;00m\n\u001b[1;32m    223\u001b[0m     \u001b[38;5;66;03m#     httpcore.RemoteProtocolError: can't handle event type\u001b[39;00m\n\u001b[0;32m   (...)\u001b[0m\n\u001b[1;32m    227\u001b[0m     \u001b[38;5;66;03m# perspective. Instead we handle this case distinctly and treat\u001b[39;00m\n\u001b[1;32m    228\u001b[0m     \u001b[38;5;66;03m# it as a ConnectError.\u001b[39;00m\n",
      "File \u001b[0;32m~/miniconda3/envs/test/lib/python3.10/site-packages/httpcore/_backends/sync.py:126\u001b[0m, in \u001b[0;36mSyncStream.read\u001b[0;34m(self, max_bytes, timeout)\u001b[0m\n\u001b[1;32m    125\u001b[0m exc_map: ExceptionMapping \u001b[38;5;241m=\u001b[39m {socket\u001b[38;5;241m.\u001b[39mtimeout: ReadTimeout, \u001b[38;5;167;01mOSError\u001b[39;00m: ReadError}\n\u001b[0;32m--> 126\u001b[0m \u001b[38;5;28;01mwith\u001b[39;00m map_exceptions(exc_map):\n\u001b[1;32m    127\u001b[0m     \u001b[38;5;28mself\u001b[39m\u001b[38;5;241m.\u001b[39m_sock\u001b[38;5;241m.\u001b[39msettimeout(timeout)\n",
      "File \u001b[0;32m~/miniconda3/envs/test/lib/python3.10/contextlib.py:153\u001b[0m, in \u001b[0;36m_GeneratorContextManager.__exit__\u001b[0;34m(self, typ, value, traceback)\u001b[0m\n\u001b[1;32m    152\u001b[0m \u001b[38;5;28;01mtry\u001b[39;00m:\n\u001b[0;32m--> 153\u001b[0m     \u001b[38;5;28;43mself\u001b[39;49m\u001b[38;5;241;43m.\u001b[39;49m\u001b[43mgen\u001b[49m\u001b[38;5;241;43m.\u001b[39;49m\u001b[43mthrow\u001b[49m\u001b[43m(\u001b[49m\u001b[43mtyp\u001b[49m\u001b[43m,\u001b[49m\u001b[43m \u001b[49m\u001b[43mvalue\u001b[49m\u001b[43m,\u001b[49m\u001b[43m \u001b[49m\u001b[43mtraceback\u001b[49m\u001b[43m)\u001b[49m\n\u001b[1;32m    154\u001b[0m \u001b[38;5;28;01mexcept\u001b[39;00m \u001b[38;5;167;01mStopIteration\u001b[39;00m \u001b[38;5;28;01mas\u001b[39;00m exc:\n\u001b[1;32m    155\u001b[0m     \u001b[38;5;66;03m# Suppress StopIteration *unless* it's the same exception that\u001b[39;00m\n\u001b[1;32m    156\u001b[0m     \u001b[38;5;66;03m# was passed to throw().  This prevents a StopIteration\u001b[39;00m\n\u001b[1;32m    157\u001b[0m     \u001b[38;5;66;03m# raised inside the \"with\" statement from being suppressed.\u001b[39;00m\n",
      "File \u001b[0;32m~/miniconda3/envs/test/lib/python3.10/site-packages/httpcore/_exceptions.py:14\u001b[0m, in \u001b[0;36mmap_exceptions\u001b[0;34m(map)\u001b[0m\n\u001b[1;32m     13\u001b[0m     \u001b[38;5;28;01mif\u001b[39;00m \u001b[38;5;28misinstance\u001b[39m(exc, from_exc):\n\u001b[0;32m---> 14\u001b[0m         \u001b[38;5;28;01mraise\u001b[39;00m to_exc(exc) \u001b[38;5;28;01mfrom\u001b[39;00m \u001b[38;5;21;01mexc\u001b[39;00m\n\u001b[1;32m     15\u001b[0m \u001b[38;5;28;01mraise\u001b[39;00m\n",
      "\u001b[0;31mReadTimeout\u001b[0m: timed out",
      "\nThe above exception was the direct cause of the following exception:\n",
      "\u001b[0;31mReadTimeout\u001b[0m                               Traceback (most recent call last)",
      "Cell \u001b[0;32mIn[7], line 1\u001b[0m\n\u001b[0;32m----> 1\u001b[0m flare_response \u001b[38;5;241m=\u001b[39m \u001b[43mflare_query_engine\u001b[49m\u001b[38;5;241;43m.\u001b[39;49m\u001b[43mquery\u001b[49m\u001b[43m(\u001b[49m\u001b[38;5;124;43m\"\u001b[39;49m\u001b[38;5;124;43mWhat\u001b[39;49m\u001b[38;5;124;43m'\u001b[39;49m\u001b[38;5;124;43ms going on with Baltimore Ravens?\u001b[39;49m\u001b[38;5;124;43m\"\u001b[39;49m\u001b[43m)\u001b[49m\n",
      "File \u001b[0;32m~/miniconda3/envs/test/lib/python3.10/site-packages/llama_index/core/instrumentation/dispatcher.py:321\u001b[0m, in \u001b[0;36mDispatcher.span.<locals>.wrapper\u001b[0;34m(func, instance, args, kwargs)\u001b[0m\n\u001b[1;32m    318\u001b[0m             _logger\u001b[38;5;241m.\u001b[39mdebug(\u001b[38;5;124mf\u001b[39m\u001b[38;5;124m\"\u001b[39m\u001b[38;5;124mFailed to reset active_span_id: \u001b[39m\u001b[38;5;132;01m{\u001b[39;00me\u001b[38;5;132;01m}\u001b[39;00m\u001b[38;5;124m\"\u001b[39m)\n\u001b[1;32m    320\u001b[0m \u001b[38;5;28;01mtry\u001b[39;00m:\n\u001b[0;32m--> 321\u001b[0m     result \u001b[38;5;241m=\u001b[39m \u001b[43mfunc\u001b[49m\u001b[43m(\u001b[49m\u001b[38;5;241;43m*\u001b[39;49m\u001b[43margs\u001b[49m\u001b[43m,\u001b[49m\u001b[43m \u001b[49m\u001b[38;5;241;43m*\u001b[39;49m\u001b[38;5;241;43m*\u001b[39;49m\u001b[43mkwargs\u001b[49m\u001b[43m)\u001b[49m\n\u001b[1;32m    322\u001b[0m     \u001b[38;5;28;01mif\u001b[39;00m \u001b[38;5;28misinstance\u001b[39m(result, asyncio\u001b[38;5;241m.\u001b[39mFuture):\n\u001b[1;32m    323\u001b[0m         \u001b[38;5;66;03m# If the result is a Future, wrap it\u001b[39;00m\n\u001b[1;32m    324\u001b[0m         new_future \u001b[38;5;241m=\u001b[39m asyncio\u001b[38;5;241m.\u001b[39mensure_future(result)\n",
      "File \u001b[0;32m~/miniconda3/envs/test/lib/python3.10/site-packages/llama_index/core/base/base_query_engine.py:52\u001b[0m, in \u001b[0;36mBaseQueryEngine.query\u001b[0;34m(self, str_or_query_bundle)\u001b[0m\n\u001b[1;32m     50\u001b[0m     \u001b[38;5;28;01mif\u001b[39;00m \u001b[38;5;28misinstance\u001b[39m(str_or_query_bundle, \u001b[38;5;28mstr\u001b[39m):\n\u001b[1;32m     51\u001b[0m         str_or_query_bundle \u001b[38;5;241m=\u001b[39m QueryBundle(str_or_query_bundle)\n\u001b[0;32m---> 52\u001b[0m     query_result \u001b[38;5;241m=\u001b[39m \u001b[38;5;28;43mself\u001b[39;49m\u001b[38;5;241;43m.\u001b[39;49m\u001b[43m_query\u001b[49m\u001b[43m(\u001b[49m\u001b[43mstr_or_query_bundle\u001b[49m\u001b[43m)\u001b[49m\n\u001b[1;32m     53\u001b[0m dispatcher\u001b[38;5;241m.\u001b[39mevent(\n\u001b[1;32m     54\u001b[0m     QueryEndEvent(query\u001b[38;5;241m=\u001b[39mstr_or_query_bundle, response\u001b[38;5;241m=\u001b[39mquery_result)\n\u001b[1;32m     55\u001b[0m )\n\u001b[1;32m     56\u001b[0m \u001b[38;5;28;01mreturn\u001b[39;00m query_result\n",
      "File \u001b[0;32m~/miniconda3/envs/test/lib/python3.10/site-packages/llama_index/core/instrumentation/dispatcher.py:321\u001b[0m, in \u001b[0;36mDispatcher.span.<locals>.wrapper\u001b[0;34m(func, instance, args, kwargs)\u001b[0m\n\u001b[1;32m    318\u001b[0m             _logger\u001b[38;5;241m.\u001b[39mdebug(\u001b[38;5;124mf\u001b[39m\u001b[38;5;124m\"\u001b[39m\u001b[38;5;124mFailed to reset active_span_id: \u001b[39m\u001b[38;5;132;01m{\u001b[39;00me\u001b[38;5;132;01m}\u001b[39;00m\u001b[38;5;124m\"\u001b[39m)\n\u001b[1;32m    320\u001b[0m \u001b[38;5;28;01mtry\u001b[39;00m:\n\u001b[0;32m--> 321\u001b[0m     result \u001b[38;5;241m=\u001b[39m \u001b[43mfunc\u001b[49m\u001b[43m(\u001b[49m\u001b[38;5;241;43m*\u001b[39;49m\u001b[43margs\u001b[49m\u001b[43m,\u001b[49m\u001b[43m \u001b[49m\u001b[38;5;241;43m*\u001b[39;49m\u001b[38;5;241;43m*\u001b[39;49m\u001b[43mkwargs\u001b[49m\u001b[43m)\u001b[49m\n\u001b[1;32m    322\u001b[0m     \u001b[38;5;28;01mif\u001b[39;00m \u001b[38;5;28misinstance\u001b[39m(result, asyncio\u001b[38;5;241m.\u001b[39mFuture):\n\u001b[1;32m    323\u001b[0m         \u001b[38;5;66;03m# If the result is a Future, wrap it\u001b[39;00m\n\u001b[1;32m    324\u001b[0m         new_future \u001b[38;5;241m=\u001b[39m asyncio\u001b[38;5;241m.\u001b[39mensure_future(result)\n",
      "File \u001b[0;32m~/miniconda3/envs/test/lib/python3.10/site-packages/llama_index/core/query_engine/flare/base.py:230\u001b[0m, in \u001b[0;36mFLAREInstructQueryEngine._query\u001b[0;34m(self, query_bundle)\u001b[0m\n\u001b[1;32m    226\u001b[0m     source_nodes\u001b[38;5;241m.\u001b[39mextend(answer_obj\u001b[38;5;241m.\u001b[39msource_nodes)\n\u001b[1;32m    228\u001b[0m \u001b[38;5;66;03m# fill in the lookahead response template with the query answers\u001b[39;00m\n\u001b[1;32m    229\u001b[0m \u001b[38;5;66;03m# from the query engine\u001b[39;00m\n\u001b[0;32m--> 230\u001b[0m updated_lookahead_resp \u001b[38;5;241m=\u001b[39m \u001b[38;5;28;43mself\u001b[39;49m\u001b[38;5;241;43m.\u001b[39;49m\u001b[43m_lookahead_answer_inserter\u001b[49m\u001b[38;5;241;43m.\u001b[39;49m\u001b[43minsert\u001b[49m\u001b[43m(\u001b[49m\n\u001b[1;32m    231\u001b[0m \u001b[43m    \u001b[49m\u001b[43mlookahead_resp\u001b[49m\u001b[43m,\u001b[49m\u001b[43m \u001b[49m\u001b[43mquery_tasks\u001b[49m\u001b[43m,\u001b[49m\u001b[43m \u001b[49m\u001b[43mquery_answers\u001b[49m\u001b[43m,\u001b[49m\u001b[43m \u001b[49m\u001b[43mprev_response\u001b[49m\u001b[38;5;241;43m=\u001b[39;49m\u001b[43mcur_response\u001b[49m\n\u001b[1;32m    232\u001b[0m \u001b[43m\u001b[49m\u001b[43m)\u001b[49m\n\u001b[1;32m    234\u001b[0m \u001b[38;5;66;03m# get \"relevant\" lookahead response by truncating the updated\u001b[39;00m\n\u001b[1;32m    235\u001b[0m \u001b[38;5;66;03m# lookahead response until the start position of the first tag\u001b[39;00m\n\u001b[1;32m    236\u001b[0m \u001b[38;5;66;03m# also remove the prefix from the lookahead response, so that\u001b[39;00m\n\u001b[1;32m    237\u001b[0m \u001b[38;5;66;03m# we can concatenate it with the existing response\u001b[39;00m\n\u001b[1;32m    238\u001b[0m relevant_lookahead_resp_wo_prefix \u001b[38;5;241m=\u001b[39m \u001b[38;5;28mself\u001b[39m\u001b[38;5;241m.\u001b[39m_get_relevant_lookahead_response(\n\u001b[1;32m    239\u001b[0m     updated_lookahead_resp\n\u001b[1;32m    240\u001b[0m )\n",
      "File \u001b[0;32m~/miniconda3/envs/test/lib/python3.10/site-packages/llama_index/core/query_engine/flare/answer_inserter.py:177\u001b[0m, in \u001b[0;36mLLMLookaheadAnswerInserter.insert\u001b[0;34m(self, response, query_tasks, answers, prev_response)\u001b[0m\n\u001b[1;32m    174\u001b[0m \u001b[38;5;28;01mfor\u001b[39;00m query_task, answer \u001b[38;5;129;01min\u001b[39;00m \u001b[38;5;28mzip\u001b[39m(query_tasks, answers):\n\u001b[1;32m    175\u001b[0m     query_answer_pairs \u001b[38;5;241m+\u001b[39m\u001b[38;5;241m=\u001b[39m \u001b[38;5;124mf\u001b[39m\u001b[38;5;124m\"\u001b[39m\u001b[38;5;124mQuery: \u001b[39m\u001b[38;5;132;01m{\u001b[39;00mquery_task\u001b[38;5;241m.\u001b[39mquery_str\u001b[38;5;132;01m}\u001b[39;00m\u001b[38;5;130;01m\\n\u001b[39;00m\u001b[38;5;124mAnswer: \u001b[39m\u001b[38;5;132;01m{\u001b[39;00manswer\u001b[38;5;132;01m}\u001b[39;00m\u001b[38;5;130;01m\\n\u001b[39;00m\u001b[38;5;124m\"\u001b[39m\n\u001b[0;32m--> 177\u001b[0m \u001b[38;5;28;01mreturn\u001b[39;00m \u001b[38;5;28;43mself\u001b[39;49m\u001b[38;5;241;43m.\u001b[39;49m\u001b[43m_llm\u001b[49m\u001b[38;5;241;43m.\u001b[39;49m\u001b[43mpredict\u001b[49m\u001b[43m(\u001b[49m\n\u001b[1;32m    178\u001b[0m \u001b[43m    \u001b[49m\u001b[38;5;28;43mself\u001b[39;49m\u001b[38;5;241;43m.\u001b[39;49m\u001b[43m_answer_insert_prompt\u001b[49m\u001b[43m,\u001b[49m\n\u001b[1;32m    179\u001b[0m \u001b[43m    \u001b[49m\u001b[43mlookahead_response\u001b[49m\u001b[38;5;241;43m=\u001b[39;49m\u001b[43mresponse\u001b[49m\u001b[43m,\u001b[49m\n\u001b[1;32m    180\u001b[0m \u001b[43m    \u001b[49m\u001b[43mquery_answer_pairs\u001b[49m\u001b[38;5;241;43m=\u001b[39;49m\u001b[43mquery_answer_pairs\u001b[49m\u001b[43m,\u001b[49m\n\u001b[1;32m    181\u001b[0m \u001b[43m    \u001b[49m\u001b[43mprev_response\u001b[49m\u001b[38;5;241;43m=\u001b[39;49m\u001b[43mprev_response\u001b[49m\u001b[43m,\u001b[49m\n\u001b[1;32m    182\u001b[0m \u001b[43m\u001b[49m\u001b[43m)\u001b[49m\n",
      "File \u001b[0;32m~/miniconda3/envs/test/lib/python3.10/site-packages/llama_index/core/instrumentation/dispatcher.py:321\u001b[0m, in \u001b[0;36mDispatcher.span.<locals>.wrapper\u001b[0;34m(func, instance, args, kwargs)\u001b[0m\n\u001b[1;32m    318\u001b[0m             _logger\u001b[38;5;241m.\u001b[39mdebug(\u001b[38;5;124mf\u001b[39m\u001b[38;5;124m\"\u001b[39m\u001b[38;5;124mFailed to reset active_span_id: \u001b[39m\u001b[38;5;132;01m{\u001b[39;00me\u001b[38;5;132;01m}\u001b[39;00m\u001b[38;5;124m\"\u001b[39m)\n\u001b[1;32m    320\u001b[0m \u001b[38;5;28;01mtry\u001b[39;00m:\n\u001b[0;32m--> 321\u001b[0m     result \u001b[38;5;241m=\u001b[39m \u001b[43mfunc\u001b[49m\u001b[43m(\u001b[49m\u001b[38;5;241;43m*\u001b[39;49m\u001b[43margs\u001b[49m\u001b[43m,\u001b[49m\u001b[43m \u001b[49m\u001b[38;5;241;43m*\u001b[39;49m\u001b[38;5;241;43m*\u001b[39;49m\u001b[43mkwargs\u001b[49m\u001b[43m)\u001b[49m\n\u001b[1;32m    322\u001b[0m     \u001b[38;5;28;01mif\u001b[39;00m \u001b[38;5;28misinstance\u001b[39m(result, asyncio\u001b[38;5;241m.\u001b[39mFuture):\n\u001b[1;32m    323\u001b[0m         \u001b[38;5;66;03m# If the result is a Future, wrap it\u001b[39;00m\n\u001b[1;32m    324\u001b[0m         new_future \u001b[38;5;241m=\u001b[39m asyncio\u001b[38;5;241m.\u001b[39mensure_future(result)\n",
      "File \u001b[0;32m~/miniconda3/envs/test/lib/python3.10/site-packages/llama_index/core/llms/llm.py:596\u001b[0m, in \u001b[0;36mLLM.predict\u001b[0;34m(self, prompt, **prompt_args)\u001b[0m\n\u001b[1;32m    594\u001b[0m \u001b[38;5;28;01mif\u001b[39;00m \u001b[38;5;28mself\u001b[39m\u001b[38;5;241m.\u001b[39mmetadata\u001b[38;5;241m.\u001b[39mis_chat_model:\n\u001b[1;32m    595\u001b[0m     messages \u001b[38;5;241m=\u001b[39m \u001b[38;5;28mself\u001b[39m\u001b[38;5;241m.\u001b[39m_get_messages(prompt, \u001b[38;5;241m*\u001b[39m\u001b[38;5;241m*\u001b[39mprompt_args)\n\u001b[0;32m--> 596\u001b[0m     chat_response \u001b[38;5;241m=\u001b[39m \u001b[38;5;28;43mself\u001b[39;49m\u001b[38;5;241;43m.\u001b[39;49m\u001b[43mchat\u001b[49m\u001b[43m(\u001b[49m\u001b[43mmessages\u001b[49m\u001b[43m)\u001b[49m\n\u001b[1;32m    597\u001b[0m     output \u001b[38;5;241m=\u001b[39m chat_response\u001b[38;5;241m.\u001b[39mmessage\u001b[38;5;241m.\u001b[39mcontent \u001b[38;5;129;01mor\u001b[39;00m \u001b[38;5;124m\"\u001b[39m\u001b[38;5;124m\"\u001b[39m\n\u001b[1;32m    598\u001b[0m \u001b[38;5;28;01melse\u001b[39;00m:\n",
      "File \u001b[0;32m~/miniconda3/envs/test/lib/python3.10/site-packages/llama_index/core/instrumentation/dispatcher.py:321\u001b[0m, in \u001b[0;36mDispatcher.span.<locals>.wrapper\u001b[0;34m(func, instance, args, kwargs)\u001b[0m\n\u001b[1;32m    318\u001b[0m             _logger\u001b[38;5;241m.\u001b[39mdebug(\u001b[38;5;124mf\u001b[39m\u001b[38;5;124m\"\u001b[39m\u001b[38;5;124mFailed to reset active_span_id: \u001b[39m\u001b[38;5;132;01m{\u001b[39;00me\u001b[38;5;132;01m}\u001b[39;00m\u001b[38;5;124m\"\u001b[39m)\n\u001b[1;32m    320\u001b[0m \u001b[38;5;28;01mtry\u001b[39;00m:\n\u001b[0;32m--> 321\u001b[0m     result \u001b[38;5;241m=\u001b[39m \u001b[43mfunc\u001b[49m\u001b[43m(\u001b[49m\u001b[38;5;241;43m*\u001b[39;49m\u001b[43margs\u001b[49m\u001b[43m,\u001b[49m\u001b[43m \u001b[49m\u001b[38;5;241;43m*\u001b[39;49m\u001b[38;5;241;43m*\u001b[39;49m\u001b[43mkwargs\u001b[49m\u001b[43m)\u001b[49m\n\u001b[1;32m    322\u001b[0m     \u001b[38;5;28;01mif\u001b[39;00m \u001b[38;5;28misinstance\u001b[39m(result, asyncio\u001b[38;5;241m.\u001b[39mFuture):\n\u001b[1;32m    323\u001b[0m         \u001b[38;5;66;03m# If the result is a Future, wrap it\u001b[39;00m\n\u001b[1;32m    324\u001b[0m         new_future \u001b[38;5;241m=\u001b[39m asyncio\u001b[38;5;241m.\u001b[39mensure_future(result)\n",
      "File \u001b[0;32m~/miniconda3/envs/test/lib/python3.10/site-packages/llama_index/core/llms/callbacks.py:173\u001b[0m, in \u001b[0;36mllm_chat_callback.<locals>.wrap.<locals>.wrapped_llm_chat\u001b[0;34m(_self, messages, **kwargs)\u001b[0m\n\u001b[1;32m    164\u001b[0m event_id \u001b[38;5;241m=\u001b[39m callback_manager\u001b[38;5;241m.\u001b[39mon_event_start(\n\u001b[1;32m    165\u001b[0m     CBEventType\u001b[38;5;241m.\u001b[39mLLM,\n\u001b[1;32m    166\u001b[0m     payload\u001b[38;5;241m=\u001b[39m{\n\u001b[0;32m   (...)\u001b[0m\n\u001b[1;32m    170\u001b[0m     },\n\u001b[1;32m    171\u001b[0m )\n\u001b[1;32m    172\u001b[0m \u001b[38;5;28;01mtry\u001b[39;00m:\n\u001b[0;32m--> 173\u001b[0m     f_return_val \u001b[38;5;241m=\u001b[39m \u001b[43mf\u001b[49m\u001b[43m(\u001b[49m\u001b[43m_self\u001b[49m\u001b[43m,\u001b[49m\u001b[43m \u001b[49m\u001b[43mmessages\u001b[49m\u001b[43m,\u001b[49m\u001b[43m \u001b[49m\u001b[38;5;241;43m*\u001b[39;49m\u001b[38;5;241;43m*\u001b[39;49m\u001b[43mkwargs\u001b[49m\u001b[43m)\u001b[49m\n\u001b[1;32m    174\u001b[0m \u001b[38;5;28;01mexcept\u001b[39;00m \u001b[38;5;167;01mBaseException\u001b[39;00m \u001b[38;5;28;01mas\u001b[39;00m e:\n\u001b[1;32m    175\u001b[0m     callback_manager\u001b[38;5;241m.\u001b[39mon_event_end(\n\u001b[1;32m    176\u001b[0m         CBEventType\u001b[38;5;241m.\u001b[39mLLM,\n\u001b[1;32m    177\u001b[0m         payload\u001b[38;5;241m=\u001b[39m{EventPayload\u001b[38;5;241m.\u001b[39mEXCEPTION: e},\n\u001b[1;32m    178\u001b[0m         event_id\u001b[38;5;241m=\u001b[39mevent_id,\n\u001b[1;32m    179\u001b[0m     )\n",
      "File \u001b[0;32m~/miniconda3/envs/test/lib/python3.10/site-packages/llama_index/llms/ollama/base.py:306\u001b[0m, in \u001b[0;36mOllama.chat\u001b[0;34m(self, messages, **kwargs)\u001b[0m\n\u001b[1;32m    303\u001b[0m tools \u001b[38;5;241m=\u001b[39m kwargs\u001b[38;5;241m.\u001b[39mpop(\u001b[38;5;124m\"\u001b[39m\u001b[38;5;124mtools\u001b[39m\u001b[38;5;124m\"\u001b[39m, \u001b[38;5;28;01mNone\u001b[39;00m)\n\u001b[1;32m    304\u001b[0m \u001b[38;5;28mformat\u001b[39m \u001b[38;5;241m=\u001b[39m kwargs\u001b[38;5;241m.\u001b[39mpop(\u001b[38;5;124m\"\u001b[39m\u001b[38;5;124mformat\u001b[39m\u001b[38;5;124m\"\u001b[39m, \u001b[38;5;124m\"\u001b[39m\u001b[38;5;124mjson\u001b[39m\u001b[38;5;124m\"\u001b[39m \u001b[38;5;28;01mif\u001b[39;00m \u001b[38;5;28mself\u001b[39m\u001b[38;5;241m.\u001b[39mjson_mode \u001b[38;5;28;01melse\u001b[39;00m \u001b[38;5;28;01mNone\u001b[39;00m)\n\u001b[0;32m--> 306\u001b[0m response \u001b[38;5;241m=\u001b[39m \u001b[38;5;28;43mself\u001b[39;49m\u001b[38;5;241;43m.\u001b[39;49m\u001b[43mclient\u001b[49m\u001b[38;5;241;43m.\u001b[39;49m\u001b[43mchat\u001b[49m\u001b[43m(\u001b[49m\n\u001b[1;32m    307\u001b[0m \u001b[43m    \u001b[49m\u001b[43mmodel\u001b[49m\u001b[38;5;241;43m=\u001b[39;49m\u001b[38;5;28;43mself\u001b[39;49m\u001b[38;5;241;43m.\u001b[39;49m\u001b[43mmodel\u001b[49m\u001b[43m,\u001b[49m\n\u001b[1;32m    308\u001b[0m \u001b[43m    \u001b[49m\u001b[43mmessages\u001b[49m\u001b[38;5;241;43m=\u001b[39;49m\u001b[43mollama_messages\u001b[49m\u001b[43m,\u001b[49m\n\u001b[1;32m    309\u001b[0m \u001b[43m    \u001b[49m\u001b[43mstream\u001b[49m\u001b[38;5;241;43m=\u001b[39;49m\u001b[38;5;28;43;01mFalse\u001b[39;49;00m\u001b[43m,\u001b[49m\n\u001b[1;32m    310\u001b[0m \u001b[43m    \u001b[49m\u001b[38;5;28;43mformat\u001b[39;49m\u001b[38;5;241;43m=\u001b[39;49m\u001b[38;5;28;43mformat\u001b[39;49m\u001b[43m,\u001b[49m\n\u001b[1;32m    311\u001b[0m \u001b[43m    \u001b[49m\u001b[43mtools\u001b[49m\u001b[38;5;241;43m=\u001b[39;49m\u001b[43mtools\u001b[49m\u001b[43m,\u001b[49m\n\u001b[1;32m    312\u001b[0m \u001b[43m    \u001b[49m\u001b[43moptions\u001b[49m\u001b[38;5;241;43m=\u001b[39;49m\u001b[38;5;28;43mself\u001b[39;49m\u001b[38;5;241;43m.\u001b[39;49m\u001b[43m_model_kwargs\u001b[49m\u001b[43m,\u001b[49m\n\u001b[1;32m    313\u001b[0m \u001b[43m    \u001b[49m\u001b[43mkeep_alive\u001b[49m\u001b[38;5;241;43m=\u001b[39;49m\u001b[38;5;28;43mself\u001b[39;49m\u001b[38;5;241;43m.\u001b[39;49m\u001b[43mkeep_alive\u001b[49m\u001b[43m,\u001b[49m\n\u001b[1;32m    314\u001b[0m \u001b[43m\u001b[49m\u001b[43m)\u001b[49m\n\u001b[1;32m    316\u001b[0m response \u001b[38;5;241m=\u001b[39m \u001b[38;5;28mdict\u001b[39m(response)\n\u001b[1;32m    318\u001b[0m tool_calls \u001b[38;5;241m=\u001b[39m response[\u001b[38;5;124m\"\u001b[39m\u001b[38;5;124mmessage\u001b[39m\u001b[38;5;124m\"\u001b[39m]\u001b[38;5;241m.\u001b[39mget(\u001b[38;5;124m\"\u001b[39m\u001b[38;5;124mtool_calls\u001b[39m\u001b[38;5;124m\"\u001b[39m, [])\n",
      "File \u001b[0;32m~/miniconda3/envs/test/lib/python3.10/site-packages/ollama/_client.py:332\u001b[0m, in \u001b[0;36mClient.chat\u001b[0;34m(self, model, messages, tools, stream, format, options, keep_alive)\u001b[0m\n\u001b[1;32m    288\u001b[0m \u001b[38;5;28;01mdef\u001b[39;00m \u001b[38;5;21mchat\u001b[39m(\n\u001b[1;32m    289\u001b[0m   \u001b[38;5;28mself\u001b[39m,\n\u001b[1;32m    290\u001b[0m   model: \u001b[38;5;28mstr\u001b[39m \u001b[38;5;241m=\u001b[39m \u001b[38;5;124m'\u001b[39m\u001b[38;5;124m'\u001b[39m,\n\u001b[0;32m   (...)\u001b[0m\n\u001b[1;32m    297\u001b[0m   keep_alive: Optional[Union[\u001b[38;5;28mfloat\u001b[39m, \u001b[38;5;28mstr\u001b[39m]] \u001b[38;5;241m=\u001b[39m \u001b[38;5;28;01mNone\u001b[39;00m,\n\u001b[1;32m    298\u001b[0m ) \u001b[38;5;241m-\u001b[39m\u001b[38;5;241m>\u001b[39m Union[ChatResponse, Iterator[ChatResponse]]:\n\u001b[1;32m    299\u001b[0m \u001b[38;5;250m  \u001b[39m\u001b[38;5;124;03m\"\"\"\u001b[39;00m\n\u001b[1;32m    300\u001b[0m \u001b[38;5;124;03m  Create a chat response using the requested model.\u001b[39;00m\n\u001b[1;32m    301\u001b[0m \n\u001b[0;32m   (...)\u001b[0m\n\u001b[1;32m    330\u001b[0m \u001b[38;5;124;03m  Returns `ChatResponse` if `stream` is `False`, otherwise returns a `ChatResponse` generator.\u001b[39;00m\n\u001b[1;32m    331\u001b[0m \u001b[38;5;124;03m  \"\"\"\u001b[39;00m\n\u001b[0;32m--> 332\u001b[0m   \u001b[38;5;28;01mreturn\u001b[39;00m \u001b[38;5;28;43mself\u001b[39;49m\u001b[38;5;241;43m.\u001b[39;49m\u001b[43m_request\u001b[49m\u001b[43m(\u001b[49m\n\u001b[1;32m    333\u001b[0m \u001b[43m    \u001b[49m\u001b[43mChatResponse\u001b[49m\u001b[43m,\u001b[49m\n\u001b[1;32m    334\u001b[0m \u001b[43m    \u001b[49m\u001b[38;5;124;43m'\u001b[39;49m\u001b[38;5;124;43mPOST\u001b[39;49m\u001b[38;5;124;43m'\u001b[39;49m\u001b[43m,\u001b[49m\n\u001b[1;32m    335\u001b[0m \u001b[43m    \u001b[49m\u001b[38;5;124;43m'\u001b[39;49m\u001b[38;5;124;43m/api/chat\u001b[39;49m\u001b[38;5;124;43m'\u001b[39;49m\u001b[43m,\u001b[49m\n\u001b[1;32m    336\u001b[0m \u001b[43m    \u001b[49m\u001b[43mjson\u001b[49m\u001b[38;5;241;43m=\u001b[39;49m\u001b[43mChatRequest\u001b[49m\u001b[43m(\u001b[49m\n\u001b[1;32m    337\u001b[0m \u001b[43m      \u001b[49m\u001b[43mmodel\u001b[49m\u001b[38;5;241;43m=\u001b[39;49m\u001b[43mmodel\u001b[49m\u001b[43m,\u001b[49m\n\u001b[1;32m    338\u001b[0m \u001b[43m      \u001b[49m\u001b[43mmessages\u001b[49m\u001b[38;5;241;43m=\u001b[39;49m\u001b[43m[\u001b[49m\u001b[43mmessage\u001b[49m\u001b[43m \u001b[49m\u001b[38;5;28;43;01mfor\u001b[39;49;00m\u001b[43m \u001b[49m\u001b[43mmessage\u001b[49m\u001b[43m \u001b[49m\u001b[38;5;129;43;01min\u001b[39;49;00m\u001b[43m \u001b[49m\u001b[43m_copy_messages\u001b[49m\u001b[43m(\u001b[49m\u001b[43mmessages\u001b[49m\u001b[43m)\u001b[49m\u001b[43m]\u001b[49m\u001b[43m,\u001b[49m\n\u001b[1;32m    339\u001b[0m \u001b[43m      \u001b[49m\u001b[43mtools\u001b[49m\u001b[38;5;241;43m=\u001b[39;49m\u001b[43m[\u001b[49m\u001b[43mtool\u001b[49m\u001b[43m \u001b[49m\u001b[38;5;28;43;01mfor\u001b[39;49;00m\u001b[43m \u001b[49m\u001b[43mtool\u001b[49m\u001b[43m \u001b[49m\u001b[38;5;129;43;01min\u001b[39;49;00m\u001b[43m \u001b[49m\u001b[43m_copy_tools\u001b[49m\u001b[43m(\u001b[49m\u001b[43mtools\u001b[49m\u001b[43m)\u001b[49m\u001b[43m]\u001b[49m\u001b[43m,\u001b[49m\n\u001b[1;32m    340\u001b[0m \u001b[43m      \u001b[49m\u001b[43mstream\u001b[49m\u001b[38;5;241;43m=\u001b[39;49m\u001b[43mstream\u001b[49m\u001b[43m,\u001b[49m\n\u001b[1;32m    341\u001b[0m \u001b[43m      \u001b[49m\u001b[38;5;28;43mformat\u001b[39;49m\u001b[38;5;241;43m=\u001b[39;49m\u001b[38;5;28;43mformat\u001b[39;49m\u001b[43m,\u001b[49m\n\u001b[1;32m    342\u001b[0m \u001b[43m      \u001b[49m\u001b[43moptions\u001b[49m\u001b[38;5;241;43m=\u001b[39;49m\u001b[43moptions\u001b[49m\u001b[43m,\u001b[49m\n\u001b[1;32m    343\u001b[0m \u001b[43m      \u001b[49m\u001b[43mkeep_alive\u001b[49m\u001b[38;5;241;43m=\u001b[39;49m\u001b[43mkeep_alive\u001b[49m\u001b[43m,\u001b[49m\n\u001b[1;32m    344\u001b[0m \u001b[43m    \u001b[49m\u001b[43m)\u001b[49m\u001b[38;5;241;43m.\u001b[39;49m\u001b[43mmodel_dump\u001b[49m\u001b[43m(\u001b[49m\u001b[43mexclude_none\u001b[49m\u001b[38;5;241;43m=\u001b[39;49m\u001b[38;5;28;43;01mTrue\u001b[39;49;00m\u001b[43m)\u001b[49m\u001b[43m,\u001b[49m\n\u001b[1;32m    345\u001b[0m \u001b[43m    \u001b[49m\u001b[43mstream\u001b[49m\u001b[38;5;241;43m=\u001b[39;49m\u001b[43mstream\u001b[49m\u001b[43m,\u001b[49m\n\u001b[1;32m    346\u001b[0m \u001b[43m  \u001b[49m\u001b[43m)\u001b[49m\n",
      "File \u001b[0;32m~/miniconda3/envs/test/lib/python3.10/site-packages/ollama/_client.py:177\u001b[0m, in \u001b[0;36mClient._request\u001b[0;34m(self, cls, stream, *args, **kwargs)\u001b[0m\n\u001b[1;32m    173\u001b[0m         \u001b[38;5;28;01myield\u001b[39;00m \u001b[38;5;28mcls\u001b[39m(\u001b[38;5;241m*\u001b[39m\u001b[38;5;241m*\u001b[39mpart)\n\u001b[1;32m    175\u001b[0m   \u001b[38;5;28;01mreturn\u001b[39;00m inner()\n\u001b[0;32m--> 177\u001b[0m \u001b[38;5;28;01mreturn\u001b[39;00m \u001b[38;5;28mcls\u001b[39m(\u001b[38;5;241m*\u001b[39m\u001b[38;5;241m*\u001b[39m\u001b[38;5;28;43mself\u001b[39;49m\u001b[38;5;241;43m.\u001b[39;49m\u001b[43m_request_raw\u001b[49m\u001b[43m(\u001b[49m\u001b[38;5;241;43m*\u001b[39;49m\u001b[43margs\u001b[49m\u001b[43m,\u001b[49m\u001b[43m \u001b[49m\u001b[38;5;241;43m*\u001b[39;49m\u001b[38;5;241;43m*\u001b[39;49m\u001b[43mkwargs\u001b[49m\u001b[43m)\u001b[49m\u001b[38;5;241m.\u001b[39mjson())\n",
      "File \u001b[0;32m~/miniconda3/envs/test/lib/python3.10/site-packages/ollama/_client.py:118\u001b[0m, in \u001b[0;36mClient._request_raw\u001b[0;34m(self, *args, **kwargs)\u001b[0m\n\u001b[1;32m    117\u001b[0m \u001b[38;5;28;01mdef\u001b[39;00m \u001b[38;5;21m_request_raw\u001b[39m(\u001b[38;5;28mself\u001b[39m, \u001b[38;5;241m*\u001b[39margs, \u001b[38;5;241m*\u001b[39m\u001b[38;5;241m*\u001b[39mkwargs):\n\u001b[0;32m--> 118\u001b[0m   r \u001b[38;5;241m=\u001b[39m \u001b[38;5;28;43mself\u001b[39;49m\u001b[38;5;241;43m.\u001b[39;49m\u001b[43m_client\u001b[49m\u001b[38;5;241;43m.\u001b[39;49m\u001b[43mrequest\u001b[49m\u001b[43m(\u001b[49m\u001b[38;5;241;43m*\u001b[39;49m\u001b[43margs\u001b[49m\u001b[43m,\u001b[49m\u001b[43m \u001b[49m\u001b[38;5;241;43m*\u001b[39;49m\u001b[38;5;241;43m*\u001b[39;49m\u001b[43mkwargs\u001b[49m\u001b[43m)\u001b[49m\n\u001b[1;32m    119\u001b[0m   \u001b[38;5;28;01mtry\u001b[39;00m:\n\u001b[1;32m    120\u001b[0m     r\u001b[38;5;241m.\u001b[39mraise_for_status()\n",
      "File \u001b[0;32m~/miniconda3/envs/test/lib/python3.10/site-packages/httpx/_client.py:837\u001b[0m, in \u001b[0;36mClient.request\u001b[0;34m(self, method, url, content, data, files, json, params, headers, cookies, auth, follow_redirects, timeout, extensions)\u001b[0m\n\u001b[1;32m    822\u001b[0m     warnings\u001b[38;5;241m.\u001b[39mwarn(message, \u001b[38;5;167;01mDeprecationWarning\u001b[39;00m)\n\u001b[1;32m    824\u001b[0m request \u001b[38;5;241m=\u001b[39m \u001b[38;5;28mself\u001b[39m\u001b[38;5;241m.\u001b[39mbuild_request(\n\u001b[1;32m    825\u001b[0m     method\u001b[38;5;241m=\u001b[39mmethod,\n\u001b[1;32m    826\u001b[0m     url\u001b[38;5;241m=\u001b[39murl,\n\u001b[0;32m   (...)\u001b[0m\n\u001b[1;32m    835\u001b[0m     extensions\u001b[38;5;241m=\u001b[39mextensions,\n\u001b[1;32m    836\u001b[0m )\n\u001b[0;32m--> 837\u001b[0m \u001b[38;5;28;01mreturn\u001b[39;00m \u001b[38;5;28;43mself\u001b[39;49m\u001b[38;5;241;43m.\u001b[39;49m\u001b[43msend\u001b[49m\u001b[43m(\u001b[49m\u001b[43mrequest\u001b[49m\u001b[43m,\u001b[49m\u001b[43m \u001b[49m\u001b[43mauth\u001b[49m\u001b[38;5;241;43m=\u001b[39;49m\u001b[43mauth\u001b[49m\u001b[43m,\u001b[49m\u001b[43m \u001b[49m\u001b[43mfollow_redirects\u001b[49m\u001b[38;5;241;43m=\u001b[39;49m\u001b[43mfollow_redirects\u001b[49m\u001b[43m)\u001b[49m\n",
      "File \u001b[0;32m~/miniconda3/envs/test/lib/python3.10/site-packages/httpx/_client.py:926\u001b[0m, in \u001b[0;36mClient.send\u001b[0;34m(self, request, stream, auth, follow_redirects)\u001b[0m\n\u001b[1;32m    922\u001b[0m \u001b[38;5;28mself\u001b[39m\u001b[38;5;241m.\u001b[39m_set_timeout(request)\n\u001b[1;32m    924\u001b[0m auth \u001b[38;5;241m=\u001b[39m \u001b[38;5;28mself\u001b[39m\u001b[38;5;241m.\u001b[39m_build_request_auth(request, auth)\n\u001b[0;32m--> 926\u001b[0m response \u001b[38;5;241m=\u001b[39m \u001b[38;5;28;43mself\u001b[39;49m\u001b[38;5;241;43m.\u001b[39;49m\u001b[43m_send_handling_auth\u001b[49m\u001b[43m(\u001b[49m\n\u001b[1;32m    927\u001b[0m \u001b[43m    \u001b[49m\u001b[43mrequest\u001b[49m\u001b[43m,\u001b[49m\n\u001b[1;32m    928\u001b[0m \u001b[43m    \u001b[49m\u001b[43mauth\u001b[49m\u001b[38;5;241;43m=\u001b[39;49m\u001b[43mauth\u001b[49m\u001b[43m,\u001b[49m\n\u001b[1;32m    929\u001b[0m \u001b[43m    \u001b[49m\u001b[43mfollow_redirects\u001b[49m\u001b[38;5;241;43m=\u001b[39;49m\u001b[43mfollow_redirects\u001b[49m\u001b[43m,\u001b[49m\n\u001b[1;32m    930\u001b[0m \u001b[43m    \u001b[49m\u001b[43mhistory\u001b[49m\u001b[38;5;241;43m=\u001b[39;49m\u001b[43m[\u001b[49m\u001b[43m]\u001b[49m\u001b[43m,\u001b[49m\n\u001b[1;32m    931\u001b[0m \u001b[43m\u001b[49m\u001b[43m)\u001b[49m\n\u001b[1;32m    932\u001b[0m \u001b[38;5;28;01mtry\u001b[39;00m:\n\u001b[1;32m    933\u001b[0m     \u001b[38;5;28;01mif\u001b[39;00m \u001b[38;5;129;01mnot\u001b[39;00m stream:\n",
      "File \u001b[0;32m~/miniconda3/envs/test/lib/python3.10/site-packages/httpx/_client.py:954\u001b[0m, in \u001b[0;36mClient._send_handling_auth\u001b[0;34m(self, request, auth, follow_redirects, history)\u001b[0m\n\u001b[1;32m    951\u001b[0m request \u001b[38;5;241m=\u001b[39m \u001b[38;5;28mnext\u001b[39m(auth_flow)\n\u001b[1;32m    953\u001b[0m \u001b[38;5;28;01mwhile\u001b[39;00m \u001b[38;5;28;01mTrue\u001b[39;00m:\n\u001b[0;32m--> 954\u001b[0m     response \u001b[38;5;241m=\u001b[39m \u001b[38;5;28;43mself\u001b[39;49m\u001b[38;5;241;43m.\u001b[39;49m\u001b[43m_send_handling_redirects\u001b[49m\u001b[43m(\u001b[49m\n\u001b[1;32m    955\u001b[0m \u001b[43m        \u001b[49m\u001b[43mrequest\u001b[49m\u001b[43m,\u001b[49m\n\u001b[1;32m    956\u001b[0m \u001b[43m        \u001b[49m\u001b[43mfollow_redirects\u001b[49m\u001b[38;5;241;43m=\u001b[39;49m\u001b[43mfollow_redirects\u001b[49m\u001b[43m,\u001b[49m\n\u001b[1;32m    957\u001b[0m \u001b[43m        \u001b[49m\u001b[43mhistory\u001b[49m\u001b[38;5;241;43m=\u001b[39;49m\u001b[43mhistory\u001b[49m\u001b[43m,\u001b[49m\n\u001b[1;32m    958\u001b[0m \u001b[43m    \u001b[49m\u001b[43m)\u001b[49m\n\u001b[1;32m    959\u001b[0m     \u001b[38;5;28;01mtry\u001b[39;00m:\n\u001b[1;32m    960\u001b[0m         \u001b[38;5;28;01mtry\u001b[39;00m:\n",
      "File \u001b[0;32m~/miniconda3/envs/test/lib/python3.10/site-packages/httpx/_client.py:991\u001b[0m, in \u001b[0;36mClient._send_handling_redirects\u001b[0;34m(self, request, follow_redirects, history)\u001b[0m\n\u001b[1;32m    988\u001b[0m \u001b[38;5;28;01mfor\u001b[39;00m hook \u001b[38;5;129;01min\u001b[39;00m \u001b[38;5;28mself\u001b[39m\u001b[38;5;241m.\u001b[39m_event_hooks[\u001b[38;5;124m\"\u001b[39m\u001b[38;5;124mrequest\u001b[39m\u001b[38;5;124m\"\u001b[39m]:\n\u001b[1;32m    989\u001b[0m     hook(request)\n\u001b[0;32m--> 991\u001b[0m response \u001b[38;5;241m=\u001b[39m \u001b[38;5;28;43mself\u001b[39;49m\u001b[38;5;241;43m.\u001b[39;49m\u001b[43m_send_single_request\u001b[49m\u001b[43m(\u001b[49m\u001b[43mrequest\u001b[49m\u001b[43m)\u001b[49m\n\u001b[1;32m    992\u001b[0m \u001b[38;5;28;01mtry\u001b[39;00m:\n\u001b[1;32m    993\u001b[0m     \u001b[38;5;28;01mfor\u001b[39;00m hook \u001b[38;5;129;01min\u001b[39;00m \u001b[38;5;28mself\u001b[39m\u001b[38;5;241m.\u001b[39m_event_hooks[\u001b[38;5;124m\"\u001b[39m\u001b[38;5;124mresponse\u001b[39m\u001b[38;5;124m\"\u001b[39m]:\n",
      "File \u001b[0;32m~/miniconda3/envs/test/lib/python3.10/site-packages/httpx/_client.py:1027\u001b[0m, in \u001b[0;36mClient._send_single_request\u001b[0;34m(self, request)\u001b[0m\n\u001b[1;32m   1022\u001b[0m     \u001b[38;5;28;01mraise\u001b[39;00m \u001b[38;5;167;01mRuntimeError\u001b[39;00m(\n\u001b[1;32m   1023\u001b[0m         \u001b[38;5;124m\"\u001b[39m\u001b[38;5;124mAttempted to send an async request with a sync Client instance.\u001b[39m\u001b[38;5;124m\"\u001b[39m\n\u001b[1;32m   1024\u001b[0m     )\n\u001b[1;32m   1026\u001b[0m \u001b[38;5;28;01mwith\u001b[39;00m request_context(request\u001b[38;5;241m=\u001b[39mrequest):\n\u001b[0;32m-> 1027\u001b[0m     response \u001b[38;5;241m=\u001b[39m \u001b[43mtransport\u001b[49m\u001b[38;5;241;43m.\u001b[39;49m\u001b[43mhandle_request\u001b[49m\u001b[43m(\u001b[49m\u001b[43mrequest\u001b[49m\u001b[43m)\u001b[49m\n\u001b[1;32m   1029\u001b[0m \u001b[38;5;28;01massert\u001b[39;00m \u001b[38;5;28misinstance\u001b[39m(response\u001b[38;5;241m.\u001b[39mstream, SyncByteStream)\n\u001b[1;32m   1031\u001b[0m response\u001b[38;5;241m.\u001b[39mrequest \u001b[38;5;241m=\u001b[39m request\n",
      "File \u001b[0;32m~/miniconda3/envs/test/lib/python3.10/site-packages/httpx/_transports/default.py:235\u001b[0m, in \u001b[0;36mHTTPTransport.handle_request\u001b[0;34m(self, request)\u001b[0m\n\u001b[1;32m    221\u001b[0m \u001b[38;5;28;01massert\u001b[39;00m \u001b[38;5;28misinstance\u001b[39m(request\u001b[38;5;241m.\u001b[39mstream, SyncByteStream)\n\u001b[1;32m    223\u001b[0m req \u001b[38;5;241m=\u001b[39m httpcore\u001b[38;5;241m.\u001b[39mRequest(\n\u001b[1;32m    224\u001b[0m     method\u001b[38;5;241m=\u001b[39mrequest\u001b[38;5;241m.\u001b[39mmethod,\n\u001b[1;32m    225\u001b[0m     url\u001b[38;5;241m=\u001b[39mhttpcore\u001b[38;5;241m.\u001b[39mURL(\n\u001b[0;32m   (...)\u001b[0m\n\u001b[1;32m    233\u001b[0m     extensions\u001b[38;5;241m=\u001b[39mrequest\u001b[38;5;241m.\u001b[39mextensions,\n\u001b[1;32m    234\u001b[0m )\n\u001b[0;32m--> 235\u001b[0m \u001b[38;5;28;01mwith\u001b[39;00m map_httpcore_exceptions():\n\u001b[1;32m    236\u001b[0m     resp \u001b[38;5;241m=\u001b[39m \u001b[38;5;28mself\u001b[39m\u001b[38;5;241m.\u001b[39m_pool\u001b[38;5;241m.\u001b[39mhandle_request(req)\n\u001b[1;32m    238\u001b[0m \u001b[38;5;28;01massert\u001b[39;00m \u001b[38;5;28misinstance\u001b[39m(resp\u001b[38;5;241m.\u001b[39mstream, typing\u001b[38;5;241m.\u001b[39mIterable)\n",
      "File \u001b[0;32m~/miniconda3/envs/test/lib/python3.10/contextlib.py:153\u001b[0m, in \u001b[0;36m_GeneratorContextManager.__exit__\u001b[0;34m(self, typ, value, traceback)\u001b[0m\n\u001b[1;32m    151\u001b[0m     value \u001b[38;5;241m=\u001b[39m typ()\n\u001b[1;32m    152\u001b[0m \u001b[38;5;28;01mtry\u001b[39;00m:\n\u001b[0;32m--> 153\u001b[0m     \u001b[38;5;28;43mself\u001b[39;49m\u001b[38;5;241;43m.\u001b[39;49m\u001b[43mgen\u001b[49m\u001b[38;5;241;43m.\u001b[39;49m\u001b[43mthrow\u001b[49m\u001b[43m(\u001b[49m\u001b[43mtyp\u001b[49m\u001b[43m,\u001b[49m\u001b[43m \u001b[49m\u001b[43mvalue\u001b[49m\u001b[43m,\u001b[49m\u001b[43m \u001b[49m\u001b[43mtraceback\u001b[49m\u001b[43m)\u001b[49m\n\u001b[1;32m    154\u001b[0m \u001b[38;5;28;01mexcept\u001b[39;00m \u001b[38;5;167;01mStopIteration\u001b[39;00m \u001b[38;5;28;01mas\u001b[39;00m exc:\n\u001b[1;32m    155\u001b[0m     \u001b[38;5;66;03m# Suppress StopIteration *unless* it's the same exception that\u001b[39;00m\n\u001b[1;32m    156\u001b[0m     \u001b[38;5;66;03m# was passed to throw().  This prevents a StopIteration\u001b[39;00m\n\u001b[1;32m    157\u001b[0m     \u001b[38;5;66;03m# raised inside the \"with\" statement from being suppressed.\u001b[39;00m\n\u001b[1;32m    158\u001b[0m     \u001b[38;5;28;01mreturn\u001b[39;00m exc \u001b[38;5;129;01mis\u001b[39;00m \u001b[38;5;129;01mnot\u001b[39;00m value\n",
      "File \u001b[0;32m~/miniconda3/envs/test/lib/python3.10/site-packages/httpx/_transports/default.py:89\u001b[0m, in \u001b[0;36mmap_httpcore_exceptions\u001b[0;34m()\u001b[0m\n\u001b[1;32m     86\u001b[0m     \u001b[38;5;28;01mraise\u001b[39;00m\n\u001b[1;32m     88\u001b[0m message \u001b[38;5;241m=\u001b[39m \u001b[38;5;28mstr\u001b[39m(exc)\n\u001b[0;32m---> 89\u001b[0m \u001b[38;5;28;01mraise\u001b[39;00m mapped_exc(message) \u001b[38;5;28;01mfrom\u001b[39;00m \u001b[38;5;21;01mexc\u001b[39;00m\n",
      "\u001b[0;31mReadTimeout\u001b[0m: timed out"
     ]
    }
   ],
   "source": [
    "flare_response = flare_query_engine.query(\"What's going on with Baltimore Ravens?\")"
   ]
  },
  {
   "cell_type": "code",
   "execution_count": 8,
   "id": "8cf08a29",
   "metadata": {},
   "outputs": [
    {
     "ename": "NameError",
     "evalue": "name 'flare_response' is not defined",
     "output_type": "error",
     "traceback": [
      "\u001b[0;31m---------------------------------------------------------------------------\u001b[0m",
      "\u001b[0;31mNameError\u001b[0m                                 Traceback (most recent call last)",
      "Cell \u001b[0;32mIn[8], line 1\u001b[0m\n\u001b[0;32m----> 1\u001b[0m \u001b[38;5;28mprint\u001b[39m(\u001b[43mflare_response\u001b[49m)\n",
      "\u001b[0;31mNameError\u001b[0m: name 'flare_response' is not defined"
     ]
    }
   ],
   "source": [
    "print(flare_response)"
   ]
  },
  {
   "cell_type": "markdown",
   "id": "7a87805b",
   "metadata": {},
   "source": [
    "# RAG with Qdrant"
   ]
  },
  {
   "cell_type": "code",
   "execution_count": 43,
   "id": "de22f1e1",
   "metadata": {},
   "outputs": [],
   "source": [
    "from llama_index.core import SimpleDirectoryReader\n",
    "documents = SimpleDirectoryReader(\"./data/ravens_web_official_news_10_7_10_14\").load_data()"
   ]
  },
  {
   "cell_type": "markdown",
   "id": "4b9536e3",
   "metadata": {},
   "source": [
    "## Split docs into small chunks"
   ]
  },
  {
   "cell_type": "code",
   "execution_count": 44,
   "id": "bf9c0e38",
   "metadata": {},
   "outputs": [],
   "source": [
    "from llama_index.core.node_parser.text import SentenceSplitter\n",
    "text_parser = SentenceSplitter(\n",
    " chunk_size=1024,\n",
    ")\n",
    "text_chunks = []\n",
    "doc_idxs = []\n",
    "for doc_idx, doc in enumerate(documents):\n",
    "    cur_text_chunks = text_parser.split_text(doc.text)\n",
    "    text_chunks.extend(cur_text_chunks)\n",
    "    doc_idxs.extend([doc_idx] * len(cur_text_chunks))"
   ]
  },
  {
   "cell_type": "markdown",
   "id": "a5181dc4",
   "metadata": {},
   "source": [
    "## Construct Nodes"
   ]
  },
  {
   "cell_type": "code",
   "execution_count": 45,
   "id": "7f3974b7",
   "metadata": {},
   "outputs": [],
   "source": [
    "from llama_index.core.schema import TextNode\n",
    "nodes = []\n",
    "for idx, text_chunk in enumerate(text_chunks):\n",
    "    node = TextNode(\n",
    "    text=text_chunk,\n",
    "    )\n",
    "    src_doc = documents[doc_idxs[idx]]\n",
    "    node.metadata = src_doc.metadata\n",
    "    nodes.append(node)"
   ]
  },
  {
   "cell_type": "markdown",
   "id": "833c5860",
   "metadata": {},
   "source": [
    "## Embedding Model"
   ]
  },
  {
   "cell_type": "code",
   "execution_count": 46,
   "id": "2a16cf93",
   "metadata": {},
   "outputs": [],
   "source": [
    "# Set up embedding model\n",
    "embed_model = OllamaEmbedding(\n",
    "    model_name=\"snowflake-arctic-embed\",\n",
    "    ollama_additional_kwargs={\"prostatic\": 0},\n",
    ")\n",
    "for node in nodes:\n",
    "    node_embedding = embed_model.get_text_embedding(\n",
    "    node.get_content(metadata_mode=\"all\")\n",
    "    )\n",
    "    node.embedding = node_embedding"
   ]
  },
  {
   "cell_type": "code",
   "execution_count": 52,
   "id": "8e3ff6d5",
   "metadata": {},
   "outputs": [],
   "source": [
    "Settings.embed_model = embed_model"
   ]
  },
  {
   "cell_type": "markdown",
   "id": "6ce82196",
   "metadata": {},
   "source": [
    "## Create Vector Store"
   ]
  },
  {
   "cell_type": "code",
   "execution_count": 56,
   "id": "23ebd2d2",
   "metadata": {},
   "outputs": [],
   "source": [
    "import qdrant_client\n",
    "from llama_index.vector_stores.qdrant import QdrantVectorStore\n",
    "client = qdrant_client.QdrantClient(location=\":memory:\")\n",
    "from llama_index.core import (\n",
    " VectorStoreIndex,\n",
    " StorageContext,\n",
    " SimpleDirectoryReader,\n",
    ")\n",
    "vector_store = QdrantVectorStore(client=client, collection_name=\"my_collection\")\n",
    "storage_context = StorageContext.from_defaults(vector_store=vector_store)"
   ]
  },
  {
   "cell_type": "code",
   "execution_count": 57,
   "id": "58491bed",
   "metadata": {},
   "outputs": [
    {
     "name": "stderr",
     "output_type": "stream",
     "text": [
      "WARNING:root:Payload indexes have no effect in the local Qdrant. Please use server Qdrant if you need payload indexes.\n"
     ]
    }
   ],
   "source": [
    "index = VectorStoreIndex.from_documents(\n",
    " documents, storage_context=storage_context\n",
    ")"
   ]
  },
  {
   "cell_type": "code",
   "execution_count": 58,
   "id": "437f318c",
   "metadata": {},
   "outputs": [
    {
     "data": {
      "text/plain": [
       "['82f9b08d-4c2c-4cd6-aa2e-1a139bba5105',\n",
       " '301bb0ea-7de1-455a-9283-72bb666047b9',\n",
       " '5bfec3d9-a7a2-4fab-82a1-0e811ebcaf15',\n",
       " 'd2cab947-008a-4bee-9354-d91c65bc99fd',\n",
       " '529534f8-aa9f-46f9-9fd8-8b948c0b3090',\n",
       " 'b6eb8758-2114-4ac4-8e6d-89856ebdf763',\n",
       " '60463f07-5294-420a-88f5-431eaef54bdc',\n",
       " 'cc5b8f71-dc40-4920-80df-311a1e5383ec',\n",
       " 'ea99810b-4af8-420a-9b8f-721c4a87f612',\n",
       " 'd8ee931b-e5b8-4581-bf51-4458d7e2bd74',\n",
       " 'acc2ce09-265e-4b84-b7a7-52a8fbe2ec48',\n",
       " 'f99e2b81-10de-4136-9138-2830c907a6dc',\n",
       " 'fe003cdf-9d65-4627-9705-8ba9dd98b9aa',\n",
       " '9f6612ff-c101-4ac8-9abb-1e2d4a80ed0e',\n",
       " 'd68d2757-7cae-4d98-a343-9fbef6bcd9ea',\n",
       " '1e4518fb-d3f6-4039-85f6-42b84d9d0ea5',\n",
       " '0d67d06a-50d6-4a7a-921e-1bc57247560c',\n",
       " '3519df90-e624-44a5-9de5-df11baed480e',\n",
       " '86bafcba-38bd-4532-b329-ed103aebb6a6',\n",
       " '27b9ce36-0dd6-4727-b404-3c8e12e42b2f',\n",
       " '29d4da6d-c263-4c7f-8cec-6dbfcba98591',\n",
       " '427b5a35-e798-48b0-bc75-9f2911cee1e7',\n",
       " '8eee9fdc-9231-4374-9ab5-89334c5db82d',\n",
       " '45675450-355a-47d2-b6b2-dceb5729ce7b',\n",
       " 'eab98441-d745-4bf4-868f-2cb07ecf9408',\n",
       " 'c9225af3-ab9a-4375-bb1c-0564343c306e',\n",
       " 'e5bdbaaa-3b85-40a8-a364-7adb860a1b6d',\n",
       " 'f92649c3-894d-484d-92df-8b0c23354f95',\n",
       " '46b17ef2-65fe-40ab-8289-862cb20170f0',\n",
       " '3083edb5-5ad3-451b-b7ef-0837c0c607ee',\n",
       " '7c570ac0-4006-4b03-b3a7-b0cb3b21f19d',\n",
       " '829b1e06-b79b-4627-b8cd-82d92d1b500c',\n",
       " '45eaadc2-b868-45d4-9ae0-ee84e5eefa1d',\n",
       " 'e79ba64c-701e-469e-845f-1bbf19f8848c',\n",
       " '4868774b-d9da-45d8-96bf-6e007d48a68d',\n",
       " '9604bf14-3d2d-4aa4-acfa-489bcb3682d3',\n",
       " '3e2d9630-7ce5-4a95-97ba-a18c45d182aa',\n",
       " 'faf36dfc-f2dc-4718-ab7a-21d940217d86',\n",
       " '03f22cf5-8338-434b-a344-1bc6d559a53e',\n",
       " '06b8df43-fdd6-4621-b96a-9ba0550dcbd4',\n",
       " '3c86a63b-f410-4ae8-a891-3cd61773f2a7',\n",
       " 'ca457cb6-906b-47fe-a5b6-166693d579e0',\n",
       " 'e73e051d-8eb3-4e8f-a8ad-e183c8526144',\n",
       " '6483b870-7fa3-46e1-a699-869481f66993',\n",
       " 'c9e95bd0-200d-42ee-9596-f54462e942bd',\n",
       " '1107e5b2-5184-40a6-bc88-85dbfd3835a0',\n",
       " '2f3f4ae6-8574-4326-945c-95b1cf6b85ed',\n",
       " '1b6ffc91-24aa-4ee7-9d71-84f80c163936',\n",
       " '7028cc5e-610c-446c-b0ed-285b92555cc3',\n",
       " '6ce17607-eedd-41b0-b445-b3a322a30566',\n",
       " '6f18e6fb-4a49-4b97-af53-934933db2d3a',\n",
       " 'c796fa24-f721-404d-8b3e-cc418d1db4eb',\n",
       " '5440753a-4d51-4849-b4ca-93ee622caf96',\n",
       " '5d00accc-fe02-4bfb-97aa-419a3d1c45fd',\n",
       " '6a692cf6-1fb1-440c-9044-e1b6204332b3',\n",
       " 'afddbd6c-caae-495a-99b0-c74ce2da0055',\n",
       " 'a93afe68-364a-4a16-a742-5267b9a55ff0',\n",
       " '32430cdf-c95f-493a-9d1f-32b5796f52ac',\n",
       " '41ec9eb8-43e6-45f0-be5a-1a33263784ef',\n",
       " 'afdba69b-7798-4974-860a-7a7f08d9af8d',\n",
       " '896e4aee-47d8-41dd-9f98-36c3fa11a3bc',\n",
       " '9fded5a2-e963-48e2-a4b7-f1760eded5d1',\n",
       " 'da16fa7d-2e2f-46e6-97a3-0cec896b0991',\n",
       " '35749052-31dc-4932-bf3b-e945211dd3ec',\n",
       " '9009ddb8-d9bb-4a60-8c71-94c3851d0721',\n",
       " '6e3a1740-60e0-4f74-9d37-2a61cdd48299',\n",
       " 'dbbfa230-5477-4d15-84bf-f16ef430db97',\n",
       " '8643a0a2-a72f-4647-8642-d2724e3eaf18',\n",
       " 'd8216b7c-bd7c-4a95-8267-41a59b3d502e',\n",
       " '9cfe3146-0cb7-452a-9ea1-d79804dfccc7',\n",
       " '4c5a4141-0aff-491e-854f-0db649a955da',\n",
       " '9a01818b-a9e1-445b-a764-d02df5fb64f9',\n",
       " '9f6e2d09-d1c9-4ae7-8c11-cee7f3b14804',\n",
       " '9c2cf8e7-818e-41b6-b2ab-3d1937c19bd6',\n",
       " '38e2126b-d95d-43bf-a7b1-df95293a2118',\n",
       " 'a33ac245-4d4f-4505-959f-77ce3341f257',\n",
       " '39906d6c-502a-45d5-b901-875446da3965',\n",
       " 'aaa82986-9115-4073-8e17-186540bc5b7e',\n",
       " 'a4367142-c941-467a-a795-1b8613fd8d31',\n",
       " '06ccf077-4cc1-47e6-9e5b-e3a245f2a062',\n",
       " 'b11734f9-5fcc-4dd0-80df-1f5b6fa8cf1d',\n",
       " '49578cad-047b-44b9-9538-5e1375141be9',\n",
       " '6b3621d1-34f3-4fc0-b085-98998d27f1ee',\n",
       " '8ec8df97-6e9b-4630-835b-3a71326916d9']"
      ]
     },
     "execution_count": 58,
     "metadata": {},
     "output_type": "execute_result"
    }
   ],
   "source": [
    "vector_store.add(nodes)"
   ]
  },
  {
   "cell_type": "markdown",
   "id": "82d026c8",
   "metadata": {},
   "source": [
    "## Query"
   ]
  },
  {
   "cell_type": "code",
   "execution_count": 59,
   "id": "729f2172",
   "metadata": {},
   "outputs": [],
   "source": [
    "query_str = \"what's new with Baltimore Ravens?\"\n",
    "query_embedding = embed_model.get_query_embedding(query_str)"
   ]
  },
  {
   "cell_type": "markdown",
   "id": "7bdae278",
   "metadata": {},
   "source": [
    "## Construct Vector Store Query"
   ]
  },
  {
   "cell_type": "code",
   "execution_count": 61,
   "id": "e60cafc4",
   "metadata": {},
   "outputs": [
    {
     "name": "stdout",
     "output_type": "stream",
     "text": [
      "He converted big third down after big third down, did a terrific job re-discovering Mark Andrews, feeding Zay Flowers and finding guys like Tylan Wallace and Charlie Kolar when he needed them. The play to Isaiah Likely in the fourth quarter will run on highlight clips for perpetuity, and it should — but it shouldn't overshadow this gritty, brilliant performance. He looked like a two-time MVP.\"\n",
      "\n",
      "The Baltimore Banner's Jonas Shaffer: \"One of the first things Derrick Henry said after the game was that Lamar Jackson's the best player in the NFL. After all we saw today — the incredible highs and the very rare lows — who's going to tell him otherwise?\"\n",
      "\n",
      "The Baltimore Banner's Kyle Goon: \"A long time from now, when Jackson is enshrined in Canton, they'll play the highlight of him stiff-arming Sam Hubbard to the ground, then throwing a touchdown to Isaiah Likely across his body. The two-time MVP reminded us who he is with a masterpiece in the second half, including three touchdown passes and a lot of game-extending wizardry that only he is capable of conjuring.\"\n",
      "\n",
      "All Ravens Tight Ends Are Becoming a Matchup Problem\n",
      "Over the past two games, most plays made by the Ravens' tight end trio of Mark Andrews, Isaiah Likely, and Charlie Kolar were delivering blocks to free Henry for 350 yards and three touchdowns. But in the Bengals' concerted effort to slow down the Ravens' tailback, the tight end trio came alive in the pass game, and Pressbox’s Bo Smolka notes how they're challenging opposing defenses.\n",
      "\n",
      "\"The Ravens' tight ends continue to be a matchup problem for opposing defenses, and in multiple ways,\" Smolka wrote. \"Not only do they make catches, but they have been exceptional perimeter blockers this season, often wiping out smaller defensive backs to spring long runs, and they have become major decoys.\"\n",
      "\n",
      "Smolka noted their production wasn't the only thing impacting the Bengals' defense, but their presence, too.\n",
      "\n",
      "\"Asked this week about Andrews' low production this season, quarterback Lamar Jackson noted that when Andrews has been double-teamed, the field opens for others,\" Smolka wrote. \"Indeed, in the first quarter, the Ravens faced third-and-five at their 21-yard line. Many, many times over the past five years, Jackson has looked for Andrews in that exact situation. That's probably why the Bengals double-teamed Andrews. Instead, Jackson lofted a pass just beyond Andrews and those two defenders, to a wide-open Zay Flowers for a 26-yard gain. In the third quarter, Likely went in motion to the left, and after receiving the snap, Jackson looked that way. Then he quickly looked right and found Kolar wide-open for a 55-yard catch-and-run.\"\n",
      "\n",
      "'Ravens Were Right to Have Faith in Justin Tucker'\n",
      "The first-ever \"slump\" for Justin Tucker became a hefty talking point over the first quarter of the season. The rarity perplexed pundits and fans as the most accurate kicker in NFL history was struggling from distance while seemingly every other kicker was crushing kicks.\n",
      "\n",
      "But against the Bengals with fewer than two minutes to play and all the pressure on the kicking unit from 56 yards out, Tucker blasted the ball. Once it reached the apex – before splitting the uprights – three Ravens across the line signaled it was good. Tucker tied the game at 38.\n",
      "\n",
      "Russell Street Report’s Darin McCann praised Tucker for answering the call.\n",
      "\n",
      "\"I want to start by saying, that in one small way, the Ravens won this one because Justin Tucker delivered a clutch 50-plus yard field goal while the opponent's kicker missed his own opportunity,\" McCann wrote. \"Obviously, there was much more to this one than that, but let's give Tucker that today. It had to feel good for him to nail that kick.\"\n",
      "\n",
      "Zrebiec pointed out the Ravens have a few worries, but Tucker's name should not be on the list.\n",
      "\n",
      "\"The murmurs started a few weeks back when Tucker missed a few kicks at a time when NFL kickers were making field goals at an unbelievable rate. What was wrong with the most accurate kicker in the history of the NFL? As it turns out, nothing,\" Zrebiec wrote. \"… The 3-2 Ravens have some issues. They are too mistake prone. Their high-priced secondary is a concern. Tucker, however, isn't one of the team's issues.\"\n",
      "\n",
      "Defense Made Clutch Plays, But More is Expected\n",
      "Entering Sunday, the Ravens' secondary aimed to correct its pass defense ranking.\n"
     ]
    }
   ],
   "source": [
    "from llama_index.core.vector_stores import VectorStoreQuery\n",
    "query_mode = \"default\"\n",
    "# query_mode = \"sparse\"\n",
    "# query_mode = \"hybrid\"\n",
    "vector_store_query = VectorStoreQuery(\n",
    " query_embedding=query_embedding, similarity_top_k=2, mode=query_mode\n",
    ")\n",
    "query_result = vector_store.query(vector_store_query)\n",
    "print(query_result.nodes[0].get_content())"
   ]
  },
  {
   "cell_type": "markdown",
   "id": "555c0c7f",
   "metadata": {},
   "source": [
    "## Parse the Results into a set of nodes"
   ]
  },
  {
   "cell_type": "code",
   "execution_count": 62,
   "id": "9070ef52",
   "metadata": {},
   "outputs": [],
   "source": [
    "from llama_index.core.schema import NodeWithScore\n",
    "from typing import Optional\n",
    "nodes_with_scores = []\n",
    "for index, node in enumerate(query_result.nodes):\n",
    "    score: Optional[float] = None\n",
    "    if query_result.similarities is not None:\n",
    "        score = query_result.similarities[index]\n",
    "        nodes_with_scores.append(NodeWithScore(node=node, score=score))"
   ]
  },
  {
   "cell_type": "markdown",
   "id": "c521599f",
   "metadata": {},
   "source": [
    "## Retriever"
   ]
  },
  {
   "cell_type": "code",
   "execution_count": 64,
   "id": "d9fadc6f",
   "metadata": {},
   "outputs": [],
   "source": [
    "from llama_index.core import QueryBundle\n",
    "from llama_index.core.retrievers import BaseRetriever\n",
    "from typing import Any, List\n",
    "\n",
    "class VectorDBRetriever(BaseRetriever):\n",
    "    \"\"\"Retriever over a qdrant vector store.\"\"\"\n",
    "    def __init__(\n",
    "    self,\n",
    "    vector_store: QdrantVectorStore,\n",
    "    embed_model: Any,\n",
    "    query_mode: str = \"default\",\n",
    "    similarity_top_k: int = 2,\n",
    "    ) -> None:\n",
    "        \"\"\"Init params.\"\"\"\n",
    "        self._vector_store = vector_store\n",
    "        self._embed_model = embed_model\n",
    "        self._query_mode = query_mode\n",
    "        self._similarity_top_k = similarity_top_k\n",
    "        super().__init__()\n",
    "    \n",
    "    def _retrieve(self, query_bundle: QueryBundle) -> List[NodeWithScore]:\n",
    "        \"\"\"Retrieve.\"\"\"\n",
    "        query_embedding = embed_model.get_query_embedding(\n",
    "        query_bundle.query_str\n",
    "        )\n",
    "        vector_store_query = VectorStoreQuery(\n",
    "        query_embedding=query_embedding,\n",
    "        similarity_top_k=self._similarity_top_k,\n",
    "        mode=self._query_mode,\n",
    "        )\n",
    "        query_result = vector_store.query(vector_store_query)\n",
    "        nodes_with_scores = []\n",
    "        for index, node in enumerate(query_result.nodes):\n",
    "            score: Optional[float] = None\n",
    "            if query_result.similarities is not None:\n",
    "                score = query_result.similarities[index]\n",
    "                nodes_with_scores.append(NodeWithScore(node=node, score=score))\n",
    "        return nodes_with_scores"
   ]
  },
  {
   "cell_type": "code",
   "execution_count": 65,
   "id": "1d35932c",
   "metadata": {},
   "outputs": [],
   "source": [
    "retriever = VectorDBRetriever(\n",
    "            vector_store, embed_model, query_mode=\"default\", similarity_top_k=2\n",
    "            )"
   ]
  },
  {
   "cell_type": "markdown",
   "id": "3ba63fc1",
   "metadata": {},
   "source": [
    "## Retriever Query Engine"
   ]
  },
  {
   "cell_type": "code",
   "execution_count": 66,
   "id": "63bf8808",
   "metadata": {},
   "outputs": [],
   "source": [
    "from llama_index.core.query_engine import RetrieverQueryEngine\n",
    "query_engine = RetrieverQueryEngine.from_args(\n",
    " retriever\n",
    ")"
   ]
  },
  {
   "cell_type": "markdown",
   "id": "be5abc4d",
   "metadata": {},
   "source": [
    "## Query Results"
   ]
  },
  {
   "cell_type": "code",
   "execution_count": 67,
   "id": "835948f0",
   "metadata": {},
   "outputs": [
    {
     "name": "stdout",
     "output_type": "stream",
     "text": [
      "The Baltimore Ravens have been on a roll lately. Their offense has been particularly impressive, with Lamar Jackson leading the charge. They've shown their ability to adapt and dominate games in different ways, whether it's through the air or on the ground. With players like Zay Flowers emerging as key contributors and Derrick Henry continuing to be a force to be reckoned with, this team is looking fierce.\n"
     ]
    }
   ],
   "source": [
    "query_str = \"what's new with Baltimore Ravens?\"\n",
    "response = query_engine.query(query_str)\n",
    "print(str(response))"
   ]
  },
  {
   "cell_type": "markdown",
   "id": "55bd0057",
   "metadata": {},
   "source": [
    "# Random"
   ]
  },
  {
   "cell_type": "code",
   "execution_count": 7,
   "id": "d54fbd73a6836902",
   "metadata": {
    "ExecuteTime": {
     "end_time": "2024-08-07T07:11:36.617356Z",
     "start_time": "2024-08-07T07:10:31.936734Z"
    }
   },
   "outputs": [
    {
     "name": "stdout",
     "output_type": "stream",
     "text": [
      "It seems like several things are going well for the Ravens from what you've shared. They had multiple players contribute in the last game, their red-zone offense is doing great with 14 of their last 15 trips resulting in touchdowns, and Justin Tucker broke his skid with a big kick despite tough conditions.\n"
     ]
    }
   ],
   "source": [
    "\n",
    "from llama_index.core.memory import ChatMemoryBuffer\n",
    "memory = ChatMemoryBuffer.from_defaults(token_limit=1500)\n",
    "\n",
    "chat_engine = index.as_chat_engine(\n",
    "    chat_mode=\"context\",\n",
    "    memory=memory,\n",
    "    system_prompt=(\n",
    "        \"You are a chatbot, able to have normal interactions.\"\n",
    "    ),\n",
    ")\n",
    "\n",
    "response = chat_engine.chat(\"Is it good for Ravens?\")\n",
    "print(response)"
   ]
  },
  {
   "cell_type": "code",
   "execution_count": null,
   "id": "a7a8d188",
   "metadata": {},
   "outputs": [],
   "source": [
    "response = chat_engine.chat(\"Is it good for Ravens?\")\n",
    "print(response)"
   ]
  },
  {
   "cell_type": "markdown",
   "id": "3b1d442d",
   "metadata": {},
   "source": [
    "# Evaluation"
   ]
  },
  {
   "cell_type": "markdown",
   "id": "61bc5c3f",
   "metadata": {},
   "source": [
    "## prep"
   ]
  },
  {
   "cell_type": "code",
   "execution_count": 30,
   "id": "29dd37ca",
   "metadata": {},
   "outputs": [],
   "source": [
    "import nest_asyncio\n",
    "\n",
    "nest_asyncio.apply()"
   ]
  },
  {
   "cell_type": "code",
   "execution_count": 15,
   "id": "e2740259",
   "metadata": {},
   "outputs": [],
   "source": [
    "! pip install wikipedia -q"
   ]
  },
  {
   "cell_type": "code",
   "execution_count": 17,
   "id": "dd0232f0",
   "metadata": {},
   "outputs": [
    {
     "name": "stdout",
     "output_type": "stream",
     "text": [
      "Collecting llama-index-readers-wikipedia\n",
      "  Downloading llama_index_readers_wikipedia-0.3.0-py3-none-any.whl.metadata (1.5 kB)\n",
      "Requirement already satisfied: llama-index-core<0.13.0,>=0.12.0 in /home/luhj/miniconda3/envs/test/lib/python3.10/site-packages (from llama-index-readers-wikipedia) (0.12.5)\n",
      "Requirement already satisfied: PyYAML>=6.0.1 in /home/luhj/miniconda3/envs/test/lib/python3.10/site-packages (from llama-index-core<0.13.0,>=0.12.0->llama-index-readers-wikipedia) (6.0.2)\n",
      "Requirement already satisfied: SQLAlchemy>=1.4.49 in /home/luhj/miniconda3/envs/test/lib/python3.10/site-packages (from SQLAlchemy[asyncio]>=1.4.49->llama-index-core<0.13.0,>=0.12.0->llama-index-readers-wikipedia) (2.0.36)\n",
      "Requirement already satisfied: aiohttp<4.0.0,>=3.8.6 in /home/luhj/miniconda3/envs/test/lib/python3.10/site-packages (from llama-index-core<0.13.0,>=0.12.0->llama-index-readers-wikipedia) (3.11.10)\n",
      "Requirement already satisfied: dataclasses-json in /home/luhj/miniconda3/envs/test/lib/python3.10/site-packages (from llama-index-core<0.13.0,>=0.12.0->llama-index-readers-wikipedia) (0.6.7)\n",
      "Requirement already satisfied: deprecated>=1.2.9.3 in /home/luhj/miniconda3/envs/test/lib/python3.10/site-packages (from llama-index-core<0.13.0,>=0.12.0->llama-index-readers-wikipedia) (1.2.15)\n",
      "Requirement already satisfied: dirtyjson<2.0.0,>=1.0.8 in /home/luhj/miniconda3/envs/test/lib/python3.10/site-packages (from llama-index-core<0.13.0,>=0.12.0->llama-index-readers-wikipedia) (1.0.8)\n",
      "Requirement already satisfied: filetype<2.0.0,>=1.2.0 in /home/luhj/miniconda3/envs/test/lib/python3.10/site-packages (from llama-index-core<0.13.0,>=0.12.0->llama-index-readers-wikipedia) (1.2.0)\n",
      "Requirement already satisfied: fsspec>=2023.5.0 in /home/luhj/miniconda3/envs/test/lib/python3.10/site-packages (from llama-index-core<0.13.0,>=0.12.0->llama-index-readers-wikipedia) (2024.10.0)\n",
      "Requirement already satisfied: httpx in /home/luhj/miniconda3/envs/test/lib/python3.10/site-packages (from llama-index-core<0.13.0,>=0.12.0->llama-index-readers-wikipedia) (0.27.2)\n",
      "Requirement already satisfied: nest-asyncio<2.0.0,>=1.5.8 in /home/luhj/miniconda3/envs/test/lib/python3.10/site-packages (from llama-index-core<0.13.0,>=0.12.0->llama-index-readers-wikipedia) (1.6.0)\n",
      "Requirement already satisfied: networkx>=3.0 in /home/luhj/miniconda3/envs/test/lib/python3.10/site-packages (from llama-index-core<0.13.0,>=0.12.0->llama-index-readers-wikipedia) (3.4.2)\n",
      "Requirement already satisfied: nltk>3.8.1 in /home/luhj/miniconda3/envs/test/lib/python3.10/site-packages (from llama-index-core<0.13.0,>=0.12.0->llama-index-readers-wikipedia) (3.9.1)\n",
      "Requirement already satisfied: numpy in /home/luhj/miniconda3/envs/test/lib/python3.10/site-packages (from llama-index-core<0.13.0,>=0.12.0->llama-index-readers-wikipedia) (2.2.0)\n",
      "Requirement already satisfied: pillow>=9.0.0 in /home/luhj/miniconda3/envs/test/lib/python3.10/site-packages (from llama-index-core<0.13.0,>=0.12.0->llama-index-readers-wikipedia) (11.0.0)\n",
      "Requirement already satisfied: pydantic>=2.8.0 in /home/luhj/miniconda3/envs/test/lib/python3.10/site-packages (from llama-index-core<0.13.0,>=0.12.0->llama-index-readers-wikipedia) (2.10.3)\n",
      "Requirement already satisfied: requests>=2.31.0 in /home/luhj/miniconda3/envs/test/lib/python3.10/site-packages (from llama-index-core<0.13.0,>=0.12.0->llama-index-readers-wikipedia) (2.32.3)\n",
      "Requirement already satisfied: tenacity!=8.4.0,<10.0.0,>=8.2.0 in /home/luhj/miniconda3/envs/test/lib/python3.10/site-packages (from llama-index-core<0.13.0,>=0.12.0->llama-index-readers-wikipedia) (8.5.0)\n",
      "Requirement already satisfied: tiktoken>=0.3.3 in /home/luhj/miniconda3/envs/test/lib/python3.10/site-packages (from llama-index-core<0.13.0,>=0.12.0->llama-index-readers-wikipedia) (0.8.0)\n",
      "Requirement already satisfied: tqdm<5.0.0,>=4.66.1 in /home/luhj/miniconda3/envs/test/lib/python3.10/site-packages (from llama-index-core<0.13.0,>=0.12.0->llama-index-readers-wikipedia) (4.67.1)\n",
      "Requirement already satisfied: typing-extensions>=4.5.0 in /home/luhj/miniconda3/envs/test/lib/python3.10/site-packages (from llama-index-core<0.13.0,>=0.12.0->llama-index-readers-wikipedia) (4.12.2)\n",
      "Requirement already satisfied: typing-inspect>=0.8.0 in /home/luhj/miniconda3/envs/test/lib/python3.10/site-packages (from llama-index-core<0.13.0,>=0.12.0->llama-index-readers-wikipedia) (0.9.0)\n",
      "Requirement already satisfied: wrapt in /home/luhj/miniconda3/envs/test/lib/python3.10/site-packages (from llama-index-core<0.13.0,>=0.12.0->llama-index-readers-wikipedia) (1.17.0)\n",
      "Requirement already satisfied: aiohappyeyeballs>=2.3.0 in /home/luhj/miniconda3/envs/test/lib/python3.10/site-packages (from aiohttp<4.0.0,>=3.8.6->llama-index-core<0.13.0,>=0.12.0->llama-index-readers-wikipedia) (2.4.4)\n",
      "Requirement already satisfied: aiosignal>=1.1.2 in /home/luhj/miniconda3/envs/test/lib/python3.10/site-packages (from aiohttp<4.0.0,>=3.8.6->llama-index-core<0.13.0,>=0.12.0->llama-index-readers-wikipedia) (1.3.1)\n",
      "Requirement already satisfied: async-timeout<6.0,>=4.0 in /home/luhj/miniconda3/envs/test/lib/python3.10/site-packages (from aiohttp<4.0.0,>=3.8.6->llama-index-core<0.13.0,>=0.12.0->llama-index-readers-wikipedia) (5.0.1)\n",
      "Requirement already satisfied: attrs>=17.3.0 in /home/luhj/miniconda3/envs/test/lib/python3.10/site-packages (from aiohttp<4.0.0,>=3.8.6->llama-index-core<0.13.0,>=0.12.0->llama-index-readers-wikipedia) (24.2.0)\n",
      "Requirement already satisfied: frozenlist>=1.1.1 in /home/luhj/miniconda3/envs/test/lib/python3.10/site-packages (from aiohttp<4.0.0,>=3.8.6->llama-index-core<0.13.0,>=0.12.0->llama-index-readers-wikipedia) (1.5.0)\n",
      "Requirement already satisfied: multidict<7.0,>=4.5 in /home/luhj/miniconda3/envs/test/lib/python3.10/site-packages (from aiohttp<4.0.0,>=3.8.6->llama-index-core<0.13.0,>=0.12.0->llama-index-readers-wikipedia) (6.1.0)\n",
      "Requirement already satisfied: propcache>=0.2.0 in /home/luhj/miniconda3/envs/test/lib/python3.10/site-packages (from aiohttp<4.0.0,>=3.8.6->llama-index-core<0.13.0,>=0.12.0->llama-index-readers-wikipedia) (0.2.1)\n",
      "Requirement already satisfied: yarl<2.0,>=1.17.0 in /home/luhj/miniconda3/envs/test/lib/python3.10/site-packages (from aiohttp<4.0.0,>=3.8.6->llama-index-core<0.13.0,>=0.12.0->llama-index-readers-wikipedia) (1.18.3)\n",
      "Requirement already satisfied: click in /home/luhj/miniconda3/envs/test/lib/python3.10/site-packages (from nltk>3.8.1->llama-index-core<0.13.0,>=0.12.0->llama-index-readers-wikipedia) (8.1.7)\n",
      "Requirement already satisfied: joblib in /home/luhj/miniconda3/envs/test/lib/python3.10/site-packages (from nltk>3.8.1->llama-index-core<0.13.0,>=0.12.0->llama-index-readers-wikipedia) (1.4.2)\n",
      "Requirement already satisfied: regex>=2021.8.3 in /home/luhj/miniconda3/envs/test/lib/python3.10/site-packages (from nltk>3.8.1->llama-index-core<0.13.0,>=0.12.0->llama-index-readers-wikipedia) (2024.11.6)\n",
      "Requirement already satisfied: annotated-types>=0.6.0 in /home/luhj/miniconda3/envs/test/lib/python3.10/site-packages (from pydantic>=2.8.0->llama-index-core<0.13.0,>=0.12.0->llama-index-readers-wikipedia) (0.7.0)\n",
      "Requirement already satisfied: pydantic-core==2.27.1 in /home/luhj/miniconda3/envs/test/lib/python3.10/site-packages (from pydantic>=2.8.0->llama-index-core<0.13.0,>=0.12.0->llama-index-readers-wikipedia) (2.27.1)\n",
      "Requirement already satisfied: charset-normalizer<4,>=2 in /home/luhj/miniconda3/envs/test/lib/python3.10/site-packages (from requests>=2.31.0->llama-index-core<0.13.0,>=0.12.0->llama-index-readers-wikipedia) (3.4.0)\n",
      "Requirement already satisfied: idna<4,>=2.5 in /home/luhj/miniconda3/envs/test/lib/python3.10/site-packages (from requests>=2.31.0->llama-index-core<0.13.0,>=0.12.0->llama-index-readers-wikipedia) (3.10)\n",
      "Requirement already satisfied: urllib3<3,>=1.21.1 in /home/luhj/miniconda3/envs/test/lib/python3.10/site-packages (from requests>=2.31.0->llama-index-core<0.13.0,>=0.12.0->llama-index-readers-wikipedia) (2.2.3)\n",
      "Requirement already satisfied: certifi>=2017.4.17 in /home/luhj/miniconda3/envs/test/lib/python3.10/site-packages (from requests>=2.31.0->llama-index-core<0.13.0,>=0.12.0->llama-index-readers-wikipedia) (2024.8.30)\n",
      "Requirement already satisfied: greenlet!=0.4.17 in /home/luhj/miniconda3/envs/test/lib/python3.10/site-packages (from SQLAlchemy>=1.4.49->SQLAlchemy[asyncio]>=1.4.49->llama-index-core<0.13.0,>=0.12.0->llama-index-readers-wikipedia) (3.1.1)\n",
      "Requirement already satisfied: mypy-extensions>=0.3.0 in /home/luhj/miniconda3/envs/test/lib/python3.10/site-packages (from typing-inspect>=0.8.0->llama-index-core<0.13.0,>=0.12.0->llama-index-readers-wikipedia) (1.0.0)\n",
      "Requirement already satisfied: marshmallow<4.0.0,>=3.18.0 in /home/luhj/miniconda3/envs/test/lib/python3.10/site-packages (from dataclasses-json->llama-index-core<0.13.0,>=0.12.0->llama-index-readers-wikipedia) (3.23.1)\n",
      "Requirement already satisfied: anyio in /home/luhj/miniconda3/envs/test/lib/python3.10/site-packages (from httpx->llama-index-core<0.13.0,>=0.12.0->llama-index-readers-wikipedia) (4.7.0)\n",
      "Requirement already satisfied: httpcore==1.* in /home/luhj/miniconda3/envs/test/lib/python3.10/site-packages (from httpx->llama-index-core<0.13.0,>=0.12.0->llama-index-readers-wikipedia) (1.0.7)\n",
      "Requirement already satisfied: sniffio in /home/luhj/miniconda3/envs/test/lib/python3.10/site-packages (from httpx->llama-index-core<0.13.0,>=0.12.0->llama-index-readers-wikipedia) (1.3.1)\n",
      "Requirement already satisfied: h11<0.15,>=0.13 in /home/luhj/miniconda3/envs/test/lib/python3.10/site-packages (from httpcore==1.*->httpx->llama-index-core<0.13.0,>=0.12.0->llama-index-readers-wikipedia) (0.14.0)\n",
      "Requirement already satisfied: packaging>=17.0 in /home/luhj/miniconda3/envs/test/lib/python3.10/site-packages (from marshmallow<4.0.0,>=3.18.0->dataclasses-json->llama-index-core<0.13.0,>=0.12.0->llama-index-readers-wikipedia) (24.2)\n",
      "Requirement already satisfied: exceptiongroup>=1.0.2 in /home/luhj/miniconda3/envs/test/lib/python3.10/site-packages (from anyio->httpx->llama-index-core<0.13.0,>=0.12.0->llama-index-readers-wikipedia) (1.2.2)\n",
      "Downloading llama_index_readers_wikipedia-0.3.0-py3-none-any.whl (2.7 kB)\n",
      "Installing collected packages: llama-index-readers-wikipedia\n",
      "Successfully installed llama-index-readers-wikipedia-0.3.0\n"
     ]
    }
   ],
   "source": [
    "! pip install llama-index-readers-wikipedia"
   ]
  },
  {
   "cell_type": "code",
   "execution_count": 31,
   "id": "6ac90aaa",
   "metadata": {},
   "outputs": [],
   "source": [
    "from llama_index.readers.wikipedia import WikipediaReader\n",
    "from llama_index.core import VectorStoreIndex\n",
    "\n",
    "cities = [\n",
    "    \"San Francisco\",\n",
    "]\n",
    "\n",
    "documents = WikipediaReader().load_data(\n",
    "    pages=[f\"History of {x}\" for x in cities]\n",
    ")\n"
   ]
  },
  {
   "cell_type": "code",
   "execution_count": 20,
   "id": "fdb5969f",
   "metadata": {},
   "outputs": [
    {
     "name": "stdout",
     "output_type": "stream",
     "text": [
      "Collecting spacy\n",
      "  Downloading spacy-3.8.4-cp310-cp310-manylinux_2_17_x86_64.manylinux2014_x86_64.whl.metadata (27 kB)\n",
      "Collecting spacy-legacy<3.1.0,>=3.0.11 (from spacy)\n",
      "  Downloading spacy_legacy-3.0.12-py2.py3-none-any.whl.metadata (2.8 kB)\n",
      "Collecting spacy-loggers<2.0.0,>=1.0.0 (from spacy)\n",
      "  Downloading spacy_loggers-1.0.5-py3-none-any.whl.metadata (23 kB)\n",
      "Collecting murmurhash<1.1.0,>=0.28.0 (from spacy)\n",
      "  Downloading murmurhash-1.0.12-cp310-cp310-manylinux_2_5_x86_64.manylinux1_x86_64.manylinux_2_17_x86_64.manylinux2014_x86_64.whl.metadata (2.1 kB)\n",
      "Collecting cymem<2.1.0,>=2.0.2 (from spacy)\n",
      "  Downloading cymem-2.0.11-cp310-cp310-manylinux_2_17_x86_64.manylinux2014_x86_64.whl.metadata (8.5 kB)\n",
      "Collecting preshed<3.1.0,>=3.0.2 (from spacy)\n",
      "  Downloading preshed-3.0.9-cp310-cp310-manylinux_2_5_x86_64.manylinux1_x86_64.manylinux_2_17_x86_64.manylinux2014_x86_64.whl.metadata (2.2 kB)\n",
      "Collecting thinc<8.4.0,>=8.3.4 (from spacy)\n",
      "  Downloading thinc-8.3.4-cp310-cp310-manylinux_2_17_x86_64.manylinux2014_x86_64.whl.metadata (15 kB)\n",
      "Collecting wasabi<1.2.0,>=0.9.1 (from spacy)\n",
      "  Downloading wasabi-1.1.3-py3-none-any.whl.metadata (28 kB)\n",
      "Collecting srsly<3.0.0,>=2.4.3 (from spacy)\n",
      "  Downloading srsly-2.5.1-cp310-cp310-manylinux_2_17_x86_64.manylinux2014_x86_64.whl.metadata (19 kB)\n",
      "Collecting catalogue<2.1.0,>=2.0.6 (from spacy)\n",
      "  Downloading catalogue-2.0.10-py3-none-any.whl.metadata (14 kB)\n",
      "Collecting weasel<0.5.0,>=0.1.0 (from spacy)\n",
      "  Downloading weasel-0.4.1-py3-none-any.whl.metadata (4.6 kB)\n",
      "Requirement already satisfied: typer<1.0.0,>=0.3.0 in /home/luhj/miniconda3/envs/test/lib/python3.10/site-packages (from spacy) (0.15.1)\n",
      "Requirement already satisfied: tqdm<5.0.0,>=4.38.0 in /home/luhj/miniconda3/envs/test/lib/python3.10/site-packages (from spacy) (4.67.1)\n",
      "Requirement already satisfied: numpy>=1.19.0 in /home/luhj/miniconda3/envs/test/lib/python3.10/site-packages (from spacy) (2.2.0)\n",
      "Requirement already satisfied: requests<3.0.0,>=2.13.0 in /home/luhj/miniconda3/envs/test/lib/python3.10/site-packages (from spacy) (2.32.3)\n",
      "Requirement already satisfied: pydantic!=1.8,!=1.8.1,<3.0.0,>=1.7.4 in /home/luhj/miniconda3/envs/test/lib/python3.10/site-packages (from spacy) (2.10.3)\n",
      "Collecting jinja2 (from spacy)\n",
      "  Downloading jinja2-3.1.5-py3-none-any.whl.metadata (2.6 kB)\n",
      "Requirement already satisfied: setuptools in /home/luhj/miniconda3/envs/test/lib/python3.10/site-packages (from spacy) (75.1.0)\n",
      "Requirement already satisfied: packaging>=20.0 in /home/luhj/miniconda3/envs/test/lib/python3.10/site-packages (from spacy) (24.2)\n",
      "Collecting langcodes<4.0.0,>=3.2.0 (from spacy)\n",
      "  Downloading langcodes-3.5.0-py3-none-any.whl.metadata (29 kB)\n",
      "Collecting language-data>=1.2 (from langcodes<4.0.0,>=3.2.0->spacy)\n",
      "  Downloading language_data-1.3.0-py3-none-any.whl.metadata (4.3 kB)\n",
      "Requirement already satisfied: annotated-types>=0.6.0 in /home/luhj/miniconda3/envs/test/lib/python3.10/site-packages (from pydantic!=1.8,!=1.8.1,<3.0.0,>=1.7.4->spacy) (0.7.0)\n",
      "Requirement already satisfied: pydantic-core==2.27.1 in /home/luhj/miniconda3/envs/test/lib/python3.10/site-packages (from pydantic!=1.8,!=1.8.1,<3.0.0,>=1.7.4->spacy) (2.27.1)\n",
      "Requirement already satisfied: typing-extensions>=4.12.2 in /home/luhj/miniconda3/envs/test/lib/python3.10/site-packages (from pydantic!=1.8,!=1.8.1,<3.0.0,>=1.7.4->spacy) (4.12.2)\n",
      "Requirement already satisfied: charset-normalizer<4,>=2 in /home/luhj/miniconda3/envs/test/lib/python3.10/site-packages (from requests<3.0.0,>=2.13.0->spacy) (3.4.0)\n",
      "Requirement already satisfied: idna<4,>=2.5 in /home/luhj/miniconda3/envs/test/lib/python3.10/site-packages (from requests<3.0.0,>=2.13.0->spacy) (3.10)\n",
      "Requirement already satisfied: urllib3<3,>=1.21.1 in /home/luhj/miniconda3/envs/test/lib/python3.10/site-packages (from requests<3.0.0,>=2.13.0->spacy) (2.2.3)\n",
      "Requirement already satisfied: certifi>=2017.4.17 in /home/luhj/miniconda3/envs/test/lib/python3.10/site-packages (from requests<3.0.0,>=2.13.0->spacy) (2024.8.30)\n",
      "Collecting blis<1.3.0,>=1.2.0 (from thinc<8.4.0,>=8.3.4->spacy)\n",
      "  Downloading blis-1.2.0-cp310-cp310-manylinux_2_17_x86_64.manylinux2014_x86_64.whl.metadata (7.7 kB)\n",
      "Collecting confection<1.0.0,>=0.0.1 (from thinc<8.4.0,>=8.3.4->spacy)\n",
      "  Downloading confection-0.1.5-py3-none-any.whl.metadata (19 kB)\n",
      "Requirement already satisfied: click>=8.0.0 in /home/luhj/miniconda3/envs/test/lib/python3.10/site-packages (from typer<1.0.0,>=0.3.0->spacy) (8.1.7)\n",
      "Requirement already satisfied: shellingham>=1.3.0 in /home/luhj/miniconda3/envs/test/lib/python3.10/site-packages (from typer<1.0.0,>=0.3.0->spacy) (1.5.4)\n",
      "Requirement already satisfied: rich>=10.11.0 in /home/luhj/miniconda3/envs/test/lib/python3.10/site-packages (from typer<1.0.0,>=0.3.0->spacy) (13.9.4)\n",
      "Collecting cloudpathlib<1.0.0,>=0.7.0 (from weasel<0.5.0,>=0.1.0->spacy)\n",
      "  Downloading cloudpathlib-0.20.0-py3-none-any.whl.metadata (14 kB)\n",
      "Collecting smart-open<8.0.0,>=5.2.1 (from weasel<0.5.0,>=0.1.0->spacy)\n",
      "  Downloading smart_open-7.1.0-py3-none-any.whl.metadata (24 kB)\n",
      "Collecting MarkupSafe>=2.0 (from jinja2->spacy)\n",
      "  Downloading MarkupSafe-3.0.2-cp310-cp310-manylinux_2_17_x86_64.manylinux2014_x86_64.whl.metadata (4.0 kB)\n",
      "Collecting marisa-trie>=1.1.0 (from language-data>=1.2->langcodes<4.0.0,>=3.2.0->spacy)\n",
      "  Downloading marisa_trie-1.2.1-cp310-cp310-manylinux_2_17_x86_64.manylinux2014_x86_64.whl.metadata (9.0 kB)\n",
      "Requirement already satisfied: markdown-it-py>=2.2.0 in /home/luhj/miniconda3/envs/test/lib/python3.10/site-packages (from rich>=10.11.0->typer<1.0.0,>=0.3.0->spacy) (3.0.0)\n",
      "Requirement already satisfied: pygments<3.0.0,>=2.13.0 in /home/luhj/miniconda3/envs/test/lib/python3.10/site-packages (from rich>=10.11.0->typer<1.0.0,>=0.3.0->spacy) (2.18.0)\n",
      "Requirement already satisfied: wrapt in /home/luhj/miniconda3/envs/test/lib/python3.10/site-packages (from smart-open<8.0.0,>=5.2.1->weasel<0.5.0,>=0.1.0->spacy) (1.17.0)\n",
      "Requirement already satisfied: mdurl~=0.1 in /home/luhj/miniconda3/envs/test/lib/python3.10/site-packages (from markdown-it-py>=2.2.0->rich>=10.11.0->typer<1.0.0,>=0.3.0->spacy) (0.1.2)\n",
      "Downloading spacy-3.8.4-cp310-cp310-manylinux_2_17_x86_64.manylinux2014_x86_64.whl (29.2 MB)\n",
      "\u001b[2K   \u001b[90m━━━━━━━━━━━━━━━━━━━━━━━━━━━━━━━━━━━━━━━━\u001b[0m \u001b[32m29.2/29.2 MB\u001b[0m \u001b[31m66.0 MB/s\u001b[0m eta \u001b[36m0:00:00\u001b[0ma \u001b[36m0:00:01\u001b[0m\n",
      "\u001b[?25hDownloading catalogue-2.0.10-py3-none-any.whl (17 kB)\n",
      "Downloading cymem-2.0.11-cp310-cp310-manylinux_2_17_x86_64.manylinux2014_x86_64.whl (204 kB)\n",
      "Downloading langcodes-3.5.0-py3-none-any.whl (182 kB)\n",
      "Downloading murmurhash-1.0.12-cp310-cp310-manylinux_2_5_x86_64.manylinux1_x86_64.manylinux_2_17_x86_64.manylinux2014_x86_64.whl (124 kB)\n",
      "Downloading preshed-3.0.9-cp310-cp310-manylinux_2_5_x86_64.manylinux1_x86_64.manylinux_2_17_x86_64.manylinux2014_x86_64.whl (156 kB)\n",
      "Downloading spacy_legacy-3.0.12-py2.py3-none-any.whl (29 kB)\n",
      "Downloading spacy_loggers-1.0.5-py3-none-any.whl (22 kB)\n",
      "Downloading srsly-2.5.1-cp310-cp310-manylinux_2_17_x86_64.manylinux2014_x86_64.whl (1.1 MB)\n",
      "\u001b[2K   \u001b[90m━━━━━━━━━━━━━━━━━━━━━━━━━━━━━━━━━━━━━━━━\u001b[0m \u001b[32m1.1/1.1 MB\u001b[0m \u001b[31m27.8 MB/s\u001b[0m eta \u001b[36m0:00:00\u001b[0m\n",
      "\u001b[?25hDownloading thinc-8.3.4-cp310-cp310-manylinux_2_17_x86_64.manylinux2014_x86_64.whl (3.7 MB)\n",
      "\u001b[2K   \u001b[90m━━━━━━━━━━━━━━━━━━━━━━━━━━━━━━━━━━━━━━━━\u001b[0m \u001b[32m3.7/3.7 MB\u001b[0m \u001b[31m52.4 MB/s\u001b[0m eta \u001b[36m0:00:00\u001b[0m\n",
      "\u001b[?25hDownloading wasabi-1.1.3-py3-none-any.whl (27 kB)\n",
      "Downloading weasel-0.4.1-py3-none-any.whl (50 kB)\n",
      "Downloading jinja2-3.1.5-py3-none-any.whl (134 kB)\n",
      "Downloading blis-1.2.0-cp310-cp310-manylinux_2_17_x86_64.manylinux2014_x86_64.whl (11.5 MB)\n",
      "\u001b[2K   \u001b[90m━━━━━━━━━━━━━━━━━━━━━━━━━━━━━━━━━━━━━━━━\u001b[0m \u001b[32m11.5/11.5 MB\u001b[0m \u001b[31m50.3 MB/s\u001b[0m eta \u001b[36m0:00:00\u001b[0ma \u001b[36m0:00:01\u001b[0m\n",
      "\u001b[?25hDownloading cloudpathlib-0.20.0-py3-none-any.whl (52 kB)\n",
      "Downloading confection-0.1.5-py3-none-any.whl (35 kB)\n",
      "Downloading language_data-1.3.0-py3-none-any.whl (5.4 MB)\n",
      "\u001b[2K   \u001b[90m━━━━━━━━━━━━━━━━━━━━━━━━━━━━━━━━━━━━━━━━\u001b[0m \u001b[32m5.4/5.4 MB\u001b[0m \u001b[31m53.4 MB/s\u001b[0m eta \u001b[36m0:00:00\u001b[0m\n",
      "\u001b[?25hDownloading MarkupSafe-3.0.2-cp310-cp310-manylinux_2_17_x86_64.manylinux2014_x86_64.whl (20 kB)\n",
      "Downloading smart_open-7.1.0-py3-none-any.whl (61 kB)\n",
      "Downloading marisa_trie-1.2.1-cp310-cp310-manylinux_2_17_x86_64.manylinux2014_x86_64.whl (1.3 MB)\n",
      "\u001b[2K   \u001b[90m━━━━━━━━━━━━━━━━━━━━━━━━━━━━━━━━━━━━━━━━\u001b[0m \u001b[32m1.3/1.3 MB\u001b[0m \u001b[31m38.8 MB/s\u001b[0m eta \u001b[36m0:00:00\u001b[0m\n",
      "\u001b[?25h\u001b[31mERROR: Error while checking for conflicts. Please file an issue on pip's issue tracker: https://github.com/pypa/pip/issues/new\n",
      "Traceback (most recent call last):\n",
      "  File \"/home/luhj/miniconda3/envs/test/lib/python3.10/site-packages/pip/_vendor/pkg_resources/__init__.py\", line 3367, in _dep_map\n",
      "    return self.__dep_map\n",
      "  File \"/home/luhj/miniconda3/envs/test/lib/python3.10/site-packages/pip/_vendor/pkg_resources/__init__.py\", line 3147, in __getattr__\n",
      "    raise AttributeError(attr)\n",
      "AttributeError: _DistInfoDistribution__dep_map\n",
      "\n",
      "During handling of the above exception, another exception occurred:\n",
      "\n",
      "Traceback (most recent call last):\n",
      "  File \"/home/luhj/miniconda3/envs/test/lib/python3.10/site-packages/pip/_internal/commands/install.py\", line 584, in _determine_conflicts\n",
      "    return check_install_conflicts(to_install)\n",
      "  File \"/home/luhj/miniconda3/envs/test/lib/python3.10/site-packages/pip/_internal/operations/check.py\", line 119, in check_install_conflicts\n",
      "    would_be_installed = _simulate_installation_of(to_install, package_set)\n",
      "  File \"/home/luhj/miniconda3/envs/test/lib/python3.10/site-packages/pip/_internal/operations/check.py\", line 160, in _simulate_installation_of\n",
      "    package_set[name] = PackageDetails(dist.version, list(dist.iter_dependencies()))\n",
      "  File \"/home/luhj/miniconda3/envs/test/lib/python3.10/site-packages/pip/_internal/metadata/pkg_resources.py\", line 247, in iter_dependencies\n",
      "    return self._dist.requires(extras)\n",
      "  File \"/home/luhj/miniconda3/envs/test/lib/python3.10/site-packages/pip/_vendor/pkg_resources/__init__.py\", line 3070, in requires\n",
      "    dm = self._dep_map\n",
      "  File \"/home/luhj/miniconda3/envs/test/lib/python3.10/site-packages/pip/_vendor/pkg_resources/__init__.py\", line 3369, in _dep_map\n",
      "    self.__dep_map = self._compute_dependencies()\n",
      "  File \"/home/luhj/miniconda3/envs/test/lib/python3.10/site-packages/pip/_vendor/pkg_resources/__init__.py\", line 3391, in _compute_dependencies\n",
      "    self.__dep_map[s_extra] = [\n",
      "  File \"/home/luhj/miniconda3/envs/test/lib/python3.10/site-packages/pip/_vendor/pkg_resources/__init__.py\", line 3391, in <listcomp>\n",
      "    self.__dep_map[s_extra] = [\n",
      "  File \"/home/luhj/miniconda3/envs/test/lib/python3.10/site-packages/pip/_vendor/pkg_resources/__init__.py\", line 3383, in reqs_for_extra\n",
      "    if not req.marker or req.marker.evaluate({'extra': extra}):\n",
      "  File \"/home/luhj/miniconda3/envs/test/lib/python3.10/site-packages/pip/_vendor/packaging/markers.py\", line 325, in evaluate\n",
      "    return _evaluate_markers(self._markers, current_environment)\n",
      "  File \"/home/luhj/miniconda3/envs/test/lib/python3.10/site-packages/pip/_vendor/packaging/markers.py\", line 224, in _evaluate_markers\n",
      "    lhs_value, rhs_value = _normalize(lhs_value, rhs_value, key=environment_key)\n",
      "TypeError: cannot unpack non-iterable bool object\u001b[0m\u001b[31m\n",
      "\u001b[0mInstalling collected packages: cymem, wasabi, spacy-loggers, spacy-legacy, smart-open, murmurhash, MarkupSafe, marisa-trie, cloudpathlib, catalogue, blis, srsly, preshed, language-data, jinja2, langcodes, confection, weasel, thinc, spacy\n",
      "Successfully installed MarkupSafe-3.0.2 blis-1.2.0 catalogue-2.0.10 cloudpathlib-0.20.0 confection-0.1.5 cymem-2.0.11 jinja2-3.1.5 langcodes-3.5.0 language-data-1.3.0 marisa-trie-1.2.1 murmurhash-1.0.12 preshed-3.0.9 smart-open-7.1.0 spacy-3.8.4 spacy-legacy-3.0.12 spacy-loggers-1.0.5 srsly-2.5.1 thinc-8.3.4 wasabi-1.1.3 weasel-0.4.1\n"
     ]
    }
   ],
   "source": [
    "! pip install spacy"
   ]
  },
  {
   "cell_type": "code",
   "execution_count": 32,
   "id": "e21183c6",
   "metadata": {},
   "outputs": [
    {
     "data": {
      "application/vnd.jupyter.widget-view+json": {
       "model_id": "72509ebeb5a048feb2fd5b3cbea4e2a0",
       "version_major": 2,
       "version_minor": 0
      },
      "text/plain": [
       "Parsing nodes:   0%|          | 0/1 [00:00<?, ?it/s]"
      ]
     },
     "metadata": {},
     "output_type": "display_data"
    }
   ],
   "source": [
    "# generate questions against chunks\n",
    "from llama_index.core.llama_dataset.generator import RagDatasetGenerator\n",
    "\n",
    "# instantiate a DatasetGenerator\n",
    "dataset_generator = RagDatasetGenerator.from_documents(\n",
    "    documents,\n",
    "    num_questions_per_chunk=2,  # set the number of questions per nodes\n",
    "    show_progress=True,\n",
    ")"
   ]
  },
  {
   "cell_type": "code",
   "execution_count": 25,
   "id": "59c5ea46",
   "metadata": {},
   "outputs": [
    {
     "name": "stderr",
     "output_type": "stream",
     "text": [
      "  0%|          | 0/14 [00:00<?, ?it/s]"
     ]
    },
    {
     "name": "stderr",
     "output_type": "stream",
     "text": [
      "  7%|▋         | 1/14 [00:14<03:10, 14.65s/it]"
     ]
    },
    {
     "ename": "KeyboardInterrupt",
     "evalue": "",
     "output_type": "error",
     "traceback": [
      "\u001b[0;31m---------------------------------------------------------------------------\u001b[0m",
      "\u001b[0;31mKeyboardInterrupt\u001b[0m                         Traceback (most recent call last)",
      "Cell \u001b[0;32mIn[25], line 1\u001b[0m\n\u001b[0;32m----> 1\u001b[0m rag_dataset \u001b[38;5;241m=\u001b[39m \u001b[43mdataset_generator\u001b[49m\u001b[38;5;241;43m.\u001b[39;49m\u001b[43mgenerate_dataset_from_nodes\u001b[49m\u001b[43m(\u001b[49m\u001b[43m)\u001b[49m\n",
      "File \u001b[0;32m~/miniconda3/envs/test/lib/python3.10/site-packages/llama_index/core/llama_dataset/generator.py:243\u001b[0m, in \u001b[0;36mRagDatasetGenerator.generate_dataset_from_nodes\u001b[0;34m(self)\u001b[0m\n\u001b[1;32m    241\u001b[0m \u001b[38;5;28;01mdef\u001b[39;00m \u001b[38;5;21mgenerate_dataset_from_nodes\u001b[39m(\u001b[38;5;28mself\u001b[39m) \u001b[38;5;241m-\u001b[39m\u001b[38;5;241m>\u001b[39m LabelledRagDataset:\n\u001b[1;32m    242\u001b[0m \u001b[38;5;250m    \u001b[39m\u001b[38;5;124;03m\"\"\"Generates questions for each document.\"\"\"\u001b[39;00m\n\u001b[0;32m--> 243\u001b[0m     \u001b[38;5;28;01mreturn\u001b[39;00m \u001b[43masyncio_run\u001b[49m\u001b[43m(\u001b[49m\u001b[38;5;28;43mself\u001b[39;49m\u001b[38;5;241;43m.\u001b[39;49m\u001b[43magenerate_dataset_from_nodes\u001b[49m\u001b[43m(\u001b[49m\u001b[43m)\u001b[49m\u001b[43m)\u001b[49m\n",
      "File \u001b[0;32m~/miniconda3/envs/test/lib/python3.10/site-packages/llama_index/core/async_utils.py:33\u001b[0m, in \u001b[0;36masyncio_run\u001b[0;34m(coro)\u001b[0m\n\u001b[1;32m     30\u001b[0m     loop \u001b[38;5;241m=\u001b[39m asyncio\u001b[38;5;241m.\u001b[39mget_event_loop()\n\u001b[1;32m     32\u001b[0m     \u001b[38;5;66;03m# If we're here, there's an existing loop but it's not running\u001b[39;00m\n\u001b[0;32m---> 33\u001b[0m     \u001b[38;5;28;01mreturn\u001b[39;00m \u001b[43mloop\u001b[49m\u001b[38;5;241;43m.\u001b[39;49m\u001b[43mrun_until_complete\u001b[49m\u001b[43m(\u001b[49m\u001b[43mcoro\u001b[49m\u001b[43m)\u001b[49m\n\u001b[1;32m     35\u001b[0m \u001b[38;5;28;01mexcept\u001b[39;00m \u001b[38;5;167;01mRuntimeError\u001b[39;00m \u001b[38;5;28;01mas\u001b[39;00m e:\n\u001b[1;32m     36\u001b[0m     \u001b[38;5;66;03m# If we can't get the event loop, we're likely in a different thread, or its already running\u001b[39;00m\n\u001b[1;32m     37\u001b[0m     \u001b[38;5;28;01mtry\u001b[39;00m:\n",
      "File \u001b[0;32m~/miniconda3/envs/test/lib/python3.10/site-packages/nest_asyncio.py:92\u001b[0m, in \u001b[0;36m_patch_loop.<locals>.run_until_complete\u001b[0;34m(self, future)\u001b[0m\n\u001b[1;32m     90\u001b[0m     f\u001b[38;5;241m.\u001b[39m_log_destroy_pending \u001b[38;5;241m=\u001b[39m \u001b[38;5;28;01mFalse\u001b[39;00m\n\u001b[1;32m     91\u001b[0m \u001b[38;5;28;01mwhile\u001b[39;00m \u001b[38;5;129;01mnot\u001b[39;00m f\u001b[38;5;241m.\u001b[39mdone():\n\u001b[0;32m---> 92\u001b[0m     \u001b[38;5;28;43mself\u001b[39;49m\u001b[38;5;241;43m.\u001b[39;49m\u001b[43m_run_once\u001b[49m\u001b[43m(\u001b[49m\u001b[43m)\u001b[49m\n\u001b[1;32m     93\u001b[0m     \u001b[38;5;28;01mif\u001b[39;00m \u001b[38;5;28mself\u001b[39m\u001b[38;5;241m.\u001b[39m_stopping:\n\u001b[1;32m     94\u001b[0m         \u001b[38;5;28;01mbreak\u001b[39;00m\n",
      "File \u001b[0;32m~/miniconda3/envs/test/lib/python3.10/site-packages/nest_asyncio.py:115\u001b[0m, in \u001b[0;36m_patch_loop.<locals>._run_once\u001b[0;34m(self)\u001b[0m\n\u001b[1;32m    108\u001b[0m     heappop(scheduled)\n\u001b[1;32m    110\u001b[0m timeout \u001b[38;5;241m=\u001b[39m (\n\u001b[1;32m    111\u001b[0m     \u001b[38;5;241m0\u001b[39m \u001b[38;5;28;01mif\u001b[39;00m ready \u001b[38;5;129;01mor\u001b[39;00m \u001b[38;5;28mself\u001b[39m\u001b[38;5;241m.\u001b[39m_stopping\n\u001b[1;32m    112\u001b[0m     \u001b[38;5;28;01melse\u001b[39;00m \u001b[38;5;28mmin\u001b[39m(\u001b[38;5;28mmax\u001b[39m(\n\u001b[1;32m    113\u001b[0m         scheduled[\u001b[38;5;241m0\u001b[39m]\u001b[38;5;241m.\u001b[39m_when \u001b[38;5;241m-\u001b[39m \u001b[38;5;28mself\u001b[39m\u001b[38;5;241m.\u001b[39mtime(), \u001b[38;5;241m0\u001b[39m), \u001b[38;5;241m86400\u001b[39m) \u001b[38;5;28;01mif\u001b[39;00m scheduled\n\u001b[1;32m    114\u001b[0m     \u001b[38;5;28;01melse\u001b[39;00m \u001b[38;5;28;01mNone\u001b[39;00m)\n\u001b[0;32m--> 115\u001b[0m event_list \u001b[38;5;241m=\u001b[39m \u001b[38;5;28;43mself\u001b[39;49m\u001b[38;5;241;43m.\u001b[39;49m\u001b[43m_selector\u001b[49m\u001b[38;5;241;43m.\u001b[39;49m\u001b[43mselect\u001b[49m\u001b[43m(\u001b[49m\u001b[43mtimeout\u001b[49m\u001b[43m)\u001b[49m\n\u001b[1;32m    116\u001b[0m \u001b[38;5;28mself\u001b[39m\u001b[38;5;241m.\u001b[39m_process_events(event_list)\n\u001b[1;32m    118\u001b[0m end_time \u001b[38;5;241m=\u001b[39m \u001b[38;5;28mself\u001b[39m\u001b[38;5;241m.\u001b[39mtime() \u001b[38;5;241m+\u001b[39m \u001b[38;5;28mself\u001b[39m\u001b[38;5;241m.\u001b[39m_clock_resolution\n",
      "File \u001b[0;32m~/miniconda3/envs/test/lib/python3.10/selectors.py:469\u001b[0m, in \u001b[0;36mEpollSelector.select\u001b[0;34m(self, timeout)\u001b[0m\n\u001b[1;32m    467\u001b[0m ready \u001b[38;5;241m=\u001b[39m []\n\u001b[1;32m    468\u001b[0m \u001b[38;5;28;01mtry\u001b[39;00m:\n\u001b[0;32m--> 469\u001b[0m     fd_event_list \u001b[38;5;241m=\u001b[39m \u001b[38;5;28;43mself\u001b[39;49m\u001b[38;5;241;43m.\u001b[39;49m\u001b[43m_selector\u001b[49m\u001b[38;5;241;43m.\u001b[39;49m\u001b[43mpoll\u001b[49m\u001b[43m(\u001b[49m\u001b[43mtimeout\u001b[49m\u001b[43m,\u001b[49m\u001b[43m \u001b[49m\u001b[43mmax_ev\u001b[49m\u001b[43m)\u001b[49m\n\u001b[1;32m    470\u001b[0m \u001b[38;5;28;01mexcept\u001b[39;00m \u001b[38;5;167;01mInterruptedError\u001b[39;00m:\n\u001b[1;32m    471\u001b[0m     \u001b[38;5;28;01mreturn\u001b[39;00m ready\n",
      "\u001b[0;31mKeyboardInterrupt\u001b[0m: "
     ]
    },
    {
     "name": "stderr",
     "output_type": "stream",
     "text": [
      "100%|██████████| 14/14 [09:21<00:00, 40.13s/it]\n",
      "100%|██████████| 2/2 [00:02<00:00,  1.49s/it]\n",
      "100%|██████████| 2/2 [00:08<00:00,  4.46s/it]\n",
      "100%|██████████| 2/2 [00:13<00:00,  6.54s/it]\n",
      "100%|██████████| 2/2 [00:14<00:00,  7.29s/it]\n",
      "100%|██████████| 2/2 [00:04<00:00,  2.30s/it]\n",
      "100%|██████████| 2/2 [00:02<00:00,  1.40s/it]\n",
      "100%|██████████| 2/2 [00:04<00:00,  2.38s/it]\n",
      "100%|██████████| 2/2 [00:10<00:00,  5.05s/it]\n",
      "100%|██████████| 2/2 [00:03<00:00,  1.56s/it]\n",
      "100%|██████████| 2/2 [00:10<00:00,  5.41s/it]\n",
      "100%|██████████| 2/2 [00:14<00:00,  7.28s/it]\n",
      "100%|██████████| 2/2 [00:13<00:00,  6.86s/it]\n",
      "100%|██████████| 2/2 [00:06<00:00,  3.19s/it]\n",
      "100%|██████████| 2/2 [00:05<00:00,  2.64s/it]\n"
     ]
    }
   ],
   "source": [
    "rag_dataset = dataset_generator.generate_dataset_from_nodes()"
   ]
  },
  {
   "cell_type": "code",
   "execution_count": 34,
   "id": "edc75ccf",
   "metadata": {},
   "outputs": [
    {
     "name": "stderr",
     "output_type": "stream",
     "text": [
      "100%|██████████| 34/34 [06:54<00:00, 12.21s/it]\n"
     ]
    }
   ],
   "source": [
    "from llama_index.core.evaluation import generate_question_context_pairs\n",
    "qa_dataset = generate_question_context_pairs(\n",
    "    hybrid_nodes,\n",
    "    num_questions_per_chunk=2\n",
    ")"
   ]
  },
  {
   "cell_type": "code",
   "execution_count": 61,
   "id": "1fd938ed",
   "metadata": {},
   "outputs": [
    {
     "data": {
      "text/plain": [
       "EmbeddingQAFinetuneDataset(queries={'0345c869-de41-45c2-9ad4-36beb1af539c': 'Here are two questions based on the context information:', '6bdfeb7e-a5b0-435b-9366-9cd831ae7774': '**Question 1: Multiple Choice**', '0415aba5-5226-4a8c-a1d9-e15cfc113232': 'Here are two questions based on the context information:', 'df946f7e-274f-48a5-bf76-2ce3bbb7cdbf': '**Question 1: Multiple Choice**', '9cae2a17-2706-448e-99c0-b2510506fb83': 'Here are two questions for the quiz/examination:', 'b66a6d38-db95-4a0f-91d2-7b062f2e9d99': '**Question 1: Multiple Choice**', 'ea3604eb-202f-433a-b172-4e227d97322a': 'Here are two questions based on the context information:', 'a0c707b2-d0e4-47f8-80cb-19ebd880e380': '**Question 1: Multiple Choice**', 'e80c770a-2fe0-42d3-a15c-3993e7063d6e': 'Here are two questions based on the context information:', '99df4846-2802-45f1-98a9-903b4f64ea58': '**Question 1: Factual Recall**', 'cd06c2fd-bf12-4f01-bfd5-c23a118f2eec': 'Here are two questions based on the context information:', 'ebe26f34-d8c7-4d4b-b1cb-c948a7be34af': '**Question 1: Multiple Choice**', 'cc96f13e-79b6-4179-b132-0ad4cbe33eef': 'Here are two questions based on the context information:', '215bcae6-d47b-4cae-b3ce-2fa8f9783610': '**Question 1: Multiple Choice**', 'ef29fa03-6c31-44d2-baa6-5f2b97b6c9f4': 'Here are two questions based on the context information:', 'ab6715f7-54d3-46c6-a299-bce43421ee4b': '**Question 1: Multiple Choice**', '6d51ac56-8794-433a-bddd-8e91dd713202': 'Here are two questions based on the context information:', '6c7b9e65-2368-48c6-ab6e-2cedc2775f56': '**Question 1: Historical Event**', '9fb0e782-8cb4-4095-99e5-4d0838e5b4e8': 'Here are two questions for the quiz/examination:', '40bbd89b-99f7-4339-ae55-5d5418997bd6': '**Question 1: Historical Event**', '6b3809d2-bd90-408b-8639-2ba15b7ccb7a': 'Here are two questions based on the context information:', 'ead579d3-27d3-48ac-9eaf-4a8940d69048': '**Question 1: Multiple Choice**', '89f00bf3-236f-4f0c-9d96-bfc0e1804f8b': 'Here are two questions for the quiz/examination:', 'd8883a37-0676-465a-ab8c-9143e5e231e5': '**Question 1: Multiple Choice**', '2796cab7-05c9-4cc0-a921-1f7b8e4c7bfb': 'Here are two questions for the quiz/examination:', '77ed89ff-c075-4be3-9ac7-7437b0fe76ff': '**Question 1:**', '76b24e4d-5a27-4364-ba17-ed293ffcadde': 'Here are two questions based on the context information:', 'f559b6c5-398a-4114-a763-5b579a57d317': '**Question 1: Factual Recall**', '3adb162f-d685-4cae-9852-c4c1073261f5': 'Here are two questions based on the context information:', '545d9b99-f412-4f3a-957c-3a131fb6e3b6': '**Question 1:**', 'bace3750-5670-4109-ad7d-990815f4a500': 'Here are two questions for the quiz/examination:', '1908e2e0-74db-45b3-aea0-d012d2ec4d10': '**Question 1:**', '7b503134-96c0-4b3c-8446-10b651a12b0c': 'Here are two questions based on the given context:', 'a7f8d89b-7c77-492a-b00a-d1eb1c5f31d4': '**Question 1: Multiple Choice**', 'b4a24dbe-9834-4142-982a-d230f641c4cf': 'Here are two questions based on the context information:', 'c2377346-47bd-4a3c-93eb-3ca1ac65c018': '**Question 1: Multiple Choice**', '743c9432-ce7b-4ad3-a4c9-1992fae023e7': 'Here are two questions based on the context information:', '1a42a1f2-0530-41fd-a732-efe524bd7a31': '**Question 1: Multiple Choice**', 'f356ae21-a622-48d8-9002-696af3163bd1': 'Here are two questions based on the context information:', 'd923d027-9a44-421b-91cf-f83ebe5ffb88': '**Question 1: Multiple Choice**', '806c9bdc-c8dc-41b9-bf2d-649bf03a2dff': 'Here are two questions for the quiz/examination:', 'c3f1b0c9-433e-4410-9bce-d345b1bc481b': '**Question 1: Multiple Choice**', 'e43fa6a0-a10b-48e3-857b-f77a2d91c731': 'Here are two questions based on the context information:', 'b2d2fa8a-1ad3-418a-9258-9688ae7ed5a1': '**Question 1: Multiple Choice**', 'dc528404-5304-4ea1-9a09-2675cde13634': 'Here are two questions based on the context information:', '691d5335-5541-4f65-9f5c-bb0b43f21872': '**Question 1: Multiple Choice**', 'f151b353-2c17-40bc-8d83-1cb77f1852f0': 'Here are two questions based on the context information:', '6c9a8cae-aeea-45cc-bef7-60be58c03706': '**Question 1: Multiple Choice**', '74098c73-1953-46c0-9d4c-382d1cc2d528': 'Here are two questions based on the context information:', '2b70c56d-939c-467f-a853-b9f01b31fbeb': '**Question 1: Multiple Choice**', '406a70c1-34bd-4e02-90dd-604efb63df7c': 'Here are two questions for the quiz/examination:', '5865e96c-fe7c-4a9b-8606-06fe58945444': '**Question 1: Multiple Choice**', '70e398f4-9a9e-49bb-92b5-1d7ef3302634': 'Here are two questions based on the provided context:', '1f049742-1d89-4c66-b7aa-9ed31661e0f5': '**Question 1**', '386c9697-e7e6-42cf-8018-1aefa8543de6': 'Here are two questions based on the given context:', 'cce666de-a232-46f5-83a8-221ba0ce1233': '**Question 1: Multiple Choice**', 'ecab2b16-b9ff-4da0-8b55-3156093c4497': 'Here are two questions based on the context information:', '7d7c5b73-b61a-40ef-906f-443eee76c653': '**Question 1: Multiple Choice**', '15fd5d4f-500e-488e-9daf-ec25d8f2a8f6': 'Here are two questions for the quiz/examination:', 'dd6bf6e7-0e50-469f-8151-4fe9e06f0747': '**Question 1: Multiple Choice**', 'c7b1593e-b508-4f7b-893c-422c3a4b21d4': 'Here are two questions for the quiz/examination:', 'b6539c98-75a9-4d60-a0a4-45c0cb4686b6': '**Question 1**', '3e12f385-ea4e-4779-9bdb-8cceed79c506': 'Here are two questions for the quiz/examination:', '842a10aa-a348-451c-99ce-86cd38fcb9b4': '**Question 1**', 'fc4b41b8-647f-438e-b0ed-d069219120d0': 'Here are two questions for the quiz/examination:', 'cfb0b83e-889d-4ffa-8dc7-76ea175924d4': '**Question 1: Historical Context**', '3b211d4d-3e56-4cce-9b8d-15048098dd5a': 'Here are two questions for the quiz/examination:', 'a4cf07b7-5550-49b3-98d1-983cbad5edec': '**Question 1: Multiple Choice**'}, corpus={'01d8db10-0870-4f55-8b4c-9a1687971363': \"The history of the city of San Francisco, California, and its development as a center of maritime trade, were shaped by its location at the entrance to a large natural harbor. San Francisco is the name of both the city and the county; the two share the same boundaries. Only lightly settled by European-Americans at first, after becoming the base for the gold rush of 1849 the city quickly became the largest and most important population, commercial, naval, and financial center in the American West. San Francisco was devastated by a great earthquake and fire in 1906 but was quickly rebuilt. The San Francisco Federal Reserve Branch opened in 1914, and the city continued to develop as a major business city throughout the first half of the 20th century. Starting in the later half of the 1960s, San Francisco became the city most famous for the hippie movement. In recent decades, San Francisco has become an important center of finance and technology. The high demand for housing, driven by its proximity to Silicon Valley, and the limited availability has led to the city being one of America's most expensive places to live. San Francisco is currently ranked 16th on the Global Financial Centres Index.\", '9423e842-ec33-40c6-93c1-1f6ae2a75e42': \"== Early history ==\\nThe earliest evidence of human habitation in what is now the city of San Francisco dates to 3000 BC. Native Americans who settled in this region found the bay to be a resource for hunting and gathering, leading to the establishment of many small villages. Collectively, these early Native Americans are now known as the Ohlone, and the language they spoke belonged to the Miwok family. Their trade patterns included places as far away as Baja California, the Mojave Desert and Yosemite.\\nThe earliest Europeans to reach the site of San Francisco were a Spanish exploratory party in 1769, led overland from Mexico by Don Gaspar de Portolá and Fra. Joan Crespí. The Spanish recognized the location, with its large natural harbor, to be of great strategic significance. A subsequent expedition, led by Juan Bautista de Anza, selected sites for military and religious settlements in 1774. The Presidio of San Francisco was established for the military, while Mission San Francisco de Asís began the cultural and religious conversion of some 10,000 Ohlone who lived in the area. The mission became known as Mission Dolores, because of its nearness to a creek named after Our Lady of Sorrows.\\nThe first anchorage was established at a small inlet on the north-east end of the peninsula (later filled: now lower Market Street), and the small settlement that grew up nearby was named Yerba Buena, after the herb of the same name that grew in abundance there. The original plaza of the Spanish settlement remains as Portsmouth Square. Today's city took its name from the mission, and Yerba Buena became the name of a San Francisco neighborhood now known as South of Market. The Moscone Center and Yerba Buena Gardens are in the Yerba Buena area. In addition, the name Yerba Buena was applied to the former Goat Island in the middle of San Francisco Bay, adjacent to Treasure Island.\\nSan Francisco became part of the United States with the signing of the Treaty of Guadalupe Hidalgo in 1848.\", '7005c008-87dc-4a36-badf-c0acb11e8fe9': '== Precolonial history ==\\nEuropean visitors to the San Francisco Bay Area were preceded at least 8,000 years earlier by Native Americans. According to one anthropologist, the indigenous name for San Francisco was Ahwaste, meaning, \"place at the bay\". Linguistic and paleontological evidence is unclear as to whether the earliest inhabitants of the area now known as San Francisco were the ancestors of the Ohlone population encountered by the Spanish in the late 18th century. The cultural unit, Ohlone, to which the San Francisco natives belonged did not recognize the city or county boundaries imposed later by Americans, and were part of a contiguous set of bands that lived from south of the Golden Gate to San José.\\nWhen the Spanish arrived, they found the area inhabited by the Yelamu tribe, which belongs to a linguistic grouping later called the Ohlone. The Ohlone speakers are distinct from Pomo speakers north of the San Francisco Bay, and are part of the Miwok group of languages. Their traditional territory stretched from Big Sur to the San Francisco Bay, although their trading area was much larger. Miwok-speaking Indians also lived in Yosemite, and Ohlone-speakers intermarried with Chumash and Pomo speakers as well.\\nThe Spanish conquest of the San Francisco Bay area came later than to Southern California. San Francisco\\'s characteristic foggy weather and geography led early European explorers such as Juan Rodríguez Cabrillo to bypass the Golden Gate and miss entering San Francisco Bay, although it seems clear from historical accounts of navigation that they passed close to the coastline north and south of the Golden Gate.\\n\\n\\n== Arrival of Europeans and early settlement ==\\n\\nThe Portolá expedition, led by Gaspar de Portolá, arrived on November 2, 1769, was the first documented European sighting of San Francisco Bay. Portolá claimed the area for Spain as part of the Viceroyalty of New Spain. \\nA second group of soldiers, this time accompanied by settlers, arrived in June 1776, led by the Spanish explorer Juan Bautista De Anza. One of De Anza\\'s officers, José Joaquín Moraga, was given the task of building a Spanish mission, Mission San Francisco de Asís (Mission Dolores), and a military fort, the Presidio of San Francisco. A supply ship arrived about two months later and the settlers began building using limestone from what was later known as Rockaway Quarry in the Mori Point area.', '1fc1c25c-71de-4722-a482-3e8d3719f9f0': \"== Arrival of Europeans and early settlement ==\\n\\nThe Portolá expedition, led by Gaspar de Portolá, arrived on November 2, 1769, was the first documented European sighting of San Francisco Bay. Portolá claimed the area for Spain as part of the Viceroyalty of New Spain. \\nA second group of soldiers, this time accompanied by settlers, arrived in June 1776, led by the Spanish explorer Juan Bautista De Anza. One of De Anza's officers, José Joaquín Moraga, was given the task of building a Spanish mission, Mission San Francisco de Asís (Mission Dolores), and a military fort, the Presidio of San Francisco. A supply ship arrived about two months later and the settlers began building using limestone from what was later known as Rockaway Quarry in the Mori Point area.\\n\\nIn 1786 French explorer, the Comte de La Pérouse visited San Francisco and left a detailed account of it. Six years later, in 1792 British explorer George Vancouver also stopped in San Francisco, in part, according to his journal, to spy on the Spanish settlements in the area. In addition to Western Europeans, Russian fur-traders also visited the area. From 1770 until about 1841, Russian traders colonized an area that ranged from Alaska south to Fort Ross in Sonoma County, California. The naming of San Francisco's Russian Hill neighborhood is attributed to the remains of Russian fur traders and sailors found there.\\nUpon independence from Spain in 1821, the area became part of Mexico. In 1835, Englishman William Richardson erected the first significant homestead outside the immediate vicinity of the Mission Dolores, near a boat anchorage around what is today Portsmouth Square. Together with Alcalde Francisco de Haro, he laid out a street plan for the expanded settlement, and the town, named Yerba Buena after the herb, which was named by the missionaries that found it abundant nearby, began to attract American settlers. In 1838, Richardson petitioned and received a large land grant in Marin County and, in 1841, he moved there to take up residence at Rancho Sauselito. Richardson Bay to the north bears his name.\", '537d205d-d205-47bd-b775-50c8b8d2b60c': 'The naming of San Francisco\\'s Russian Hill neighborhood is attributed to the remains of Russian fur traders and sailors found there.\\nUpon independence from Spain in 1821, the area became part of Mexico. In 1835, Englishman William Richardson erected the first significant homestead outside the immediate vicinity of the Mission Dolores, near a boat anchorage around what is today Portsmouth Square. Together with Alcalde Francisco de Haro, he laid out a street plan for the expanded settlement, and the town, named Yerba Buena after the herb, which was named by the missionaries that found it abundant nearby, began to attract American settlers. In 1838, Richardson petitioned and received a large land grant in Marin County and, in 1841, he moved there to take up residence at Rancho Sauselito. Richardson Bay to the north bears his name.\\nThe British Empire briefly entertained the idea of purchasing the bay from Mexico in 1841, claiming it would \"Secure to Great Britain all the advantages of the finest port in the Pacific for her commercial speculations in time of peace, and in war for more easily securing her maritime ascendency\". However little came of this, and San Francisco would become a prize of the United States rather than that of British naval power.\\nOn July 31, 1846, Yerba Buena doubled in population when about 240 Mormon pioneers from the East coast arrived on the ship Brooklyn, led by Sam Brannan. Brannan, also a member of Church of Jesus Christ of Latter Day Saints, would later become well known for being the first publicist of the California Gold Rush of 1849 and the first millionaire resulting from it.\\n\\nUS Navy Commodore John D. Sloat claimed California for the United States on July 7, 1846, during the Mexican–American War, and US Navy Captain John Berrien Montgomery and US Marine Second Lieutenant Henry Bulls Watson of the USS Portsmouth arrived to claim Yerba Buena two days later by raising the flag over the town plaza, which is now Portsmouth Square in honor of the ship. Henry Bulls Watson was placed in command of the garrison there. In August 1846, Lt. Washington A. Bartlett was named alcalde of Yerba Buena. On January 30, 1847, Lt. Bartlett\\'s proclamation changing the name Yerba Buena to San Francisco took effect.', 'f7a6e54e-204d-4582-99fb-31e0c59a150a': \"US Navy Commodore John D. Sloat claimed California for the United States on July 7, 1846, during the Mexican–American War, and US Navy Captain John Berrien Montgomery and US Marine Second Lieutenant Henry Bulls Watson of the USS Portsmouth arrived to claim Yerba Buena two days later by raising the flag over the town plaza, which is now Portsmouth Square in honor of the ship. Henry Bulls Watson was placed in command of the garrison there. In August 1846, Lt. Washington A. Bartlett was named alcalde of Yerba Buena. On January 30, 1847, Lt. Bartlett's proclamation changing the name Yerba Buena to San Francisco took effect. The city and the rest of California officially became American in 1848 by the Treaty of Guadalupe Hidalgo, which ended the Mexican–American War. California was admitted to the U.S. as a state on September 9, 1850—the State of California soon chartered San Francisco and San Francisco County. At the time the county and city were not coterminous; the county contained modern-day northern San Mateo County.\\nSituated at the tip of a windswept peninsula without water or firewood, San Francisco lacked most of the basic facilities for a 19th-century settlement. These natural disadvantages forced the town's residents to bring water, fuel and food to the site. The first of many environmental transformations was the city's reliance on filled marshlands for real estate. Much of the present downtown is built over the former Yerba Buena Cove, granted to the city by military governor Stephen Watts Kearny in 1847.\\n\\n\\n== 1848 gold rush ==\\n\\nThe California gold rush starting in 1848 led to a large boom in population, including considerable immigration. Between January 1848 and December 1849, the population of San Francisco increased from 1,000 to 25,000. The rapid growth continued through the 1850s and under the influence of the 1859 Comstock Lode silver discovery. This rapid growth complicated city planning efforts, leaving a legacy of narrow streets that continues to characterize the city to this day.\\nThe population boom included many workers from China who came to work in the gold mines and later on the Transcontinental Railroad.\", '13fa1c47-ac9a-4f0e-819c-b8fe8e3fdc1f': 'The first of many environmental transformations was the city\\'s reliance on filled marshlands for real estate. Much of the present downtown is built over the former Yerba Buena Cove, granted to the city by military governor Stephen Watts Kearny in 1847.\\n\\n\\n== 1848 gold rush ==\\n\\nThe California gold rush starting in 1848 led to a large boom in population, including considerable immigration. Between January 1848 and December 1849, the population of San Francisco increased from 1,000 to 25,000. The rapid growth continued through the 1850s and under the influence of the 1859 Comstock Lode silver discovery. This rapid growth complicated city planning efforts, leaving a legacy of narrow streets that continues to characterize the city to this day.\\nThe population boom included many workers from China who came to work in the gold mines and later on the Transcontinental Railroad. The Chinatown district of the city became and is still one of the largest in the country; today, as a result of that legacy, the city as a whole is roughly one-fifth Chinese, one of the largest concentrations outside of China. Many businesses founded to service the growing population exist today, notably Levi Strauss & Co. clothing, Ghirardelli chocolate, and Wells Fargo bank. Many famous railroad, banking, and mining tycoons or \"robber barons\" such as Charles Crocker, Mark Hopkins, Collis P. Huntington, and Leland Stanford settled in the city in its Nob Hill neighborhood. The sites of their mansions are now famous and expensive San Francisco hotels (Mark Hopkins Hotel and the Huntington Hotel).\\nAs in many mining towns, the social climate in early San Francisco was chaotic. Committees of Vigilance were formed in 1851, and again in 1856, in response to rising crime and government corruption. This popular militia movement arrested, tried, and executed a total of 12 men, arrested hundreds of Irishmen and government militia members, and forced several elected officials to resign. The Committee of Vigilance relinquished power both times after it decided the city had been \"cleaned up.\" Mob activity later focused on Chinese immigrants, creating many race riots. These riots culminated in the creation of the Chinese Exclusion Act in 1882 that aimed to reduce Chinese immigration to the United States by limiting immigration to males and reducing numbers of immigrants allowed in the city.', 'c227ec1c-db9c-4529-9127-67a12037fe23': 'The sites of their mansions are now famous and expensive San Francisco hotels (Mark Hopkins Hotel and the Huntington Hotel).\\nAs in many mining towns, the social climate in early San Francisco was chaotic. Committees of Vigilance were formed in 1851, and again in 1856, in response to rising crime and government corruption. This popular militia movement arrested, tried, and executed a total of 12 men, arrested hundreds of Irishmen and government militia members, and forced several elected officials to resign. The Committee of Vigilance relinquished power both times after it decided the city had been \"cleaned up.\" Mob activity later focused on Chinese immigrants, creating many race riots. These riots culminated in the creation of the Chinese Exclusion Act in 1882 that aimed to reduce Chinese immigration to the United States by limiting immigration to males and reducing numbers of immigrants allowed in the city. The law was not repealed until 1943 with the Magnuson Act.\\nSan Francisco was the county seat of San Francisco County, one of state\\'s 18 original counties since California\\'s statehood in 1850. Until 1856, the city limits extended west to Divisadero Street and Castro Street, and south to 20th Street. In response to the lawlessness and vigilantism that escalated rapidly between 1855 and 1856, the California government decided to divide the county. A straight line was then drawn across the tip of the San Francisco Peninsula just north of San Bruno Mountain. Everything south of the line became San Mateo County while everything north of the line became the new consolidated City and County of San Francisco, to date the only consolidated city-county in California.\\nIn autumn of 1855, a ship bearing refugees from an ongoing cholera epidemic in the Far East (authorities disagree as to whether this was the S.S. Uncle Sam or the S.S. Carolina but primary documents indicate that the Carolina was involved in the epidemic of 1850 and the Uncle Sam in the epidemic of 1855) docked in San Francisco. Since the city\\'s rapid Gold Rush population growth had significantly outstripped the development of infrastructure, including sanitation, a serious cholera epidemic quickly broke out.', '6d2d1f1e-7e13-4742-adfb-a5ce1afd6fa3': \"A straight line was then drawn across the tip of the San Francisco Peninsula just north of San Bruno Mountain. Everything south of the line became San Mateo County while everything north of the line became the new consolidated City and County of San Francisco, to date the only consolidated city-county in California.\\nIn autumn of 1855, a ship bearing refugees from an ongoing cholera epidemic in the Far East (authorities disagree as to whether this was the S.S. Uncle Sam or the S.S. Carolina but primary documents indicate that the Carolina was involved in the epidemic of 1850 and the Uncle Sam in the epidemic of 1855) docked in San Francisco. Since the city's rapid Gold Rush population growth had significantly outstripped the development of infrastructure, including sanitation, a serious cholera epidemic quickly broke out. The responsibility for caring for the indigent sick had previously rested on the state, but faced with the San Francisco cholera epidemic, the state legislature devolved this responsibility to the counties, setting the precedent for California's system of county hospitals for the poor still in effect today. The Sisters of Mercy were contracted to run San Francisco's first county hospital, the State Marine and County Hospital, due to their efficiency in handling the cholera epidemic of 1855. By 1857, the order opened St. Mary's Hospital on Stockton Street, the first Catholic hospital west of the Rocky Mountains. In 1905, The Sisters of Mercy purchased a lot at Fulton and Stanyan Streets, the current location of St. Mary's Medical Center, the oldest continually operating hospital in San Francisco.\\nDue to the Gold Rush, and despite the Vigilantes, and the gradual implementation of law and order in San Francisco, its red-light district at the time became known as the Barbary Coast which became a hotbed of gambling, prostitution and most notoriously for Shanghaiing. It is now overlapped by Chinatown, North Beach, Jackson Square, and the Financial District.\\n\\n\\n== Paris of the West ==\\n\\nIt was during the 1860s to the 1880s when San Francisco began to transform into a major city, starting with massive expansion in all directions, creating new neighborhoods such as the Western Addition, the Haight-Ashbury, Eureka Valley, the Mission District, culminating in the construction of Golden Gate Park in 1887.\", '59e491b5-44f5-44f7-8368-0640c72c417a': \"In 1905, The Sisters of Mercy purchased a lot at Fulton and Stanyan Streets, the current location of St. Mary's Medical Center, the oldest continually operating hospital in San Francisco.\\nDue to the Gold Rush, and despite the Vigilantes, and the gradual implementation of law and order in San Francisco, its red-light district at the time became known as the Barbary Coast which became a hotbed of gambling, prostitution and most notoriously for Shanghaiing. It is now overlapped by Chinatown, North Beach, Jackson Square, and the Financial District.\\n\\n\\n== Paris of the West ==\\n\\nIt was during the 1860s to the 1880s when San Francisco began to transform into a major city, starting with massive expansion in all directions, creating new neighborhoods such as the Western Addition, the Haight-Ashbury, Eureka Valley, the Mission District, culminating in the construction of Golden Gate Park in 1887. In 1864 Hugh H. Toland, a South Carolina surgeon who found great success and wealth after moving to San Francisco, founded the Toland Medical College, which became one of three affiliated colleges, which later developed into the University of California, San Francisco. Initially, the affiliated colleges were located at different sites around San Francisco, but near the end of the 19th century interest in bringing them together grew. To make this possible, San Francisco Mayor Adolph Sutro donated 13 acres in Parnassus Heights at the base of Mount Parnassus (now known as Mount Sutro). The new site, overlooking Golden Gate Park, opened in the fall of 1898, with the construction of the new affiliated colleges buildings.\\nThe city's famous cable cars were built around this time, a unique invention devised by Andrew Smith Hallidie in order to traverse the city's steep hills while connecting the new residential developments. San Francisco grew in cultural prominence at this time as famous writers Mark Twain, Bret Harte, Ambrose Bierce, Rudyard Kipling, Robert Louis Stevenson, and Oscar Wilde spent time in the city, while local characters developed such as Emperor Norton. The San Francisco Stock and Bond Exchange was founded in 1882.\\nBy the 1890s, San Francisco, like many cities across the United States, was suffering from machine politics and corruption, and was ripe for political reform.\", '4765f083-2a06-4801-8792-e15d731f3dbb': \"The new site, overlooking Golden Gate Park, opened in the fall of 1898, with the construction of the new affiliated colleges buildings.\\nThe city's famous cable cars were built around this time, a unique invention devised by Andrew Smith Hallidie in order to traverse the city's steep hills while connecting the new residential developments. San Francisco grew in cultural prominence at this time as famous writers Mark Twain, Bret Harte, Ambrose Bierce, Rudyard Kipling, Robert Louis Stevenson, and Oscar Wilde spent time in the city, while local characters developed such as Emperor Norton. The San Francisco Stock and Bond Exchange was founded in 1882.\\nBy the 1890s, San Francisco, like many cities across the United States, was suffering from machine politics and corruption, and was ripe for political reform. Adolph Sutro ran for mayor in 1894 under the auspices of the Populist Party and won handily without campaigning. Unfortunately, except for the Sutro Baths, Mayor Sutro substantially failed in his efforts to improve the city. The next mayor, James D. Phelan elected in 1896, was more successful, pushing through a new city charter that allowed for the ability to raise funds through bond issues. He got bonds passed to construct a new sewer system, 17 new schools, two parks, a hospital, and a main library. After leaving office in 1901, Phelan became interested in remaking San Francisco into a grand and modern Paris of the West.\\nIn 1900, a ship brought with it rats infected with bubonic plague to initiate the San Francisco plague of 1900–1904; the first plague epidemic in the continental U.S. Mistakenly believing that interred corpses contributed to the transmission of plague, and possibly motivated by the opportunity for profitable land speculation, city leaders banned all burials within the city. Cemeteries moved to the undeveloped area just south of the city limit, now the town of Colma, California. A 15-block section of Chinatown was quarantined while city leaders squabbled over the proper course to take, but the outbreak finally was eradicated by 1905. However, the problem of existing cemeteries and the shortage of land in the city remained. In 1907, an anti-Asian race riot broke out with other west coast race riots.\", '0ac6a81d-84e2-43dc-9d0e-900e23c8aef3': \"In 1900, a ship brought with it rats infected with bubonic plague to initiate the San Francisco plague of 1900–1904; the first plague epidemic in the continental U.S. Mistakenly believing that interred corpses contributed to the transmission of plague, and possibly motivated by the opportunity for profitable land speculation, city leaders banned all burials within the city. Cemeteries moved to the undeveloped area just south of the city limit, now the town of Colma, California. A 15-block section of Chinatown was quarantined while city leaders squabbled over the proper course to take, but the outbreak finally was eradicated by 1905. However, the problem of existing cemeteries and the shortage of land in the city remained. In 1907, an anti-Asian race riot broke out with other west coast race riots. In 1912 (with fights extending until 1942), all remaining cemeteries in the city were evicted to Colma, where the dead now outnumber the living by more than 1,000 to one. The above-ground Columbarium of San Francisco was allowed to remain, as well as the historic cemetery at Mission Dolores, the grave of Thomas Starr King at the First Unitarian Church, and the San Francisco National Cemetery at the Presidio of San Francisco.\\n\\n\\n== Corruption and graft trials ==\\n\\nMayor Eugene Schmitz, president of the Musician's Union, was chosen by political leader Abe Ruef to run for mayor as a front for the Union Labor Party in 1901. He and Ruef had been friends for 18 years. Ruef contributed $16,000 (about $543,000 today) to Schmitz' campaign:\\u200ap14\\u200a and used his considerable influence to make sure Schmitz was selected to front for the new Union Labor Party. Ruef wrote the Union Labor Party's platform and built a strong, behind-the-scenes network of supporters, including the more than 5,000 saloon keepers and another 2,000 bartenders in San Francisco, who all influenced political discussions in their saloons.\\nSchmitz was less corrupt than the mayors who preceded him, but he had to deal with Ruef who operated from his offices at California and Kearney Streets.\", 'de324270-71dd-4bff-8e0e-a328ab2741fa': \"He and Ruef had been friends for 18 years. Ruef contributed $16,000 (about $543,000 today) to Schmitz' campaign:\\u200ap14\\u200a and used his considerable influence to make sure Schmitz was selected to front for the new Union Labor Party. Ruef wrote the Union Labor Party's platform and built a strong, behind-the-scenes network of supporters, including the more than 5,000 saloon keepers and another 2,000 bartenders in San Francisco, who all influenced political discussions in their saloons.\\nSchmitz was less corrupt than the mayors who preceded him, but he had to deal with Ruef who operated from his offices at California and Kearney Streets. He wrote most of the mayor's official papers and conducted an ongoing series of meetings with Mayor Schmitz, city commissioners, officials, seekers of favors or jobs, and others. Officially an unpaid attorney for the mayor's office, he was the power behind the mayor's chair.\\nFormer Mayor Phelan, in concert with Rudolph Spreckels, president of the San Francisco First National Bank, and Fremont Older, editor of the San Francisco Bulletin, decided to try to challenge the Labor Party's corrupt choke-hold on city politics and commerce. They got Francis Heney, a U.S. special prosecutor, to help with the investigation and prosecution. Heney eventually charged Ruef and Schmitz with numerous counts of bribery and brought them to trial.\\nOn June 13, 1907, Mayor E. E. Schmitz was found guilty of extortion and the office of Mayor was declared vacant. He was sent to jail to await sentence. Shortly thereafter he was sentenced to five years at San Quentin State Prison, the maximum sentence the law allowed. He immediately appealed. While awaiting the outcome of the appeal, Schmitz was kept in a cell in San Francisco County Jail. Dr. Edward R. Taylor, Dean of Hastings College, agreed to step in as interim mayor and was given power to appoint new supervisors to replace those who had resigned. Ruef was found guilty and was sentenced to 14 years in prison. In November 1910, his conviction and sentence were finally upheld, and on March 1, 1911, he entered prison.\", 'fef89bd8-d4ab-49b4-a3f7-86b334926619': 'Heney eventually charged Ruef and Schmitz with numerous counts of bribery and brought them to trial.\\nOn June 13, 1907, Mayor E. E. Schmitz was found guilty of extortion and the office of Mayor was declared vacant. He was sent to jail to await sentence. Shortly thereafter he was sentenced to five years at San Quentin State Prison, the maximum sentence the law allowed. He immediately appealed. While awaiting the outcome of the appeal, Schmitz was kept in a cell in San Francisco County Jail. Dr. Edward R. Taylor, Dean of Hastings College, agreed to step in as interim mayor and was given power to appoint new supervisors to replace those who had resigned. Ruef was found guilty and was sentenced to 14 years in prison. In November 1910, his conviction and sentence were finally upheld, and on March 1, 1911, he entered prison. On August 23, 1915, having served a little more than four and a half of his fourteen-year sentence, he was released. He was the only person in the entire investigation who went to prison. He was not allowed to return to his legal practice. \"Before he went to prison he had been worth over a million dollars, when he died he was bankrupt.\":\\u200a257', '5aab369a-a9c8-466b-9f0d-5e072b02ca81': 'He immediately appealed. While awaiting the outcome of the appeal, Schmitz was kept in a cell in San Francisco County Jail. Dr. Edward R. Taylor, Dean of Hastings College, agreed to step in as interim mayor and was given power to appoint new supervisors to replace those who had resigned. Ruef was found guilty and was sentenced to 14 years in prison. In November 1910, his conviction and sentence were finally upheld, and on March 1, 1911, he entered prison. On August 23, 1915, having served a little more than four and a half of his fourteen-year sentence, he was released. He was the only person in the entire investigation who went to prison. He was not allowed to return to his legal practice. \"Before he went to prison he had been worth over a million dollars, when he died he was bankrupt.\":\\u200a257\\u200a\\n\\n\\n== 1906 earthquake and fire ==\\n\\nOn April 18, 1906, a devastating earthquake resulted from the rupture of over 270 miles of the San Andreas Fault, from San Juan Bautista to Eureka, centered immediately offshore of San Francisco. The quake is estimated by the USGS to have had a magnitude of 7.8 on the Richter scale. Water mains ruptured throughout San Francisco, and the fires that followed burned out of control for days, destroying approximately 80% of the city, including almost all of the downtown core. Many residents were trapped between the water on three sides and the approaching fire, and a mass evacuation across the Bay saved thousands. Refugee camps were also set up in Golden Gate Park, Ocean Beach, and other undeveloped sections of the city. The official death toll at the time was 478, although it was officially revised in 2005 to 3,000+. The initial low death toll was concocted by civic, state, and federal officials who felt that reporting the actual numbers would hurt rebuilding and redevelopment efforts, as well as city and national morale. The death toll from this event had the highest number of deaths from a natural disaster in California history.', 'cdd06f8c-1b4a-4916-a381-485384072059': '=== Reconstruction ===\\n\\nAlmost immediately after the quake re-planning and reconstruction plans were hatched to quickly rebuild the city. One of the more famous and ambitious plans, proposed before the fire, came from famed urban planner, Daniel Burnham. His bold plan called for Haussmann style avenues, boulevards, and arterial thoroughfares that radiated across the city, a massive civic center complex with classical structures, what would have been the largest urban park in the world, stretching from Twin Peaks to Lake Merced with a large athenaeum at its peak, and various other proposals. This plan was dismissed by critics (both at the time and now), as impractical and unrealistic to municipal supply and demand. Property owners and the Real Estate industry were against the idea as well due to the amounts of their land the city would have to purchase to realize such proposals. While the original street grid was restored, many of Burnham\\'s proposals eventually saw the light of day such as a neo-classical civic center complex, wider streets, a preference of arterial thoroughfares, a subway under Market Street, a more people-friendly Fisherman\\'s Wharf, and a monument to the city on Telegraph Hill, Coit Tower. With many rats and people displaced, a minor outbreak of plague occurred in San Francisco and Oakland during reconstruction, but unlike the 1901-1904 outbreak, government authorities responded quickly.\\n\\n\\n=== \"Greater San Francisco\" movement of 1912 ===\\nIn 1912, there was a movement to create a Greater San Francisco in which southern Marin County, the part of Alameda County which includes Oakland, Piedmont and Berkeley, and northern San Mateo County from San Bruno northwards would have become outer Boroughs of San Francisco, with the City and County of San Francisco functioning as Manhattan, based on the New York City model. East Bay opposition defeated the San Francisco expansion plan in the California legislature, and later attempts at San Francisco Bay Area metropolitan area consolidation in 1917, 1923, and 1928 also failed to be implemented.', '1251dc6e-01b7-42f0-94e9-9d453be52797': '=== \"Greater San Francisco\" movement of 1912 ===\\nIn 1912, there was a movement to create a Greater San Francisco in which southern Marin County, the part of Alameda County which includes Oakland, Piedmont and Berkeley, and northern San Mateo County from San Bruno northwards would have become outer Boroughs of San Francisco, with the City and County of San Francisco functioning as Manhattan, based on the New York City model. East Bay opposition defeated the San Francisco expansion plan in the California legislature, and later attempts at San Francisco Bay Area metropolitan area consolidation in 1917, 1923, and 1928 also failed to be implemented.\\n\\n\\n== Panama–Pacific Exposition of 1915 ==\\n\\nIn 1915, the city hosted the Panama–Pacific International Exposition, officially to celebrate the opening of the Panama Canal, but also as a showcase of the vibrant completely rebuilt city less than a decade after the earthquake. After the exposition ended, all of its grand buildings were demolished except for the rebuilt Palace of Fine Arts which survives today in an abbreviated form, while the remainder of the fairgrounds were re-developed into the Marina District.', 'f1cc4ef0-7ea4-4125-a8e8-96af61db9ec8': '== Panama–Pacific Exposition of 1915 ==\\n\\nIn 1915, the city hosted the Panama–Pacific International Exposition, officially to celebrate the opening of the Panama Canal, but also as a showcase of the vibrant completely rebuilt city less than a decade after the earthquake. After the exposition ended, all of its grand buildings were demolished except for the rebuilt Palace of Fine Arts which survives today in an abbreviated form, while the remainder of the fairgrounds were re-developed into the Marina District.\\n\\n\\n== 1930s – World War II ==\\n\\n1934 saw San Francisco become the center of the West Coast waterfront strike. The strike lasted eighty-three days and saw the deaths of two workers, but the result led to the unionization of all of the West Coast ports of the United States.\\nThe San Francisco–Oakland Bay Bridge was opened in 1936 and the Golden Gate Bridge in 1937. The 1939 Golden Gate International Exposition was held on Treasure Island. It was in this period that the island of Alcatraz, a former military stockade, began its service as a federal maximum security prison, housing notorious inmates such as Al Capone, and Robert Franklin Stroud, The Birdman of Alcatraz.\\nDuring World War II, San Francisco was the major mainland supply point and port of embarkation for the war in the Pacific. It also saw the largest and oldest enclave of Japanese outside of Japan, Japantown, completely remove all of its ethnic Japanese residents as a result of Executive Order 9066 that forced all Japanese of birth or descent in the United States to be interned. The city-owned Sharp Park in Pacifica opened as an internment camp in 1942. By 1943 many large sections of Japantown remained vacant due to the forced internment. \\nThe void was quickly filled by thousands of African Americans who had left the South to find wartime industrial jobs in California as part of the Great Migration. Many African Americans also settled in the Fillmore District and most notably near the Bayview-Hunters Point shipyards, working in the dry-docks there. The same docks at Hunters Point would be used for loading the key fissile components of the first atomic bomb onto the USS Indianapolis in July 1945 for transfer to Tinian.\\nThe War Memorial Opera House which opened in 1932, was the site of some significant post World War II history. In 1945, the conference that formed the United Nations was held there, with the UN Charter being signed nearby in the Herbst Theatre on June 26. Additionally the Treaty of San Francisco which formally ended war with Japan and established peaceful relations, was drafted and signed here six years later in 1951.', 'd331fb81-f3d5-4c10-a78a-083b399d4d9c': \"== Post-World War II ==\\n\\nAfter World War II, many American military personnel, who fell in love with the city while leaving for or returning from the Pacific, settled in the city, prompting the creation of the Sunset District, Visitacion Valley, and the total build out of San Francisco. During this period, Caltrans commenced an aggressive freeway construction program in the Bay Area. However, Caltrans soon encountered strong resistance in San Francisco, for the city's high population density meant that virtually any right-of-way would displace a large number of people. Caltrans tried to minimize displacement (and its land acquisition costs) by building double-decker freeways, but the crude state of civil engineering at that time resulted in construction of some embarrassingly ugly freeways which ultimately turned out to be seismically unsafe. In 1959, the Board of Supervisors voted to halt construction of any more freeways in the city, an event known as the Freeway Revolt. Although some minor modifications have been allowed to the ends of existing freeways, the city's anti-freeway policy has remained in place ever since.\\nThe San Francisco Mental Hygiene Society was formed in 1947. In 1956, nearly a hundred LGBT San Franciscans were arrested during the Hazel's Inn raid, during a widespread crackdowns on gay bars. In 1958 the New York Giants moved to San Francisco and became the San Francisco Giants. Their first stadium, Candlestick Park, was constructed in 1959.\", '47ba6ecc-6f43-431a-adb0-1b1808e8c0b5': '=== Urban renewal ===\\nIn the 1950s San Francisco mayor George Christopher hired M. Justin Herman to head the San Francisco Redevelopment Agency (SFRA). Justin Herman began an aggressive campaign to tear down blighted areas of the city that were working class, non-white neighborhoods. Enacting eminent domain whenever necessary, he set upon a plan to tear down huge areas of the city and replace them with modern construction. Critics accused Herman of racism for what was perceived as attempts to create segregation and displacement of blacks. Many black residents were forced to move from their homes near the Fillmore jazz district to newly constructed projects such as near the naval base at Hunter\\'s Point or even to other cities such as Oakland. He began leveling entire areas in San Francisco\\'s Western Addition and Japantown neighborhoods. Herman also completed the final removal of the produce district below Telegraph Hill, moving the produce merchants to the Alemany Boulevard site. His planning led to the creation of Embarcadero Center, the Embarcadero Freeway, Japantown, the Geary Street superblocks, and eventually Yerba Buena Gardens.\\n\\n\\n== 1960 – 1970s ==\\n\\n\\n=== \"Summer of Love\" and counterculture movement ===\\n\\nFollowing World War II, San Francisco became a magnet for America\\'s counterculture. During the 1950s, City Lights Bookstore in the North Beach neighborhood was an important publisher of Beat Generation literature. Some of the story of the evolving arts scene of the 1950s is told in the article San Francisco Renaissance. During the latter half of the following decade, the 1960s, San Francisco was the center of hippie and other alternative culture.\\nIn 1967, thousands of young people entered the Haight-Ashbury district during what became known as the Summer of Love. The San Francisco Sound emerged as an influential force in rock music, with such acts as Jefferson Airplane and the Grateful Dead achieving international prominence. These groups blurred the boundaries between folk, rock and jazz traditions and further developed rock\\'s lyrical content.', '56b15227-43ce-4593-a1a1-d466b671faf2': '== 1960 – 1970s ==\\n\\n\\n=== \"Summer of Love\" and counterculture movement ===\\n\\nFollowing World War II, San Francisco became a magnet for America\\'s counterculture. During the 1950s, City Lights Bookstore in the North Beach neighborhood was an important publisher of Beat Generation literature. Some of the story of the evolving arts scene of the 1950s is told in the article San Francisco Renaissance. During the latter half of the following decade, the 1960s, San Francisco was the center of hippie and other alternative culture.\\nIn 1967, thousands of young people entered the Haight-Ashbury district during what became known as the Summer of Love. The San Francisco Sound emerged as an influential force in rock music, with such acts as Jefferson Airplane and the Grateful Dead achieving international prominence. These groups blurred the boundaries between folk, rock and jazz traditions and further developed rock\\'s lyrical content.\\n\\n\\n=== Rise of the \"Gay Mecca\" ===\\n\\nSan Francisco\\'s frontier spirit and wild and ribald character started its reputation as a gay mecca in the first half of the 20th century. World War II saw a jump in the gay population when the US military actively sought out and dishonorably discharged homosexuals. From 1941 to 1945, more than 9,000 gay servicemen and women were discharged, and many were processed out in San Francisco. \\nThe late 1960s also brought in a new wave of lesbians and gays who were more radical and less mainstream and who had flocked to San Francisco not only for its gay-friendly reputation, but for its reputation as a radical, left-wing center. These new residents were the prime movers of Gay Liberation and often lived communally, buying decrepit Victorians in the Haight and fixing them up. When drugs and violence began to become a serious problem in the Haight, many lesbians and gays simply moved \"over the hill\" to the Castro replacing Irish-Americans who had moved to the more affluent and culturally homogeneous suburbs.\\nThe Castro became known as a Gay Mecca, and its gay population swelled as significant numbers of gay people moved to San Francisco in the 1970s and 1980s. The growth of the gay population caused tensions with some of the established ethnic groups in the southern part of the city. In 1977, businessman Harvey Milk announced he would run for the San Francisco Board of Supervisors at a memorial for Robert Hillsborough, a gay man murdered in a homophobic attack. Milk won the election and became San Francisco\\'s first openly gay elected official.\\nOn November 27, 1978 Dan White, a former member of the Board of Supervisors and former police officer, assassinated the city\\'s mayor George Moscone and Supervisor Milk. The murders and the subsequent trial were marked both by candlelight vigils and homosexual riots. In the 1980s, HIV (formerly called LAV, HTLV-III, also known as AIDS virus) created havoc in the gay community. The gay, lesbian, bisexual, and transgender population of the city is still the highest of any major metropolitan area in the United States.', '2f907f8e-eae9-4fef-9e81-6df13cf24224': '=== New public infrastructure ===\\nThe 1970s also brought other major changes to the city such as the construction of its first subway system, BART, which connects San Francisco with other cities in the Bay Area; it was installed in 1972. At stations in downtown San Francisco, BART connects with Muni, the city subway, which has lines that run underground along Market Street, and then along surface streets through much of the city. San Francisco\\'s second tallest building, the Transamerica Pyramid was also completed during that year.\\n\\n\\n== 1980s ==\\n\\nDuring the administration of Mayor Dianne Feinstein (1978–1988), San Francisco saw a development boom referred to as \"Manhattanization.\" Many large skyscrapers were built—primarily in the Financial District—but the boom also included high-rise condominiums in some residential neighborhoods. An opposition movement gained traction among those who felt the skyscrapers ruined views and destroyed San Francisco\\'s unique character. Similar to the freeway revolt in the city decades earlier, a \"skyscraper revolt\" forced the city to embed height restrictions in the planning code. For many years, the limits slowed construction of new skyscrapers. She had also spearheaded the development and construction of the city\\'s convention center, the Moscone Center, preserved and renovated the city\\'s Cable Cars, and attracted the 1984 Democratic National Convention.\\nDuring the early 1980s, homeless people began appearing in large numbers in the city, the result of multiple factors including the closing of state institutions for the mentally ill, the Reagan administration reducing Section 8 housing benefits, and social changes which increased the availability of addictive drugs. Combined with San Francisco\\'s attractive environment and generous welfare policies the problem soon became endemic. Mayor Art Agnos (1988–92) was the first to attack the problem, and not the last; it is a top issue for San Franciscans even today. His program, Beyond Shelter, became the basis for federal programs and was recognized by Harvard for Innovations in Local Government. Agnos allowed the homeless to camp in the Civic Center park after the Loma Prieta earthquake that made over 1,000 SRO\\'s uninhabitable, which led to its title of \"Camp Agnos.\" His opponent used this to attack Agnos in 1991, an election Agnos lost.', '33f9c109-e13a-4d58-99f9-1f69f2d8ff53': 'Combined with San Francisco\\'s attractive environment and generous welfare policies the problem soon became endemic. Mayor Art Agnos (1988–92) was the first to attack the problem, and not the last; it is a top issue for San Franciscans even today. His program, Beyond Shelter, became the basis for federal programs and was recognized by Harvard for Innovations in Local Government. Agnos allowed the homeless to camp in the Civic Center park after the Loma Prieta earthquake that made over 1,000 SRO\\'s uninhabitable, which led to its title of \"Camp Agnos.\" His opponent used this to attack Agnos in 1991, an election Agnos lost. Frank Jordan launched the \"MATRIX\" program the next year, which aimed to displace the homeless through aggressive police action. And it did displace them-to the rest of the city. His successor, Willie Lewis Brown Jr., was able to largely ignore the problem, riding on the strong economy into a second term. Later, mayor Gavin Newsom created the controversial \"Care Not Cash\" program and policy on the homeless, which calls for ending the city\\'s generous welfare policies towards the homeless and instead placing them in affordable housing and requiring them to attend city funded drug rehabilitation and job training programs.\\nIn August 1989, San Francisco was surpassed for the first time in population by San Jose (located in Silicon Valley), the world center of the computer industry. San Jose has continued since then to grow in population since it is surrounded by large tracts of developable land. Thus, San Francisco is now the second largest city in population in the San Francisco Bay Area after San Jose.', '558588f3-6975-4f1c-917c-cb4d912a7d68': 'And it did displace them-to the rest of the city. His successor, Willie Lewis Brown Jr., was able to largely ignore the problem, riding on the strong economy into a second term. Later, mayor Gavin Newsom created the controversial \"Care Not Cash\" program and policy on the homeless, which calls for ending the city\\'s generous welfare policies towards the homeless and instead placing them in affordable housing and requiring them to attend city funded drug rehabilitation and job training programs.\\nIn August 1989, San Francisco was surpassed for the first time in population by San Jose (located in Silicon Valley), the world center of the computer industry. San Jose has continued since then to grow in population since it is surrounded by large tracts of developable land. Thus, San Francisco is now the second largest city in population in the San Francisco Bay Area after San Jose.\\n\\n\\n=== 1989 Loma Prieta earthquake ===\\n\\nOn October 17, 1989, an earthquake measuring 6.9 on the moment magnitude scale struck on the San Andreas Fault near Loma Prieta Peak in the Santa Cruz mountains, approximately 70 miles (113 km) south of San Francisco, a few minutes before Game 3 of the 1989 World Series was scheduled to begin at Candlestick Park. The quake severely damaged many of the city\\'s freeways including the Embarcadero Freeway and the Central Freeway. Mayor Agnos made the controversial decision to tear down the Embarcadero Freeway, opening the waterfront but eventually shifting Chinatown voters away from him and costing him re-election in 1991. The quake also caused extensive damage in the Marina District and the South of Market neighborhoods.', 'f22748d5-904c-49ca-b0f8-32166e8fc38e': \"Thus, San Francisco is now the second largest city in population in the San Francisco Bay Area after San Jose.\\n\\n\\n=== 1989 Loma Prieta earthquake ===\\n\\nOn October 17, 1989, an earthquake measuring 6.9 on the moment magnitude scale struck on the San Andreas Fault near Loma Prieta Peak in the Santa Cruz mountains, approximately 70 miles (113 km) south of San Francisco, a few minutes before Game 3 of the 1989 World Series was scheduled to begin at Candlestick Park. The quake severely damaged many of the city's freeways including the Embarcadero Freeway and the Central Freeway. Mayor Agnos made the controversial decision to tear down the Embarcadero Freeway, opening the waterfront but eventually shifting Chinatown voters away from him and costing him re-election in 1991. The quake also caused extensive damage in the Marina District and the South of Market neighborhoods.\\n\\n\\n== 1990s ==\\nThe 1990s saw the demolition of the quake damaged Embarcadero and Central Freeway, restoring the once blighted Hayes Valley as well as the city's waterfront promenade, The Embarcadero. In 1994 as part of the Base Realignment and Closure plan, the former military base of San Francisco Naval Shipyard in Bayview-Hunters Point was closed and returned to the city while the Presidio was turned over to the National Park Service and since converted into a national park.\\nIn 1996, the city elected its first African American mayor, former Speaker of the California State Assembly, Willie Brown. Brown called for expansions to the San Francisco budget to provide for new employees and programs. During Brown's tenure, San Francisco's budget increased to US$5.2 billion and the city added 4,000 new employees. His tenure saw the development and construction of the new Mission Bay neighborhood, and a baseball stadium for the Giants, AT&T Park which was 100% privately financed.\\nIn 1997, the Pinecrest Diner, a popular all-night diner-style restaurant in San Francisco, became notorious for a murder over an order of eggs.\", '12733199-5308-4d9e-8a88-9c882d00564f': '=== Dot-com boom ===\\nDuring the dot-com boom of the late 1990s, large numbers of entrepreneurs and computer software professionals moved into the city, followed by marketing and sales professionals, and changed the social landscape as once poorer neighborhoods became gentrified. The rising rents forced many people, families, and businesses to leave. San Francisco has the smallest share of children of any major U.S. city, with the city\\'s 18 and under population at just 13.4 percent.\\n\\n\\n== 2000s ==\\nIn 2001, the markets crashed, the boom ended, and many left San Francisco. South of Market, where many dot-com(.com) companies were located, had been bustling and crowded with few vacancies, but by 2002 was a virtual wasteland of empty offices and for-rent signs. Much of the boom was blamed for the city\\'s \"fastest shrinking population\", reducing the city\\'s population by 30,000 in just a few years. While the bust helped put an ease on the city\\'s apartment rents, the city remained expensive. Also that year, Diane Whipple, a 33-year-old lacrosse coach, was killed by two Presa Canario dogs owned by her neighbors, who were charged with murder.\\nBy 2003, the city\\'s economy had recovered from the dot-com crash thanks to a resurgent international tourist industry and the Web 2.0 boom that saw the creation of many new internet and software start-up companies in the city, attracting white-collar workers, recent University graduates, and young adults from all over the world. Residential demand as well as rents rose again, and as a result city officials relaxed building height restrictions and zoning codes to construct residential condominiums in SOMA such as One Rincon Hill, 300 Spear Street, and Millennium Tower, although the late 2000s recession has indefinitely halted many construction projects such as Rincon Hill. Part of this development included the reconstruction of the Transbay Terminal Replacement Project.', '75d13363-b79e-4900-a500-b3a9c95b96d8': \"== 2010s ==\\nThe early 2000s and into the 2010s saw the redevelopment of the Mission Bay neighborhood. Originally an industrial district, it underwent development fueled by the construction of the University of California, San Francisco Mission Bay campus and its UCSF Medical Center, and is currently an up-and-coming neighborhood, undergoing development and construction. It has rapidly evolved into a wealthy neighborhood of luxury condominiums, hospitals, and biotechnology research and development. It is also the site of Chase Center, the arena of the Golden State Warriors and the new Uber headquarters.\\n2010 saw the San Francisco Giants win their first World Series title since moving from New York City in 1958. The estimated 1 million people who attended their victory parade is considered one of the largest in city history. 2012 saw the Giants win their second title in San Francisco, and 2014 saw them win their third. Celebrations citywide were marred by rioting which caused millions of dollars in property damage.\\nIn 2011, city manager Edwin Lee was elected the first Chinese American mayor in any American major city. Mayor Lee has been a strong proponent of tenant's rights, but also a business-friendly mayor to the city's burgeoning tech community.\\nBy 2013, San Francisco, with thanks from the Web 2.0 boom, had fully recovered from the late 2000s recession and is experiencing a real estate and population boom. The computer industry is moving north from Silicon Valley. Availability of vacant rental units is scarce and the prices for vacant units has increased dramatically, and as of 2015 is reported to be the highest in the nation.\\nIn April 2016, the city passed a law requiring all new buildings below 10 stories to have rooftop solar panels, making it the first major US city to do so.\\nIn 2018, San Francisco Supervisor London Breed was elected mayor.\\n\\n\\n== 2020s ==\\n\\nOn March 16, 2020, San Francisco was impacted by the COVID-19 pandemic, which put tens of thousands of residents out of work, and shifted others to work at home. Rent prices fell and vacancies increased. That same year, severe wildfires, including the North Complex Fire, burned more than 2 million acres east of San Francisco, resulting in Orange Skies Day.\", 'f977e229-3b7a-4096-acbe-2a2af1d4563c': '== 2020s ==\\n\\nOn March 16, 2020, San Francisco was impacted by the COVID-19 pandemic, which put tens of thousands of residents out of work, and shifted others to work at home. Rent prices fell and vacancies increased. That same year, severe wildfires, including the North Complex Fire, burned more than 2 million acres east of San Francisco, resulting in Orange Skies Day. \\nBy August 2023, downtown San Francisco was in such rapid decline that Mayor Matt Mahan of San Jose joked that one day the region might be renamed the \"San Jose Bay Area\", after its largest and most prosperous city.  The 2023 APEC conference was held in San Francisco.  By December 2023, it was projected that the city\\'s poor economic recovery would result in a $800 million deficit in its next two-year budget, requiring massive budget cuts.  During the Israel-Hamas war, the Board of Supervisors passed a resolution calling for a ceasefire, leading mayor London Breed to state the resolution had made the city \"angrier, more divided and less safe\".  \\nIn March 2024, San Francisco\\'s safety profile continued to rapidly deteriorate as the San Francisco Police Department struggled with a critical understaffing crisis, resulting in the perception that outlying neighborhoods like the Sunset District and the Richmond District were no longer safe.  The overwhelmed police department was forced to prioritize more serious calls for service and could no longer enforce most of the California Vehicle Code or the city\\'s own traffic laws.  During the eight years from 2016 to 2023, the annual number of traffic tickets issued by SFPD crashed by 96 percent from 129,597 to 5,080.\\nMarch 2024 was also when Macy\\'s, Inc. announced that it was planning to close Macy\\'s Union Square as soon as the company could find a buyer for the building.  Avison Young reported that if the closure goes through as planned, Union Square\\'s vacancy rate would jump from 22% to 34.5%.  The news was regarded as the culmination of Union Square\\'s collapse as a regional shopping hub, as many retailers either fled to or consolidated their Northern California operations at Westfield Valley Fair in San Jose.', 'eae74d4a-48e0-4150-ad83-8350b0181165': \"The overwhelmed police department was forced to prioritize more serious calls for service and could no longer enforce most of the California Vehicle Code or the city's own traffic laws.  During the eight years from 2016 to 2023, the annual number of traffic tickets issued by SFPD crashed by 96 percent from 129,597 to 5,080.\\nMarch 2024 was also when Macy's, Inc. announced that it was planning to close Macy's Union Square as soon as the company could find a buyer for the building.  Avison Young reported that if the closure goes through as planned, Union Square's vacancy rate would jump from 22% to 34.5%.  The news was regarded as the culmination of Union Square's collapse as a regional shopping hub, as many retailers either fled to or consolidated their Northern California operations at Westfield Valley Fair in San Jose.  Although a group of luxury retailers stayed alive just east of Union Square by focusing on the needs of the ultra-rich, that was nothing like what Union Square had once been: a regional hub drawing middle class and upper middle class shoppers from all over the Bay Area.  \\nIn April 2024, the staffing crisis in the city jails got so bad that the sheriff deputies' union openly asked Governor Gavin Newsom to call out the National Guard to restore order.  The city's urban decay during the early 2020s was most acutely felt along the Market Street corridor. By May 2024, the vacancy rate in the Mid-Market area had skyrocketed to 46%, according to CBRE research, which was significantly higher than the citywide vacancy rate of 36.7%.\\n\\n\\n== Historic populations ==\\n\\n\\n== See also ==\\n\\nAlcatraz Island\\nHistory of the west coast of North America\\nTimeline of San Francisco\\nHistory of Chinese Americans in San Francisco\\nHistory of the Japanese in San Francisco\\n\\n\\n== References ==\\n\\n\\n== Further reading ==\", '20744a61-b6ad-43f9-ad10-06b6219f96df': \"In April 2024, the staffing crisis in the city jails got so bad that the sheriff deputies' union openly asked Governor Gavin Newsom to call out the National Guard to restore order.  The city's urban decay during the early 2020s was most acutely felt along the Market Street corridor. By May 2024, the vacancy rate in the Mid-Market area had skyrocketed to 46%, according to CBRE research, which was significantly higher than the citywide vacancy rate of 36.7%.\\n\\n\\n== Historic populations ==\\n\\n\\n== See also ==\\n\\nAlcatraz Island\\nHistory of the west coast of North America\\nTimeline of San Francisco\\nHistory of Chinese Americans in San Francisco\\nHistory of the Japanese in San Francisco\\n\\n\\n== References ==\\n\\n\\n== Further reading ==\\n\\n\\n=== Surveys ===\\nBarth, Gunther Paul (1975). Instant Cities: Urbanization and the Rise of San Francisco and Denver. Oxford University Press.\\nIssel, William & Cherny, Robert W. (1986). San Francisco, 1865–1932: Politics, Power, and Urban Development. University of California Press.\\nRichards, Rand (2007). Historic San Francisco: A Concise History and Guide. ISBN 978-1879367050.\\nRyan, Mary P. (1997). Civic Wars: Democracy and Public Life in the American City during the Nineteenth Century. Berkeley: University of California Press. ISBN 0520204417. Comparative survey of San Francisco, New York, and New Orleans.\\nSolnit, Rebecca (2010). Infinite City: A San Francisco Atlas. University of California Press. ISBN 978-0-520-26250-8.; online review\\nStarr, Kevin (1973). Americans and the California Dream, 1850–1915. Starr's multivolume history of the state has extensive coverage of the city's politics, culture and economy.\\nYoung, John P. (1912). San Francisco: A History of the Pacific Coast Metropolis (2 volumes). S. J. Clarke Publishing Company.\", '255bd1af-d22e-498d-be86-5d249bf8c439': '=== Cultural themes ===\\nBerglund, Barbara (2007). Making San Francisco American: Cultural Frontiers in the Urban West, 1846–1906.\\nFerlinghetti, Lawrence (1980). Literary San Francisco: A Pictorial History from its Beginnings to the Present Day. Harper & Row. ISBN 978-0-06-250325-1. OCLC 6683688.\\nMaupin, Armistead (1978). Tales of the City. Harper Collins. ISBN 978-0-06-096404-7. OCLC 29847673.\\nSinclair, Mick (2003). San Francisco: A Cultural and Literary History.\\n\\n\\n=== Earthquake, infrastructure & environment ===\\nBronson, William (2006). The Earth Shook, the Sky Burned. Chronicle Books. ISBN 978-0-8118-5047-6. OCLC 65223734.\\nCassady, Stephen (1987). Spanning the Gate. Square Books. ISBN 978-0-916290-36-8. OCLC 15229396.\\nDavies, Andrea Rees (2011). Saving San Francisco: Relief and Recovery after the 1906 Disaster.\\nDillon, Richard H. (1998). High Steel: Building the Bridges Across San Francisco Bay. Celestial Arts (Reissue edition). ISBN 978-0-88029-428-7. OCLC 22719465.\\nDreyfus, Philip J. (2009). Our Better Nature: Environment and the Making of San Francisco.\\nFranklin, Philip (2006). The Great Earthquake and Firestorms of 1906: How San Francisco Nearly Destroyed Itself.\\nThomas, Gordon; Witts, Max Morgan (1971). The San Francisco Earthquake. Stein and Day. ISBN 978-0-8128-1360-9. OCLC 154735.', 'd32f0e2b-3ee4-4c90-a316-5e3c00f8bd66': '=== Ethnicity, religion & race ===\\nBroussard, Albert S. (1994). Black San Francisco: The Struggle for Racial Equality in the West, 1900–1954.\\nBurchell, R. A. (1980). The San Francisco Irish, 1848–1880.\\nChen, Yong (2002). Chinese San Francisco, 1850–1943: A Trans-Pacific Community.\\nCordova, Cary (2017). The Heart of the Mission: Latino Art and Politics in San Francisco.\\nDaniels, Douglas Henry (1980). Pioneer Urbanites: A Social and Cultural History of Black San Francisco. University of California Press.\\nGaribaldi, Rayna; Hooper, Bernadette C. (2008). Catholics of San Francisco.\\nGribble, Richard (2006). An Archbishop for the People: The Life of Edward J. Hanna. The Catholic archbishop (1915–1935).\\nKim, Jae Yeon. \"Racism is not enough: Minority coalition building in San Francisco, Seattle, and Vancouver.\" Studies in American Political Development 34.2 (2020): 195-215. online\\nRosenbaum, Fred (2011). Cosmopolitans: A Social and Cultural History of the Jews of the San Francisco Bay Area.\\nYung, Judy (1995). Unbound Feet: A Social History of Chinese Women in San Francisco.\\n\\n\\n=== Gold rush & early days ===\\nHittell, John S. (1878). A History of the City of San Francisco and incidentally of the State of California.\\nLotchin, Roger W. (1997). San Francisco, 1846–1856: From Hamlet to City. University of Illinois Press. ISBN 978-0-252-06631-3. OCLC 35650934.\\nRichards, Rand (2008). Mud, Blood, and Gold: San Francisco in 1849.\\nTaniguchi, Nancy J. Dirty Deeds: Land, Violence, and the 1856 San Francisco Vigilance Committee  (2016) excerpt', 'b06f0f08-d3a4-40c7-bbd9-bded71f1b209': '=== Gold rush & early days ===\\nHittell, John S. (1878). A History of the City of San Francisco and incidentally of the State of California.\\nLotchin, Roger W. (1997). San Francisco, 1846–1856: From Hamlet to City. University of Illinois Press. ISBN 978-0-252-06631-3. OCLC 35650934.\\nRichards, Rand (2008). Mud, Blood, and Gold: San Francisco in 1849.\\nTaniguchi, Nancy J. Dirty Deeds: Land, Violence, and the 1856 San Francisco Vigilance Committee  (2016) excerpt\\n\\n\\n=== Politics ===\\nAgee, Christopher Lowen (2014). The Streets of San Francisco: Policing and the Creation of a Cosmopolitan Liberal Politics, 1950–1972.\\nBean, Walton (1967). Boss Rueff\\'s San Francisco: The Story of the Union Labor Party, Big Business, and the Graft Prosecution.\\nCarlsson, Chris; Elliott, LisaRuth (2011). Ten Years That Shook the City: San Francisco 1968–1978.\\nDeLeon, Richard E. (1992). Left Coast City: Progressive Politics in San Francisco, 1975–1991.\\nEthington, Philip J. (2001). The Public City: The Political Construction of Urban Life in San Francisco, 1850–1900.\\nHartman, Chester (2002). City for Sale: The Transformation of San Francisco. University of California Press. ISBN 978-0-520-08605-0. OCLC 48579085.\\nHolli, Melvin G., and Jones, Peter d\\'A., eds. Biographical Dictionary of American Mayors, 1820-1980 (Greenwood Press, 1981) short scholarly biographies each of the city\\'s mayors 1820 to 1980. online; see index at p. 410 for list.\\nHowell, Ocean (2015). Making the Mission: Planning and Ethnicity in the Mission. Chicago: University of Chicago Press.\\nKahn, Judd (1979). Imperial San Francisco: Politics and Planning in an American City, 1897–1906. University of Nebraska Press.\\nIssel, William (2013). Church and State in the City: Catholics and Politics in Twentieth-Century San Francisco. Temple University Press.\\nKazin, Michael (1988). Barons of Labor: The San Francisco Building Trades and Union Power in the Progressive Era.\\nSaxton, Alexander (1965). \"San Francisco labor and the populist and progressive insurgencies\". Pacific Historical Review. 34 (4): 421–438. doi:10.2307/3636353. JSTOR 3636353.', 'd2830160-9e98-4557-960b-9b096a5fb958': '=== Social and ethnic ===\\nAsbury, Hubert (1989). The Barbary Coast: An Informal History of the San Francisco Underworld. Dorset Press. ISBN 978-0-88029-428-7. OCLC 22719465.\\nKazin, M. (1987). Barons of Labor: The San Francisco Building Trades and Union Power in the Progressive Era (1st ed.). University of Illinois Press. ISBN 978-0252013454.\\nLotchin, Roger W. (2003). The Bad City in the Good War: San Francisco, Los Angeles, Oakland, and San Diego.\\nMcDonald, Terrence J. (1987). The Parameters of Urban Fiscal Policy: Socioeconomic Change and Political Culture in San Francisco, 1860–1906.\\n\\n\\n== External links ==\\n\\n\"History of Yerba Buena\\'s Renaming\". San Francisco History Podcast.\\n\"Shaping San Francisco, the lost history of San Francisco\".\\n\"Found SF wiki project\".\\n\"Historic Pictures of 19th Century San Francisco\". Central Pacific Railroad Photographic History Museum.\\n\"Historic San Francisco photographs, including the 1906 Earthquake and Fire\". JB Monaco, a local photographer during that period.\\n\"Videos of San Francisco from the Prelinger Collection\". Archive.org.\\n\"Videos of San Francisco from the Shaping San Francisco collection\". Archive.org.\\n\"San Francisco Then and Now\". LIFE.\\nAcross From City Hall on YouTube video on the \"Camp Agnos\" era at Civic Center Plaza.\\n\"These coders used 13,000 old photos to make a Google Street View map of San Francisco in the 1800s\". Business Insider. August 28, 2016.'}, relevant_docs={'0345c869-de41-45c2-9ad4-36beb1af539c': ['01d8db10-0870-4f55-8b4c-9a1687971363'], '6bdfeb7e-a5b0-435b-9366-9cd831ae7774': ['01d8db10-0870-4f55-8b4c-9a1687971363'], '0415aba5-5226-4a8c-a1d9-e15cfc113232': ['9423e842-ec33-40c6-93c1-1f6ae2a75e42'], 'df946f7e-274f-48a5-bf76-2ce3bbb7cdbf': ['9423e842-ec33-40c6-93c1-1f6ae2a75e42'], '9cae2a17-2706-448e-99c0-b2510506fb83': ['7005c008-87dc-4a36-badf-c0acb11e8fe9'], 'b66a6d38-db95-4a0f-91d2-7b062f2e9d99': ['7005c008-87dc-4a36-badf-c0acb11e8fe9'], 'ea3604eb-202f-433a-b172-4e227d97322a': ['1fc1c25c-71de-4722-a482-3e8d3719f9f0'], 'a0c707b2-d0e4-47f8-80cb-19ebd880e380': ['1fc1c25c-71de-4722-a482-3e8d3719f9f0'], 'e80c770a-2fe0-42d3-a15c-3993e7063d6e': ['537d205d-d205-47bd-b775-50c8b8d2b60c'], '99df4846-2802-45f1-98a9-903b4f64ea58': ['537d205d-d205-47bd-b775-50c8b8d2b60c'], 'cd06c2fd-bf12-4f01-bfd5-c23a118f2eec': ['f7a6e54e-204d-4582-99fb-31e0c59a150a'], 'ebe26f34-d8c7-4d4b-b1cb-c948a7be34af': ['f7a6e54e-204d-4582-99fb-31e0c59a150a'], 'cc96f13e-79b6-4179-b132-0ad4cbe33eef': ['13fa1c47-ac9a-4f0e-819c-b8fe8e3fdc1f'], '215bcae6-d47b-4cae-b3ce-2fa8f9783610': ['13fa1c47-ac9a-4f0e-819c-b8fe8e3fdc1f'], 'ef29fa03-6c31-44d2-baa6-5f2b97b6c9f4': ['c227ec1c-db9c-4529-9127-67a12037fe23'], 'ab6715f7-54d3-46c6-a299-bce43421ee4b': ['c227ec1c-db9c-4529-9127-67a12037fe23'], '6d51ac56-8794-433a-bddd-8e91dd713202': ['6d2d1f1e-7e13-4742-adfb-a5ce1afd6fa3'], '6c7b9e65-2368-48c6-ab6e-2cedc2775f56': ['6d2d1f1e-7e13-4742-adfb-a5ce1afd6fa3'], '9fb0e782-8cb4-4095-99e5-4d0838e5b4e8': ['59e491b5-44f5-44f7-8368-0640c72c417a'], '40bbd89b-99f7-4339-ae55-5d5418997bd6': ['59e491b5-44f5-44f7-8368-0640c72c417a'], '6b3809d2-bd90-408b-8639-2ba15b7ccb7a': ['4765f083-2a06-4801-8792-e15d731f3dbb'], 'ead579d3-27d3-48ac-9eaf-4a8940d69048': ['4765f083-2a06-4801-8792-e15d731f3dbb'], '89f00bf3-236f-4f0c-9d96-bfc0e1804f8b': ['0ac6a81d-84e2-43dc-9d0e-900e23c8aef3'], 'd8883a37-0676-465a-ab8c-9143e5e231e5': ['0ac6a81d-84e2-43dc-9d0e-900e23c8aef3'], '2796cab7-05c9-4cc0-a921-1f7b8e4c7bfb': ['de324270-71dd-4bff-8e0e-a328ab2741fa'], '77ed89ff-c075-4be3-9ac7-7437b0fe76ff': ['de324270-71dd-4bff-8e0e-a328ab2741fa'], '76b24e4d-5a27-4364-ba17-ed293ffcadde': ['fef89bd8-d4ab-49b4-a3f7-86b334926619'], 'f559b6c5-398a-4114-a763-5b579a57d317': ['fef89bd8-d4ab-49b4-a3f7-86b334926619'], '3adb162f-d685-4cae-9852-c4c1073261f5': ['5aab369a-a9c8-466b-9f0d-5e072b02ca81'], '545d9b99-f412-4f3a-957c-3a131fb6e3b6': ['5aab369a-a9c8-466b-9f0d-5e072b02ca81'], 'bace3750-5670-4109-ad7d-990815f4a500': ['cdd06f8c-1b4a-4916-a381-485384072059'], '1908e2e0-74db-45b3-aea0-d012d2ec4d10': ['cdd06f8c-1b4a-4916-a381-485384072059'], '7b503134-96c0-4b3c-8446-10b651a12b0c': ['1251dc6e-01b7-42f0-94e9-9d453be52797'], 'a7f8d89b-7c77-492a-b00a-d1eb1c5f31d4': ['1251dc6e-01b7-42f0-94e9-9d453be52797'], 'b4a24dbe-9834-4142-982a-d230f641c4cf': ['f1cc4ef0-7ea4-4125-a8e8-96af61db9ec8'], 'c2377346-47bd-4a3c-93eb-3ca1ac65c018': ['f1cc4ef0-7ea4-4125-a8e8-96af61db9ec8'], '743c9432-ce7b-4ad3-a4c9-1992fae023e7': ['d331fb81-f3d5-4c10-a78a-083b399d4d9c'], '1a42a1f2-0530-41fd-a732-efe524bd7a31': ['d331fb81-f3d5-4c10-a78a-083b399d4d9c'], 'f356ae21-a622-48d8-9002-696af3163bd1': ['47ba6ecc-6f43-431a-adb0-1b1808e8c0b5'], 'd923d027-9a44-421b-91cf-f83ebe5ffb88': ['47ba6ecc-6f43-431a-adb0-1b1808e8c0b5'], '806c9bdc-c8dc-41b9-bf2d-649bf03a2dff': ['56b15227-43ce-4593-a1a1-d466b671faf2'], 'c3f1b0c9-433e-4410-9bce-d345b1bc481b': ['56b15227-43ce-4593-a1a1-d466b671faf2'], 'e43fa6a0-a10b-48e3-857b-f77a2d91c731': ['2f907f8e-eae9-4fef-9e81-6df13cf24224'], 'b2d2fa8a-1ad3-418a-9258-9688ae7ed5a1': ['2f907f8e-eae9-4fef-9e81-6df13cf24224'], 'dc528404-5304-4ea1-9a09-2675cde13634': ['33f9c109-e13a-4d58-99f9-1f69f2d8ff53'], '691d5335-5541-4f65-9f5c-bb0b43f21872': ['33f9c109-e13a-4d58-99f9-1f69f2d8ff53'], 'f151b353-2c17-40bc-8d83-1cb77f1852f0': ['558588f3-6975-4f1c-917c-cb4d912a7d68'], '6c9a8cae-aeea-45cc-bef7-60be58c03706': ['558588f3-6975-4f1c-917c-cb4d912a7d68'], '74098c73-1953-46c0-9d4c-382d1cc2d528': ['f22748d5-904c-49ca-b0f8-32166e8fc38e'], '2b70c56d-939c-467f-a853-b9f01b31fbeb': ['f22748d5-904c-49ca-b0f8-32166e8fc38e'], '406a70c1-34bd-4e02-90dd-604efb63df7c': ['12733199-5308-4d9e-8a88-9c882d00564f'], '5865e96c-fe7c-4a9b-8606-06fe58945444': ['12733199-5308-4d9e-8a88-9c882d00564f'], '70e398f4-9a9e-49bb-92b5-1d7ef3302634': ['75d13363-b79e-4900-a500-b3a9c95b96d8'], '1f049742-1d89-4c66-b7aa-9ed31661e0f5': ['75d13363-b79e-4900-a500-b3a9c95b96d8'], '386c9697-e7e6-42cf-8018-1aefa8543de6': ['f977e229-3b7a-4096-acbe-2a2af1d4563c'], 'cce666de-a232-46f5-83a8-221ba0ce1233': ['f977e229-3b7a-4096-acbe-2a2af1d4563c'], 'ecab2b16-b9ff-4da0-8b55-3156093c4497': ['eae74d4a-48e0-4150-ad83-8350b0181165'], '7d7c5b73-b61a-40ef-906f-443eee76c653': ['eae74d4a-48e0-4150-ad83-8350b0181165'], '15fd5d4f-500e-488e-9daf-ec25d8f2a8f6': ['20744a61-b6ad-43f9-ad10-06b6219f96df'], 'dd6bf6e7-0e50-469f-8151-4fe9e06f0747': ['20744a61-b6ad-43f9-ad10-06b6219f96df'], 'c7b1593e-b508-4f7b-893c-422c3a4b21d4': ['255bd1af-d22e-498d-be86-5d249bf8c439'], 'b6539c98-75a9-4d60-a0a4-45c0cb4686b6': ['255bd1af-d22e-498d-be86-5d249bf8c439'], '3e12f385-ea4e-4779-9bdb-8cceed79c506': ['d32f0e2b-3ee4-4c90-a316-5e3c00f8bd66'], '842a10aa-a348-451c-99ce-86cd38fcb9b4': ['d32f0e2b-3ee4-4c90-a316-5e3c00f8bd66'], 'fc4b41b8-647f-438e-b0ed-d069219120d0': ['b06f0f08-d3a4-40c7-bbd9-bded71f1b209'], 'cfb0b83e-889d-4ffa-8dc7-76ea175924d4': ['b06f0f08-d3a4-40c7-bbd9-bded71f1b209'], '3b211d4d-3e56-4cce-9b8d-15048098dd5a': ['d2830160-9e98-4557-960b-9b096a5fb958'], 'a4cf07b7-5550-49b3-98d1-983cbad5edec': ['d2830160-9e98-4557-960b-9b096a5fb958']}, mode='text')"
      ]
     },
     "execution_count": 61,
     "metadata": {},
     "output_type": "execute_result"
    }
   ],
   "source": [
    "qa_dataset"
   ]
  },
  {
   "cell_type": "markdown",
   "id": "a09b9f68",
   "metadata": {},
   "source": [
    "# EVAL CODE"
   ]
  },
  {
   "cell_type": "code",
   "execution_count": 19,
   "id": "75494d89",
   "metadata": {},
   "outputs": [
    {
     "name": "stdout",
     "output_type": "stream",
     "text": [
      "Requirement already satisfied: llama-index[evaluation] in /home/luhj/miniconda3/envs/test/lib/python3.10/site-packages (0.12.5)\n",
      "\u001b[33mWARNING: llama-index 0.12.5 does not provide the extra 'evaluation'\u001b[0m\u001b[33m\n",
      "\u001b[0mRequirement already satisfied: llama-index-agent-openai<0.5.0,>=0.4.0 in /home/luhj/miniconda3/envs/test/lib/python3.10/site-packages (from llama-index[evaluation]) (0.4.0)\n",
      "Requirement already satisfied: llama-index-cli<0.5.0,>=0.4.0 in /home/luhj/miniconda3/envs/test/lib/python3.10/site-packages (from llama-index[evaluation]) (0.4.0)\n",
      "Requirement already satisfied: llama-index-core<0.13.0,>=0.12.5 in /home/luhj/miniconda3/envs/test/lib/python3.10/site-packages (from llama-index[evaluation]) (0.12.5)\n",
      "Requirement already satisfied: llama-index-embeddings-openai<0.4.0,>=0.3.0 in /home/luhj/miniconda3/envs/test/lib/python3.10/site-packages (from llama-index[evaluation]) (0.3.1)\n",
      "Requirement already satisfied: llama-index-indices-managed-llama-cloud>=0.4.0 in /home/luhj/miniconda3/envs/test/lib/python3.10/site-packages (from llama-index[evaluation]) (0.6.3)\n",
      "Requirement already satisfied: llama-index-legacy<0.10.0,>=0.9.48 in /home/luhj/miniconda3/envs/test/lib/python3.10/site-packages (from llama-index[evaluation]) (0.9.48.post4)\n",
      "Requirement already satisfied: llama-index-llms-openai<0.4.0,>=0.3.0 in /home/luhj/miniconda3/envs/test/lib/python3.10/site-packages (from llama-index[evaluation]) (0.3.8)\n",
      "Requirement already satisfied: llama-index-multi-modal-llms-openai<0.5.0,>=0.4.0 in /home/luhj/miniconda3/envs/test/lib/python3.10/site-packages (from llama-index[evaluation]) (0.4.0)\n",
      "Requirement already satisfied: llama-index-program-openai<0.4.0,>=0.3.0 in /home/luhj/miniconda3/envs/test/lib/python3.10/site-packages (from llama-index[evaluation]) (0.3.1)\n",
      "Requirement already satisfied: llama-index-question-gen-openai<0.4.0,>=0.3.0 in /home/luhj/miniconda3/envs/test/lib/python3.10/site-packages (from llama-index[evaluation]) (0.3.0)\n",
      "Requirement already satisfied: llama-index-readers-file<0.5.0,>=0.4.0 in /home/luhj/miniconda3/envs/test/lib/python3.10/site-packages (from llama-index[evaluation]) (0.4.1)\n",
      "Requirement already satisfied: llama-index-readers-llama-parse>=0.4.0 in /home/luhj/miniconda3/envs/test/lib/python3.10/site-packages (from llama-index[evaluation]) (0.4.0)\n",
      "Requirement already satisfied: nltk>3.8.1 in /home/luhj/miniconda3/envs/test/lib/python3.10/site-packages (from llama-index[evaluation]) (3.9.1)\n",
      "Requirement already satisfied: openai>=1.14.0 in /home/luhj/miniconda3/envs/test/lib/python3.10/site-packages (from llama-index-agent-openai<0.5.0,>=0.4.0->llama-index[evaluation]) (1.57.2)\n",
      "Requirement already satisfied: PyYAML>=6.0.1 in /home/luhj/miniconda3/envs/test/lib/python3.10/site-packages (from llama-index-core<0.13.0,>=0.12.5->llama-index[evaluation]) (6.0.2)\n",
      "Requirement already satisfied: SQLAlchemy>=1.4.49 in /home/luhj/miniconda3/envs/test/lib/python3.10/site-packages (from SQLAlchemy[asyncio]>=1.4.49->llama-index-core<0.13.0,>=0.12.5->llama-index[evaluation]) (2.0.36)\n",
      "Requirement already satisfied: aiohttp<4.0.0,>=3.8.6 in /home/luhj/miniconda3/envs/test/lib/python3.10/site-packages (from llama-index-core<0.13.0,>=0.12.5->llama-index[evaluation]) (3.11.10)\n",
      "Requirement already satisfied: dataclasses-json in /home/luhj/miniconda3/envs/test/lib/python3.10/site-packages (from llama-index-core<0.13.0,>=0.12.5->llama-index[evaluation]) (0.6.7)\n",
      "Requirement already satisfied: deprecated>=1.2.9.3 in /home/luhj/miniconda3/envs/test/lib/python3.10/site-packages (from llama-index-core<0.13.0,>=0.12.5->llama-index[evaluation]) (1.2.15)\n",
      "Requirement already satisfied: dirtyjson<2.0.0,>=1.0.8 in /home/luhj/miniconda3/envs/test/lib/python3.10/site-packages (from llama-index-core<0.13.0,>=0.12.5->llama-index[evaluation]) (1.0.8)\n",
      "Requirement already satisfied: filetype<2.0.0,>=1.2.0 in /home/luhj/miniconda3/envs/test/lib/python3.10/site-packages (from llama-index-core<0.13.0,>=0.12.5->llama-index[evaluation]) (1.2.0)\n",
      "Requirement already satisfied: fsspec>=2023.5.0 in /home/luhj/miniconda3/envs/test/lib/python3.10/site-packages (from llama-index-core<0.13.0,>=0.12.5->llama-index[evaluation]) (2024.10.0)\n",
      "Requirement already satisfied: httpx in /home/luhj/miniconda3/envs/test/lib/python3.10/site-packages (from llama-index-core<0.13.0,>=0.12.5->llama-index[evaluation]) (0.27.2)\n",
      "Requirement already satisfied: nest-asyncio<2.0.0,>=1.5.8 in /home/luhj/miniconda3/envs/test/lib/python3.10/site-packages (from llama-index-core<0.13.0,>=0.12.5->llama-index[evaluation]) (1.6.0)\n",
      "Requirement already satisfied: networkx>=3.0 in /home/luhj/miniconda3/envs/test/lib/python3.10/site-packages (from llama-index-core<0.13.0,>=0.12.5->llama-index[evaluation]) (3.4.2)\n",
      "Requirement already satisfied: numpy in /home/luhj/miniconda3/envs/test/lib/python3.10/site-packages (from llama-index-core<0.13.0,>=0.12.5->llama-index[evaluation]) (2.2.0)\n",
      "Requirement already satisfied: pillow>=9.0.0 in /home/luhj/miniconda3/envs/test/lib/python3.10/site-packages (from llama-index-core<0.13.0,>=0.12.5->llama-index[evaluation]) (11.0.0)\n",
      "Requirement already satisfied: pydantic>=2.8.0 in /home/luhj/miniconda3/envs/test/lib/python3.10/site-packages (from llama-index-core<0.13.0,>=0.12.5->llama-index[evaluation]) (2.10.3)\n",
      "Requirement already satisfied: requests>=2.31.0 in /home/luhj/miniconda3/envs/test/lib/python3.10/site-packages (from llama-index-core<0.13.0,>=0.12.5->llama-index[evaluation]) (2.32.3)\n",
      "Requirement already satisfied: tenacity!=8.4.0,<10.0.0,>=8.2.0 in /home/luhj/miniconda3/envs/test/lib/python3.10/site-packages (from llama-index-core<0.13.0,>=0.12.5->llama-index[evaluation]) (8.5.0)\n",
      "Requirement already satisfied: tiktoken>=0.3.3 in /home/luhj/miniconda3/envs/test/lib/python3.10/site-packages (from llama-index-core<0.13.0,>=0.12.5->llama-index[evaluation]) (0.8.0)\n",
      "Requirement already satisfied: tqdm<5.0.0,>=4.66.1 in /home/luhj/miniconda3/envs/test/lib/python3.10/site-packages (from llama-index-core<0.13.0,>=0.12.5->llama-index[evaluation]) (4.67.1)\n",
      "Requirement already satisfied: typing-extensions>=4.5.0 in /home/luhj/miniconda3/envs/test/lib/python3.10/site-packages (from llama-index-core<0.13.0,>=0.12.5->llama-index[evaluation]) (4.12.2)\n",
      "Requirement already satisfied: typing-inspect>=0.8.0 in /home/luhj/miniconda3/envs/test/lib/python3.10/site-packages (from llama-index-core<0.13.0,>=0.12.5->llama-index[evaluation]) (0.9.0)\n",
      "Requirement already satisfied: wrapt in /home/luhj/miniconda3/envs/test/lib/python3.10/site-packages (from llama-index-core<0.13.0,>=0.12.5->llama-index[evaluation]) (1.17.0)\n",
      "Requirement already satisfied: llama-cloud>=0.1.5 in /home/luhj/miniconda3/envs/test/lib/python3.10/site-packages (from llama-index-indices-managed-llama-cloud>=0.4.0->llama-index[evaluation]) (0.1.6)\n",
      "Requirement already satisfied: pandas in /home/luhj/miniconda3/envs/test/lib/python3.10/site-packages (from llama-index-legacy<0.10.0,>=0.9.48->llama-index[evaluation]) (2.2.3)\n",
      "Requirement already satisfied: beautifulsoup4<5.0.0,>=4.12.3 in /home/luhj/miniconda3/envs/test/lib/python3.10/site-packages (from llama-index-readers-file<0.5.0,>=0.4.0->llama-index[evaluation]) (4.12.3)\n",
      "Requirement already satisfied: pypdf<6.0.0,>=5.1.0 in /home/luhj/miniconda3/envs/test/lib/python3.10/site-packages (from llama-index-readers-file<0.5.0,>=0.4.0->llama-index[evaluation]) (5.1.0)\n",
      "Requirement already satisfied: striprtf<0.0.27,>=0.0.26 in /home/luhj/miniconda3/envs/test/lib/python3.10/site-packages (from llama-index-readers-file<0.5.0,>=0.4.0->llama-index[evaluation]) (0.0.26)\n",
      "Requirement already satisfied: llama-parse>=0.5.0 in /home/luhj/miniconda3/envs/test/lib/python3.10/site-packages (from llama-index-readers-llama-parse>=0.4.0->llama-index[evaluation]) (0.5.17)\n",
      "Requirement already satisfied: click in /home/luhj/miniconda3/envs/test/lib/python3.10/site-packages (from nltk>3.8.1->llama-index[evaluation]) (8.1.7)\n",
      "Requirement already satisfied: joblib in /home/luhj/miniconda3/envs/test/lib/python3.10/site-packages (from nltk>3.8.1->llama-index[evaluation]) (1.4.2)\n",
      "Requirement already satisfied: regex>=2021.8.3 in /home/luhj/miniconda3/envs/test/lib/python3.10/site-packages (from nltk>3.8.1->llama-index[evaluation]) (2024.11.6)\n",
      "Requirement already satisfied: aiohappyeyeballs>=2.3.0 in /home/luhj/miniconda3/envs/test/lib/python3.10/site-packages (from aiohttp<4.0.0,>=3.8.6->llama-index-core<0.13.0,>=0.12.5->llama-index[evaluation]) (2.4.4)\n",
      "Requirement already satisfied: aiosignal>=1.1.2 in /home/luhj/miniconda3/envs/test/lib/python3.10/site-packages (from aiohttp<4.0.0,>=3.8.6->llama-index-core<0.13.0,>=0.12.5->llama-index[evaluation]) (1.3.1)\n",
      "Requirement already satisfied: async-timeout<6.0,>=4.0 in /home/luhj/miniconda3/envs/test/lib/python3.10/site-packages (from aiohttp<4.0.0,>=3.8.6->llama-index-core<0.13.0,>=0.12.5->llama-index[evaluation]) (5.0.1)\n",
      "Requirement already satisfied: attrs>=17.3.0 in /home/luhj/miniconda3/envs/test/lib/python3.10/site-packages (from aiohttp<4.0.0,>=3.8.6->llama-index-core<0.13.0,>=0.12.5->llama-index[evaluation]) (24.2.0)\n",
      "Requirement already satisfied: frozenlist>=1.1.1 in /home/luhj/miniconda3/envs/test/lib/python3.10/site-packages (from aiohttp<4.0.0,>=3.8.6->llama-index-core<0.13.0,>=0.12.5->llama-index[evaluation]) (1.5.0)\n",
      "Requirement already satisfied: multidict<7.0,>=4.5 in /home/luhj/miniconda3/envs/test/lib/python3.10/site-packages (from aiohttp<4.0.0,>=3.8.6->llama-index-core<0.13.0,>=0.12.5->llama-index[evaluation]) (6.1.0)\n",
      "Requirement already satisfied: propcache>=0.2.0 in /home/luhj/miniconda3/envs/test/lib/python3.10/site-packages (from aiohttp<4.0.0,>=3.8.6->llama-index-core<0.13.0,>=0.12.5->llama-index[evaluation]) (0.2.1)\n",
      "Requirement already satisfied: yarl<2.0,>=1.17.0 in /home/luhj/miniconda3/envs/test/lib/python3.10/site-packages (from aiohttp<4.0.0,>=3.8.6->llama-index-core<0.13.0,>=0.12.5->llama-index[evaluation]) (1.18.3)\n",
      "Requirement already satisfied: soupsieve>1.2 in /home/luhj/miniconda3/envs/test/lib/python3.10/site-packages (from beautifulsoup4<5.0.0,>=4.12.3->llama-index-readers-file<0.5.0,>=0.4.0->llama-index[evaluation]) (2.6)\n",
      "Requirement already satisfied: anyio in /home/luhj/miniconda3/envs/test/lib/python3.10/site-packages (from httpx->llama-index-core<0.13.0,>=0.12.5->llama-index[evaluation]) (4.7.0)\n",
      "Requirement already satisfied: certifi in /home/luhj/miniconda3/envs/test/lib/python3.10/site-packages (from httpx->llama-index-core<0.13.0,>=0.12.5->llama-index[evaluation]) (2024.8.30)\n",
      "Requirement already satisfied: httpcore==1.* in /home/luhj/miniconda3/envs/test/lib/python3.10/site-packages (from httpx->llama-index-core<0.13.0,>=0.12.5->llama-index[evaluation]) (1.0.7)\n",
      "Requirement already satisfied: idna in /home/luhj/miniconda3/envs/test/lib/python3.10/site-packages (from httpx->llama-index-core<0.13.0,>=0.12.5->llama-index[evaluation]) (3.10)\n",
      "Requirement already satisfied: sniffio in /home/luhj/miniconda3/envs/test/lib/python3.10/site-packages (from httpx->llama-index-core<0.13.0,>=0.12.5->llama-index[evaluation]) (1.3.1)\n",
      "Requirement already satisfied: h11<0.15,>=0.13 in /home/luhj/miniconda3/envs/test/lib/python3.10/site-packages (from httpcore==1.*->httpx->llama-index-core<0.13.0,>=0.12.5->llama-index[evaluation]) (0.14.0)\n",
      "Requirement already satisfied: distro<2,>=1.7.0 in /home/luhj/miniconda3/envs/test/lib/python3.10/site-packages (from openai>=1.14.0->llama-index-agent-openai<0.5.0,>=0.4.0->llama-index[evaluation]) (1.9.0)\n",
      "Requirement already satisfied: jiter<1,>=0.4.0 in /home/luhj/miniconda3/envs/test/lib/python3.10/site-packages (from openai>=1.14.0->llama-index-agent-openai<0.5.0,>=0.4.0->llama-index[evaluation]) (0.8.2)\n",
      "Requirement already satisfied: annotated-types>=0.6.0 in /home/luhj/miniconda3/envs/test/lib/python3.10/site-packages (from pydantic>=2.8.0->llama-index-core<0.13.0,>=0.12.5->llama-index[evaluation]) (0.7.0)\n",
      "Requirement already satisfied: pydantic-core==2.27.1 in /home/luhj/miniconda3/envs/test/lib/python3.10/site-packages (from pydantic>=2.8.0->llama-index-core<0.13.0,>=0.12.5->llama-index[evaluation]) (2.27.1)\n",
      "Requirement already satisfied: charset-normalizer<4,>=2 in /home/luhj/miniconda3/envs/test/lib/python3.10/site-packages (from requests>=2.31.0->llama-index-core<0.13.0,>=0.12.5->llama-index[evaluation]) (3.4.0)\n",
      "Requirement already satisfied: urllib3<3,>=1.21.1 in /home/luhj/miniconda3/envs/test/lib/python3.10/site-packages (from requests>=2.31.0->llama-index-core<0.13.0,>=0.12.5->llama-index[evaluation]) (2.2.3)\n",
      "Requirement already satisfied: greenlet!=0.4.17 in /home/luhj/miniconda3/envs/test/lib/python3.10/site-packages (from SQLAlchemy>=1.4.49->SQLAlchemy[asyncio]>=1.4.49->llama-index-core<0.13.0,>=0.12.5->llama-index[evaluation]) (3.1.1)\n",
      "Requirement already satisfied: mypy-extensions>=0.3.0 in /home/luhj/miniconda3/envs/test/lib/python3.10/site-packages (from typing-inspect>=0.8.0->llama-index-core<0.13.0,>=0.12.5->llama-index[evaluation]) (1.0.0)\n",
      "Requirement already satisfied: marshmallow<4.0.0,>=3.18.0 in /home/luhj/miniconda3/envs/test/lib/python3.10/site-packages (from dataclasses-json->llama-index-core<0.13.0,>=0.12.5->llama-index[evaluation]) (3.23.1)\n",
      "Requirement already satisfied: python-dateutil>=2.8.2 in /home/luhj/miniconda3/envs/test/lib/python3.10/site-packages (from pandas->llama-index-legacy<0.10.0,>=0.9.48->llama-index[evaluation]) (2.9.0.post0)\n",
      "Requirement already satisfied: pytz>=2020.1 in /home/luhj/miniconda3/envs/test/lib/python3.10/site-packages (from pandas->llama-index-legacy<0.10.0,>=0.9.48->llama-index[evaluation]) (2024.2)\n",
      "Requirement already satisfied: tzdata>=2022.7 in /home/luhj/miniconda3/envs/test/lib/python3.10/site-packages (from pandas->llama-index-legacy<0.10.0,>=0.9.48->llama-index[evaluation]) (2024.2)\n",
      "Requirement already satisfied: exceptiongroup>=1.0.2 in /home/luhj/miniconda3/envs/test/lib/python3.10/site-packages (from anyio->httpx->llama-index-core<0.13.0,>=0.12.5->llama-index[evaluation]) (1.2.2)\n",
      "Requirement already satisfied: packaging>=17.0 in /home/luhj/miniconda3/envs/test/lib/python3.10/site-packages (from marshmallow<4.0.0,>=3.18.0->dataclasses-json->llama-index-core<0.13.0,>=0.12.5->llama-index[evaluation]) (24.2)\n",
      "Requirement already satisfied: six>=1.5 in /home/luhj/miniconda3/envs/test/lib/python3.10/site-packages (from python-dateutil>=2.8.2->pandas->llama-index-legacy<0.10.0,>=0.9.48->llama-index[evaluation]) (1.17.0)\n"
     ]
    }
   ],
   "source": [
    "! pip install llama-index[evaluation]"
   ]
  },
  {
   "cell_type": "code",
   "execution_count": 40,
   "id": "ff828373",
   "metadata": {},
   "outputs": [],
   "source": [
    "# from llama_index.core.llama_pack import download_llama_pack\n",
    "\n",
    "# RagEvaluatorPack = download_llama_pack(\"RagEvaluatorPack\", \"./pack\")\n",
    "\n",
    "# rag_evaluator = RagEvaluatorPack(\n",
    "#     query_engine=hybrid_query_engine,  # built with the same source Documents as the rag_dataset\n",
    "#     rag_dataset=rag_dataset,\n",
    "#     embed_model=embed_model,\n",
    "#     judge_llm=Ollama(model=\"llama3.1:8b-instruct-fp16\", request_timeout=360.0, temperature=0.2, max_tokens=2048)\n",
    "# )\n",
    "# benchmark_df = await rag_evaluator.run()\n",
    "\n",
    "from llama_index.core.evaluation import RetrieverEvaluator\n",
    "\n",
    "retriever_evaluator = RetrieverEvaluator.from_metric_names(\n",
    "    [\"mrr\", \"hit_rate\"], retriever=hybrid_retriever\n",
    ")"
   ]
  },
  {
   "cell_type": "code",
   "execution_count": 41,
   "id": "841f9911",
   "metadata": {},
   "outputs": [],
   "source": [
    "eval_results = await retriever_evaluator.aevaluate_dataset(qa_dataset)"
   ]
  },
  {
   "cell_type": "code",
   "execution_count": 57,
   "id": "35aed9a0",
   "metadata": {},
   "outputs": [
    {
     "data": {
      "text/plain": [
       "68"
      ]
     },
     "execution_count": 57,
     "metadata": {},
     "output_type": "execute_result"
    }
   ],
   "source": [
    "len(eval_results)"
   ]
  },
  {
   "cell_type": "code",
   "execution_count": 42,
   "id": "6b6b6d01",
   "metadata": {},
   "outputs": [],
   "source": [
    "import pandas as pd\n",
    "def display_results(name, eval_results):\n",
    "    \"\"\"Display results from evaluate.\"\"\"\n",
    "\n",
    "    metric_dicts = []\n",
    "    for eval_result in eval_results:\n",
    "        metric_dict = eval_result.metric_vals_dict\n",
    "        metric_dicts.append(metric_dict)\n",
    "\n",
    "    full_df = pd.DataFrame(metric_dicts)\n",
    "\n",
    "    hit_rate = full_df[\"hit_rate\"].mean()\n",
    "    mrr = full_df[\"mrr\"].mean()\n",
    "\n",
    "    metric_df = pd.DataFrame(\n",
    "        {\"Retriever Name\": [name], \"Hit Rate\": [hit_rate], \"MRR\": [mrr]}\n",
    "    )\n",
    "\n",
    "    return metric_df"
   ]
  },
  {
   "cell_type": "code",
   "execution_count": 44,
   "id": "0e4f21ff",
   "metadata": {},
   "outputs": [
    {
     "data": {
      "text/html": [
       "<div>\n",
       "<style scoped>\n",
       "    .dataframe tbody tr th:only-of-type {\n",
       "        vertical-align: middle;\n",
       "    }\n",
       "\n",
       "    .dataframe tbody tr th {\n",
       "        vertical-align: top;\n",
       "    }\n",
       "\n",
       "    .dataframe thead th {\n",
       "        text-align: right;\n",
       "    }\n",
       "</style>\n",
       "<table border=\"1\" class=\"dataframe\">\n",
       "  <thead>\n",
       "    <tr style=\"text-align: right;\">\n",
       "      <th></th>\n",
       "      <th>Retriever Name</th>\n",
       "      <th>Hit Rate</th>\n",
       "      <th>MRR</th>\n",
       "    </tr>\n",
       "  </thead>\n",
       "  <tbody>\n",
       "    <tr>\n",
       "      <th>0</th>\n",
       "      <td>LLAMA 3.1</td>\n",
       "      <td>0.0</td>\n",
       "      <td>0.0</td>\n",
       "    </tr>\n",
       "  </tbody>\n",
       "</table>\n",
       "</div>"
      ],
      "text/plain": [
       "  Retriever Name  Hit Rate  MRR\n",
       "0      LLAMA 3.1       0.0  0.0"
      ]
     },
     "execution_count": 44,
     "metadata": {},
     "output_type": "execute_result"
    }
   ],
   "source": [
    "display_results(\"LLAMA 3.1\", eval_results)"
   ]
  },
  {
   "cell_type": "code",
   "execution_count": 46,
   "id": "86fc64ea",
   "metadata": {},
   "outputs": [],
   "source": [
    "queries = list(qa_dataset.queries.values())"
   ]
  },
  {
   "cell_type": "code",
   "execution_count": 47,
   "id": "3e245a11",
   "metadata": {},
   "outputs": [
    {
     "data": {
      "text/plain": [
       "['Here are two questions based on the context information:',\n",
       " '**Question 1: Multiple Choice**',\n",
       " 'Here are two questions based on the context information:',\n",
       " '**Question 1: Multiple Choice**',\n",
       " 'Here are two questions for the quiz/examination:',\n",
       " '**Question 1: Multiple Choice**',\n",
       " 'Here are two questions based on the context information:',\n",
       " '**Question 1: Multiple Choice**',\n",
       " 'Here are two questions based on the context information:',\n",
       " '**Question 1: Factual Recall**',\n",
       " 'Here are two questions based on the context information:',\n",
       " '**Question 1: Multiple Choice**',\n",
       " 'Here are two questions based on the context information:',\n",
       " '**Question 1: Multiple Choice**',\n",
       " 'Here are two questions based on the context information:',\n",
       " '**Question 1: Multiple Choice**',\n",
       " 'Here are two questions based on the context information:',\n",
       " '**Question 1: Historical Event**',\n",
       " 'Here are two questions for the quiz/examination:',\n",
       " '**Question 1: Historical Event**',\n",
       " 'Here are two questions based on the context information:',\n",
       " '**Question 1: Multiple Choice**',\n",
       " 'Here are two questions for the quiz/examination:',\n",
       " '**Question 1: Multiple Choice**',\n",
       " 'Here are two questions for the quiz/examination:',\n",
       " '**Question 1:**',\n",
       " 'Here are two questions based on the context information:',\n",
       " '**Question 1: Factual Recall**',\n",
       " 'Here are two questions based on the context information:',\n",
       " '**Question 1:**',\n",
       " 'Here are two questions for the quiz/examination:',\n",
       " '**Question 1:**',\n",
       " 'Here are two questions based on the given context:',\n",
       " '**Question 1: Multiple Choice**',\n",
       " 'Here are two questions based on the context information:',\n",
       " '**Question 1: Multiple Choice**',\n",
       " 'Here are two questions based on the context information:',\n",
       " '**Question 1: Multiple Choice**',\n",
       " 'Here are two questions based on the context information:',\n",
       " '**Question 1: Multiple Choice**',\n",
       " 'Here are two questions for the quiz/examination:',\n",
       " '**Question 1: Multiple Choice**',\n",
       " 'Here are two questions based on the context information:',\n",
       " '**Question 1: Multiple Choice**',\n",
       " 'Here are two questions based on the context information:',\n",
       " '**Question 1: Multiple Choice**',\n",
       " 'Here are two questions based on the context information:',\n",
       " '**Question 1: Multiple Choice**',\n",
       " 'Here are two questions based on the context information:',\n",
       " '**Question 1: Multiple Choice**',\n",
       " 'Here are two questions for the quiz/examination:',\n",
       " '**Question 1: Multiple Choice**',\n",
       " 'Here are two questions based on the provided context:',\n",
       " '**Question 1**',\n",
       " 'Here are two questions based on the given context:',\n",
       " '**Question 1: Multiple Choice**',\n",
       " 'Here are two questions based on the context information:',\n",
       " '**Question 1: Multiple Choice**',\n",
       " 'Here are two questions for the quiz/examination:',\n",
       " '**Question 1: Multiple Choice**',\n",
       " 'Here are two questions for the quiz/examination:',\n",
       " '**Question 1**',\n",
       " 'Here are two questions for the quiz/examination:',\n",
       " '**Question 1**',\n",
       " 'Here are two questions for the quiz/examination:',\n",
       " '**Question 1: Historical Context**',\n",
       " 'Here are two questions for the quiz/examination:',\n",
       " '**Question 1: Multiple Choice**']"
      ]
     },
     "execution_count": 47,
     "metadata": {},
     "output_type": "execute_result"
    }
   ],
   "source": [
    "queries"
   ]
  },
  {
   "cell_type": "code",
   "execution_count": null,
   "id": "5be1bd2a",
   "metadata": {},
   "outputs": [
    {
     "ename": "ValueError",
     "evalue": "ServiceContext is deprecated. Use llama_index.settings.Settings instead, or pass in modules to local functions/methods/interfaces.\nSee the docs for updated usage/migration: \nhttps://docs.llamaindex.ai/en/stable/module_guides/supporting_modules/service_context_migration/",
     "output_type": "error",
     "traceback": [
      "\u001b[0;31m---------------------------------------------------------------------------\u001b[0m",
      "\u001b[0;31mValueError\u001b[0m                                Traceback (most recent call last)",
      "Cell \u001b[0;32mIn[49], line 3\u001b[0m\n\u001b[1;32m      1\u001b[0m \u001b[38;5;28;01mfrom\u001b[39;00m \u001b[38;5;21;01mllama_index\u001b[39;00m\u001b[38;5;21;01m.\u001b[39;00m\u001b[38;5;21;01mcore\u001b[39;00m \u001b[38;5;28;01mimport\u001b[39;00m ServiceContext\n\u001b[1;32m      2\u001b[0m deepseek \u001b[38;5;241m=\u001b[39m Ollama(model\u001b[38;5;241m=\u001b[39m\u001b[38;5;124m\"\u001b[39m\u001b[38;5;124mdeepseek-r1:32b  \u001b[39m\u001b[38;5;124m\"\u001b[39m, request_timeout\u001b[38;5;241m=\u001b[39m\u001b[38;5;241m360.0\u001b[39m, temperature\u001b[38;5;241m=\u001b[39m\u001b[38;5;241m0.2\u001b[39m, max_tokens\u001b[38;5;241m=\u001b[39m\u001b[38;5;241m2048\u001b[39m)\n\u001b[0;32m----> 3\u001b[0m service_context_deepseek \u001b[38;5;241m=\u001b[39m \u001b[43mServiceContext\u001b[49m\u001b[38;5;241;43m.\u001b[39;49m\u001b[43mfrom_defaults\u001b[49m\u001b[43m(\u001b[49m\u001b[43mllm\u001b[49m\u001b[38;5;241;43m=\u001b[39;49m\u001b[43mdeepseek\u001b[49m\u001b[43m)\u001b[49m\n",
      "File \u001b[0;32m~/miniconda3/envs/test/lib/python3.10/site-packages/llama_index/core/service_context.py:31\u001b[0m, in \u001b[0;36mServiceContext.from_defaults\u001b[0;34m(cls, **kwargs)\u001b[0m\n\u001b[1;32m     20\u001b[0m \u001b[38;5;129m@classmethod\u001b[39m\n\u001b[1;32m     21\u001b[0m \u001b[38;5;28;01mdef\u001b[39;00m \u001b[38;5;21mfrom_defaults\u001b[39m(\n\u001b[1;32m     22\u001b[0m     \u001b[38;5;28mcls\u001b[39m,\n\u001b[1;32m     23\u001b[0m     \u001b[38;5;241m*\u001b[39m\u001b[38;5;241m*\u001b[39mkwargs: Any,\n\u001b[1;32m     24\u001b[0m ) \u001b[38;5;241m-\u001b[39m\u001b[38;5;241m>\u001b[39m \u001b[38;5;124m\"\u001b[39m\u001b[38;5;124mServiceContext\u001b[39m\u001b[38;5;124m\"\u001b[39m:\n\u001b[1;32m     25\u001b[0m \u001b[38;5;250m    \u001b[39m\u001b[38;5;124;03m\"\"\"Create a ServiceContext from defaults.\u001b[39;00m\n\u001b[1;32m     26\u001b[0m \n\u001b[1;32m     27\u001b[0m \u001b[38;5;124;03m    NOTE: Deprecated, use llama_index.settings.Settings instead or pass in\u001b[39;00m\n\u001b[1;32m     28\u001b[0m \u001b[38;5;124;03m    modules to local functions/methods/interfaces.\u001b[39;00m\n\u001b[1;32m     29\u001b[0m \n\u001b[1;32m     30\u001b[0m \u001b[38;5;124;03m    \"\"\"\u001b[39;00m\n\u001b[0;32m---> 31\u001b[0m     \u001b[38;5;28;01mraise\u001b[39;00m \u001b[38;5;167;01mValueError\u001b[39;00m(\n\u001b[1;32m     32\u001b[0m         \u001b[38;5;124m\"\u001b[39m\u001b[38;5;124mServiceContext is deprecated. Use llama_index.settings.Settings instead, \u001b[39m\u001b[38;5;124m\"\u001b[39m\n\u001b[1;32m     33\u001b[0m         \u001b[38;5;124m\"\u001b[39m\u001b[38;5;124mor pass in modules to local functions/methods/interfaces.\u001b[39m\u001b[38;5;130;01m\\n\u001b[39;00m\u001b[38;5;124m\"\u001b[39m\n\u001b[1;32m     34\u001b[0m         \u001b[38;5;124m\"\u001b[39m\u001b[38;5;124mSee the docs for updated usage/migration: \u001b[39m\u001b[38;5;130;01m\\n\u001b[39;00m\u001b[38;5;124m\"\u001b[39m\n\u001b[1;32m     35\u001b[0m         \u001b[38;5;124m\"\u001b[39m\u001b[38;5;124mhttps://docs.llamaindex.ai/en/stable/module_guides/supporting_modules/service_context_migration/\u001b[39m\u001b[38;5;124m\"\u001b[39m\n\u001b[1;32m     36\u001b[0m     )\n",
      "\u001b[0;31mValueError\u001b[0m: ServiceContext is deprecated. Use llama_index.settings.Settings instead, or pass in modules to local functions/methods/interfaces.\nSee the docs for updated usage/migration: \nhttps://docs.llamaindex.ai/en/stable/module_guides/supporting_modules/service_context_migration/"
     ]
    }
   ],
   "source": [
    "from llama_index.core import ServiceContext\n",
    "deepseek = Ollama(model=\"deepseek-r1:32b  \", temperature=0.2)\n",
    "service_context_deepseek = ServiceContext.from_defaults(llm=deepseek)"
   ]
  },
  {
   "cell_type": "code",
   "execution_count": null,
   "id": "e75cc5b0",
   "metadata": {},
   "outputs": [],
   "source": [
    "from llama_index.core.evaluation import FaithfulnessEvaluator\n",
    "faithfulness_deepseek = FaithfulnessEvaluator(service_context=service_context_deepseek)"
   ]
  },
  {
   "cell_type": "code",
   "execution_count": null,
   "id": "b31de790",
   "metadata": {},
   "outputs": [],
   "source": [
    "eval_query = queries[10]"
   ]
  },
  {
   "cell_type": "code",
   "execution_count": null,
   "id": "60210d11",
   "metadata": {},
   "outputs": [],
   "source": [
    "response_vector = hybrid_query_engine.query(eval_query)"
   ]
  },
  {
   "cell_type": "code",
   "execution_count": null,
   "id": "7004e652",
   "metadata": {},
   "outputs": [],
   "source": [
    "eval_result = faithfulness_deepseek.evaluate_response(response=response_vector)"
   ]
  },
  {
   "cell_type": "code",
   "execution_count": null,
   "id": "9b912b37",
   "metadata": {},
   "outputs": [],
   "source": [
    "eval_result.passing"
   ]
  }
 ],
 "metadata": {
  "kernelspec": {
   "display_name": "test",
   "language": "python",
   "name": "python3"
  },
  "language_info": {
   "codemirror_mode": {
    "name": "ipython",
    "version": 3
   },
   "file_extension": ".py",
   "mimetype": "text/x-python",
   "name": "python",
   "nbconvert_exporter": "python",
   "pygments_lexer": "ipython3",
   "version": "3.10.15"
  }
 },
 "nbformat": 4,
 "nbformat_minor": 5
}
