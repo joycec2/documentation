{
 "cells": [
  {
   "cell_type": "code",
   "execution_count": 1,
   "metadata": {},
   "outputs": [],
   "source": [
    "from IPython.display import Markdown, display"
   ]
  },
  {
   "cell_type": "code",
   "execution_count": 2,
   "metadata": {},
   "outputs": [],
   "source": [
    "# install package\n",
    "# ! pip install -U langchain-ollama"
   ]
  },
  {
   "cell_type": "code",
   "execution_count": 13,
   "metadata": {},
   "outputs": [],
   "source": [
    "from langchain_ollama.llms import OllamaLLM\n",
    "from langchain_ollama import ChatOllama"
   ]
  },
  {
   "cell_type": "code",
   "execution_count": 20,
   "metadata": {},
   "outputs": [],
   "source": [
    "deepseek_32b = ChatOllama(model=\"deepseek-r1:32b\", request_timeout=360.0, temperature=0.2)\n",
    "deepseek_8b = OllamaLLM(model=\"deepseek-r1:8b-llama-distill-fp16\", request_timeout=360.0, temperature=0.2)\n",
    "deepseek_14b = ChatOllama(model=\"deepseek-r1:14b-qwen-distill-fp16\", request_timeout=360.0, temperature=0.2)"
   ]
  },
  {
   "cell_type": "code",
   "execution_count": null,
   "metadata": {},
   "outputs": [],
   "source": [
    "from langchain_core.prompts import PromptTemplate\n",
    "\n",
    "reasoning_prompt_str = \"\"\"\n",
    "You are a football scouting and analytics assistant working for a professional football team in NFL.\n",
    "Given the abbreviation for positions and teams:\n",
    "1. Positions: QB, RB, FB, WR, TE, OT, OG, C, DT, DE, LB, CB, DB, S, K, P;\n",
    "2. Teams: \"LA\" is the Rams, \"LAC\" are the Chargers. ARZ, ATL, BAL, BUF, CAR, CHI, CIN, CLE, DAL, DEN, DET, GB, HOU, IND, JAC, KC, LA, LAC, MIA, MIN, NE, NO, NYG, NYJ, LV, PHI, PIT, SEA, SF, TB, TEN, WAS;\n",
    "Please write down a list of sub questions to help the scouts and analysts to get all information when your football general manager ask \"{query_str}\".  \n",
    "\n",
    "You must follow these strict rules:\n",
    "1. If the question is complicated please break it into several sub questions. \n",
    "2. Output ONLY the questions without any other texts, explanations or answers.\n",
    "3. Output questions MUST contain specific teams name and player's position given previously.\n",
    "4. Use numbered list for each question.\n",
    "5. Mention about the team, the position, the date in each question.\n",
    "\n",
    "Answer: Let's think step by step.\n",
    "\"\"\"\n",
    "reasoning_prompt = PromptTemplate(input_variables=\"query_str\", template=reasoning_prompt_str)"
   ]
  },
  {
   "cell_type": "code",
   "execution_count": 27,
   "metadata": {},
   "outputs": [],
   "source": [
    "chain = reasoning_prompt | deepseek_32b"
   ]
  },
  {
   "cell_type": "code",
   "execution_count": 32,
   "metadata": {},
   "outputs": [],
   "source": [
    "query = \"What's going on with Baltimore Ravens special team in December 2024?\"\n",
    "result = chain.invoke({\"query_str\": query})"
   ]
  },
  {
   "cell_type": "code",
   "execution_count": 33,
   "metadata": {},
   "outputs": [
    {
     "data": {
      "text/plain": [
       "\"<think>\\nOkay, so I need to figure out what's going on with the Baltimore Ravens' special teams in December 2024. Hmm, where do I start? Well, first off, I should probably break this down into smaller parts because it's a pretty broad question. Let me think about all the components that make up a team's special teams unit.\\n\\nAlright, so special teams usually involve kickers, punters, returners, and coverage units. Each of these areas can have their own issues or strengths. I should probably look at each position individually to get a comprehensive view.\\n\\nStarting with the kicker. The Ravens' kicker is important because they handle field goals and extra points. I wonder how reliable he's been in December 2024. Has he been making his kicks, especially in crucial moments? Also, has there been any consistency in his performance?\\n\\nNext up, the punter. Punting is all about pinning the opponent deep in their territory. So, I should check if the punter has been effective. How's his average per punt? Are they consistently getting good hang time and distance? Any issues with shanked punts or poor placement?\\n\\nThen there are the returners. The kick returner and punt returner are key because they can set up drives with big returns. I need to assess their performance. Have they been making explosive plays, or have they been struggling to get yards? Are there any injuries affecting them?\\n\\nInjuries are a big factor in any team's performance. If the special teams unit has had players injured, that could explain drops in performance. So, checking for injury reports among kickers, punters, and returners would be important.\\n\\nCoaching is another aspect. The special teams coach plays a significant role in strategy and execution. Have there been any changes in coaching? How's the current coach handling the unit? Are they implementing effective strategies?\\n\\nOpponent adjustments could also impact performance. Teams might adjust their game plans to counter the Ravens' special teams. So, have the Ravens faced any specific challenges from opponents this month? How are they adapting to these changes?\\n\\nLooking at key games in December 2024 would help identify trends or standout performances. Are there particular games where the special teams stood out or underperformed? What were the outcomes of those games?\\n\\nLastly, overall performance metrics like field goal percentage, punting averages, and return yards can give a clear picture of how the unit is doing statistically. Comparing these stats to previous months or league averages could highlight improvements or declines.\\n\\nPutting it all together, I think breaking down each component—kickers, punters, returners, injuries, coaching, opponent adjustments, key games, and overall performance—will provide a thorough analysis of the Ravens' special teams in December 2024. This approach ensures that no stone is left unturned and gives a comprehensive understanding of their situation.\\n</think>\\n\\n1. How has the Baltimore Ravens kicker performed in terms of field goal accuracy and consistency during December 2024?\\n2. What is the performance of the Baltimore Ravens punter, including average yards per punt and consistency, in December 2024?\\n3. How have the kick returners for the Baltimore Ravens been performing in December 2024, particularly in terms of explosiveness and reliability?\\n4. What about the punt returners for the Baltimore Ravens? Have they been effective in generating big plays or contributing to scoring drives this month?\\n5. Are there any injury concerns affecting the special teams unit of the Baltimore Ravens as of December 2024?\\n6. How has the coaching staff, particularly the special teams coach, been handling the unit's performance and strategy during December 2024?\\n7. Have the Baltimore Ravens faced any specific challenges from opposing teams' strategies targeting their special teams in December 2024?\\n8. What have been the key performances or standout moments by the Baltimore Ravens' special teams in recent games of December 2024?\\n9. How do the overall statistics for the Baltimore Ravens' special teams, such as field goal percentage, punting averages, and return yards, compare to previous months and league averages?\""
      ]
     },
     "execution_count": 33,
     "metadata": {},
     "output_type": "execute_result"
    }
   ],
   "source": [
    "result.content"
   ]
  },
  {
   "cell_type": "code",
   "execution_count": 34,
   "metadata": {},
   "outputs": [
    {
     "name": "stdout",
     "output_type": "stream",
     "text": [
      "q1 = \"How has the Baltimore Ravens kicker performed in terms of field goal accuracy and consistency during December 2024?\"\n",
      "q2 = \"What is the performance of the Baltimore Ravens punter, including average yards per punt and consistency, in December 2024?\"\n",
      "q3 = \"How have the kick returners for the Baltimore Ravens been performing in December 2024, particularly in terms of explosiveness and reliability?\"\n",
      "q4 = \"What about the punt returners for the Baltimore Ravens? Have they been effective in generating big plays or contributing to scoring drives this month?\"\n",
      "q5 = \"Are there any injury concerns affecting the special teams unit of the Baltimore Ravens as of December 2024?\"\n",
      "q6 = \"How has the coaching staff, particularly the special teams coach, been handling the unit's performance and strategy during December 2024?\"\n",
      "q7 = \"Have the Baltimore Ravens faced any specific challenges from opposing teams' strategies targeting their special teams in December 2024?\"\n",
      "q8 = \"What have been the key performances or standout moments by the Baltimore Ravens' special teams in recent games of December 2024?\"\n",
      "q9 = \"How do the overall statistics for the Baltimore Ravens' special teams, such as field goal percentage, punting averages, and return yards, compare to previous months and league averages?\"\n"
     ]
    }
   ],
   "source": [
    "import re\n",
    "\n",
    "# Step 1: Extract text after the </think> tag.\n",
    "marker = \"</think>\"\n",
    "idx = result.content.find(marker)\n",
    "after_think = result.content[idx + len(marker):].strip() if idx != -1 else result.content\n",
    "\n",
    "# Step 2: Use a regex pattern to extract numbered questions.\n",
    "pattern = r'\\d+\\.\\s*(.*?)\\s*(?=\\d+\\.|$)'\n",
    "questions = re.findall(pattern, after_think, flags=re.DOTALL)\n",
    "\n",
    "# Step 3: Print out each question.\n",
    "for i, q in enumerate(questions, start=1):\n",
    "    print(f\"q{i} = \\\"{q.strip()}\\\"\")"
   ]
  },
  {
   "cell_type": "code",
   "execution_count": null,
   "metadata": {},
   "outputs": [],
   "source": []
  }
 ],
 "metadata": {
  "kernelspec": {
   "display_name": "test",
   "language": "python",
   "name": "python3"
  },
  "language_info": {
   "codemirror_mode": {
    "name": "ipython",
    "version": 3
   },
   "file_extension": ".py",
   "mimetype": "text/x-python",
   "name": "python",
   "nbconvert_exporter": "python",
   "pygments_lexer": "ipython3",
   "version": "3.10.15"
  }
 },
 "nbformat": 4,
 "nbformat_minor": 2
}
